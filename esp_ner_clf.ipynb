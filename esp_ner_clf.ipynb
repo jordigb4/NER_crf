{
 "cells": [
  {
   "cell_type": "markdown",
   "metadata": {},
   "source": [
    "# <span style=\"font-family:Courier New; color:#CCCCCC\">**Spanish Named Entity Recognition CRF**</span>"
   ]
  },
  {
   "cell_type": "markdown",
   "metadata": {},
   "source": [
    "## <span style=\"font-family:Courier New; color:#336666\">**Load Data and Imports**</span>"
   ]
  },
  {
   "cell_type": "code",
   "execution_count": 11,
   "metadata": {},
   "outputs": [
    {
     "name": "stderr",
     "output_type": "stream",
     "text": [
      "[nltk_data] Downloading package conll2002 to\n",
      "[nltk_data]     C:\\Users\\Jordi\\AppData\\Roaming\\nltk_data...\n",
      "[nltk_data]   Package conll2002 is already up-to-date!\n"
     ]
    }
   ],
   "source": [
    "from preprocessing import convert_BIO\n",
    "from NER_evaluation import *\n",
    "from feature_getter import Feature_getter\n",
    "import pycrfsuite\n",
    "from collections import Counter\n",
    "import pandas as pd\n",
    "\n",
    "import nltk\n",
    "nltk.download('conll2002')\n",
    "from nltk.corpus import conll2002\n",
    "\n",
    "esp_train = conll2002.iob_sents('esp.train')\n",
    "esp_val = conll2002.iob_sents('esp.testa')\n",
    "esp_test = conll2002.iob_sents('esp.testb')"
   ]
  },
  {
   "cell_type": "markdown",
   "metadata": {},
   "source": [
    "## <span style=\"font-family:Courier New; color:#336666\">**Preprocessing Data**</span>"
   ]
  },
  {
   "cell_type": "code",
   "execution_count": 12,
   "metadata": {},
   "outputs": [],
   "source": [
    "esp_train_BIO = convert_BIO(esp_train)\n",
    "esp_val_BIO = convert_BIO(esp_val)\n",
    "esp_test_BIO = convert_BIO(esp_test)\n",
    "\n",
    "X_val_BIO = [[word[0] for word in sent] for sent in esp_val_BIO]\n",
    "y_val_BIO = [[word[1] for word in sent] for sent in esp_val_BIO]\n",
    "X_test_BIO = [[word[0] for word in sent] for sent in esp_test_BIO]\n",
    "y_test_BIO = [[word[1] for word in sent] for sent in esp_test_BIO]"
   ]
  },
  {
   "cell_type": "markdown",
   "metadata": {},
   "source": [
    "## <span style=\"font-family:Courier New; color:#336666\">**Train Classifier**</span>"
   ]
  },
  {
   "cell_type": "code",
   "execution_count": 13,
   "metadata": {},
   "outputs": [],
   "source": [
    "#Summary avaluation table\n",
    "results_df = pd.DataFrame()\n",
    "def save_ent_results(nclf, results, results_agg_ent, df):\n",
    "    df.loc[nclf,'total acc'] = results[\"precision\"]\n",
    "    df.loc[nclf,'total recall'] = results[\"recall\"]\n",
    "    df.loc[nclf,'total F1'] = results[\"F1-score\"]\n",
    "    df.loc[nclf,'PER F1'] = results_agg_ent[\"PER\"][\"F1-score\"]\n",
    "    df.loc[nclf,'ORG F1'] = results_agg_ent[\"ORG\"][\"F1-score\"]\n",
    "    df.loc[nclf,'LOC F1'] = results_agg_ent[\"LOC\"][\"F1-score\"]\n",
    "    df.loc[nclf,'MISC F1'] = results_agg_ent[\"MISC\"][\"F1-score\"]\n",
    "    return df"
   ]
  },
  {
   "cell_type": "markdown",
   "metadata": {},
   "source": [
    "### <span style=\"font-family:Courier New; color:#336633\">**Default Feature Getter**</span>"
   ]
  },
  {
   "cell_type": "markdown",
   "metadata": {},
   "source": [
    "<span style=\"font-family:Courier New\">Feature&Hyperparameter_selection notebook suggests that best hyperparamaters for CRF.Tagger default feature getter are: {'c1': 0.01, 'c2': 0.1, 'max_iterations': 200, 'possible_transitions': True, 'possible_states': True, 'min_freq' = 0}. </span>"
   ]
  },
  {
   "cell_type": "code",
   "execution_count": 14,
   "metadata": {},
   "outputs": [],
   "source": [
    "default_hyperparams = {'c1': 0.01, 'c2': 0.1, 'max_iterations': 200, 'feature.possible_transitions': True,\n",
    "                                            'feature.possible_states': True, 'feature.minfreq': 0}\n",
    "model = nltk.tag.CRFTagger(training_opt = default_hyperparams)\n",
    "model.train(esp_train_BIO, 'models/esp_default_BIO.tagger')"
   ]
  },
  {
   "cell_type": "markdown",
   "metadata": {},
   "source": [
    "#### <span style=\"font-family:Courier New; color:#994C00\">**Evalutation**</span>"
   ]
  },
  {
   "cell_type": "code",
   "execution_count": 15,
   "metadata": {},
   "outputs": [
    {
     "name": "stdout",
     "output_type": "stream",
     "text": [
      "              precision    recall  f1-score   support\n",
      "\n",
      "       B-LOC       0.64      0.78      0.70       984\n",
      "       I-LOC       0.57      0.74      0.64       337\n",
      "      B-MISC       0.64      0.53      0.58       445\n",
      "      I-MISC       0.39      0.47      0.43       654\n",
      "       B-ORG       0.81      0.73      0.77      1700\n",
      "       I-ORG       0.74      0.70      0.72      1366\n",
      "       B-PER       0.85      0.75      0.80      1222\n",
      "       I-PER       0.86      0.90      0.88       859\n",
      "\n",
      "   micro avg       0.72      0.72      0.72      7567\n",
      "   macro avg       0.69      0.70      0.69      7567\n",
      "weighted avg       0.73      0.72      0.72      7567\n",
      " samples avg       0.10      0.10      0.10      7567\n",
      "\n",
      "================================================================================\n",
      "Entity level evaluation\n",
      "================================================================================\n"
     ]
    },
    {
     "data": {
      "text/html": [
       "<div>\n",
       "<style scoped>\n",
       "    .dataframe tbody tr th:only-of-type {\n",
       "        vertical-align: middle;\n",
       "    }\n",
       "\n",
       "    .dataframe tbody tr th {\n",
       "        vertical-align: top;\n",
       "    }\n",
       "\n",
       "    .dataframe thead th {\n",
       "        text-align: right;\n",
       "    }\n",
       "</style>\n",
       "<table border=\"1\" class=\"dataframe\">\n",
       "  <thead>\n",
       "    <tr style=\"text-align: right;\">\n",
       "      <th></th>\n",
       "      <th>total acc</th>\n",
       "      <th>total recall</th>\n",
       "      <th>total F1</th>\n",
       "      <th>PER F1</th>\n",
       "      <th>ORG F1</th>\n",
       "      <th>LOC F1</th>\n",
       "      <th>MISC F1</th>\n",
       "    </tr>\n",
       "  </thead>\n",
       "  <tbody>\n",
       "    <tr>\n",
       "      <th>Default_BIO</th>\n",
       "      <td>0.732</td>\n",
       "      <td>0.702</td>\n",
       "      <td>0.717</td>\n",
       "      <td>0.836</td>\n",
       "      <td>0.745</td>\n",
       "      <td>0.622</td>\n",
       "      <td>0.561</td>\n",
       "    </tr>\n",
       "  </tbody>\n",
       "</table>\n",
       "</div>"
      ],
      "text/plain": [
       "             total acc  total recall  total F1  PER F1  ORG F1  LOC F1  \\\n",
       "Default_BIO      0.732         0.702     0.717   0.836   0.745   0.622   \n",
       "\n",
       "             MISC F1  \n",
       "Default_BIO    0.561  "
      ]
     },
     "execution_count": 15,
     "metadata": {},
     "output_type": "execute_result"
    }
   ],
   "source": [
    "pred_esp_BIO = model.tag_sents(X_val_BIO)\n",
    "y_pred_BIO = [[word[1] for word in sent] for sent in pred_esp_BIO]\n",
    "\n",
    "print(bio_classification_report(y_val_BIO, y_pred_BIO))\n",
    "print('='*80)\n",
    "print('Entity level evaluation')\n",
    "print('='*80)\n",
    "results, results_agg_ent = compute_metrics(esp_val_BIO, pred_esp_BIO)\n",
    "results_df = save_ent_results(\"Default_BIO\", results, results_agg_ent, results_df)\n",
    "results_df"
   ]
  },
  {
   "cell_type": "markdown",
   "metadata": {},
   "source": [
    "#### <span style=\"font-family:Courier New; color:#994C00\">**Feature Importance**</span>"
   ]
  },
  {
   "cell_type": "code",
   "execution_count": 16,
   "metadata": {},
   "outputs": [
    {
     "name": "stdout",
     "output_type": "stream",
     "text": [
      "Top positive:                       |     Top negative:\n",
      "-----------------------------------------------------------------------------\n",
      "9.353 O      WORD_.                     -3.557 I-LOC  WORD_A                    \n",
      "7.999 O      WORD_Y                     -3.773 I-PER  SUF_A                     \n",
      "6.971 O      WORD_y                     -3.880 O      WORD_petrobras            \n",
      "6.862 O      WORD_A                     -3.913 B-PER  WORD_San                  \n",
      "5.733 I-PER  WORD_Gándara               -3.993 O      WORD_2000                 \n",
      "5.506 O      WORD_Día                   -4.039 O      WORD_3-TELEVISION         \n",
      "5.200 O      WORD_Por                   -4.260 O      WORD_NOTICIAS             \n",
      "4.835 O      WORD_Para                  -4.272 O      WORD_'                    \n",
      "4.827 O      SUF_O                      -4.316 O      WORD_\"                    \n",
      "4.810 O      WORD_En                    -8.732 O      CAPITALIZATION            \n"
     ]
    }
   ],
   "source": [
    "def print_state_features(state_features):\n",
    "        for (attr, label), weight in state_features:\n",
    "            string = \"%0.3f %-6s %s\" % (weight, label, attr)\n",
    "            print(string, end = \" \"*(40 - len(string)))\n",
    "\n",
    "def feature_importance(model):\n",
    "\n",
    "    info = model._tagger.info()\n",
    "    positive_features = Counter(info.state_features).most_common(10)\n",
    "    negative_features = Counter(info.state_features).most_common()[-10:]\n",
    "\n",
    "    print(\"Top positive:                       |     Top negative:\")\n",
    "    print(\"-----------------------------------------------------------------------------\")\n",
    "\n",
    "    for positive, negative in zip(positive_features, negative_features):\n",
    "        print_state_features([positive])\n",
    "        print_state_features([negative])\n",
    "        print()\n",
    "feature_importance(model)"
   ]
  },
  {
   "cell_type": "markdown",
   "metadata": {},
   "source": [
    "### <span style=\"font-family:Courier New; color:#336633\">**Customed Feature Getter**</span>"
   ]
  },
  {
   "cell_type": "markdown",
   "metadata": {},
   "source": [
    "<span style=\"font-family:Courier New\">Feature&Hyperparameter_selection notebook suggests that best hyperparamaters for CRF.Tagger with customed feature getter are: {'c1': 0.01, 'c2': 1, 'max_iterations': 100, 'possible_transitions': False, 'possible_states': True, 'min_freq' = 0}. </span>"
   ]
  },
  {
   "cell_type": "code",
   "execution_count": 17,
   "metadata": {},
   "outputs": [],
   "source": [
    "customed_hyperparams = {'c1': 0.01, 'c2': 1, 'max_iterations': 100, 'feature.possible_transitions': False,\n",
    "                                            'feature.possible_states': True, 'feature.minfreq': 0}\n",
    "model = nltk.tag.CRFTagger(feature_func=Feature_getter(language='esp'), training_opt = customed_hyperparams)\n",
    "model.train(esp_train_BIO, 'models/esp_customed_BIO.tagger')"
   ]
  },
  {
   "cell_type": "markdown",
   "metadata": {},
   "source": [
    "#### <span style=\"font-family:Courier New; color:#994C00\">**Evalutation**</span>"
   ]
  },
  {
   "cell_type": "code",
   "execution_count": 18,
   "metadata": {},
   "outputs": [
    {
     "name": "stdout",
     "output_type": "stream",
     "text": [
      "              precision    recall  f1-score   support\n",
      "\n",
      "       B-LOC       0.65      0.77      0.70       984\n",
      "       I-LOC       0.68      0.76      0.72       337\n",
      "      B-MISC       0.67      0.47      0.55       445\n",
      "      I-MISC       0.58      0.46      0.51       654\n",
      "       B-ORG       0.77      0.72      0.74      1700\n",
      "       I-ORG       0.79      0.69      0.74      1366\n",
      "       B-PER       0.81      0.74      0.77      1222\n",
      "       I-PER       0.82      0.89      0.85       859\n",
      "\n",
      "   micro avg       0.74      0.71      0.72      7567\n",
      "   macro avg       0.72      0.69      0.70      7567\n",
      "weighted avg       0.74      0.71      0.72      7567\n",
      " samples avg       0.10      0.10      0.10      7567\n",
      "\n",
      "================================================================================\n",
      "Entity level evaluation\n",
      "================================================================================\n"
     ]
    },
    {
     "data": {
      "text/html": [
       "<div>\n",
       "<style scoped>\n",
       "    .dataframe tbody tr th:only-of-type {\n",
       "        vertical-align: middle;\n",
       "    }\n",
       "\n",
       "    .dataframe tbody tr th {\n",
       "        vertical-align: top;\n",
       "    }\n",
       "\n",
       "    .dataframe thead th {\n",
       "        text-align: right;\n",
       "    }\n",
       "</style>\n",
       "<table border=\"1\" class=\"dataframe\">\n",
       "  <thead>\n",
       "    <tr style=\"text-align: right;\">\n",
       "      <th></th>\n",
       "      <th>total acc</th>\n",
       "      <th>total recall</th>\n",
       "      <th>total F1</th>\n",
       "      <th>PER F1</th>\n",
       "      <th>ORG F1</th>\n",
       "      <th>LOC F1</th>\n",
       "      <th>MISC F1</th>\n",
       "    </tr>\n",
       "  </thead>\n",
       "  <tbody>\n",
       "    <tr>\n",
       "      <th>Default_BIO</th>\n",
       "      <td>0.732</td>\n",
       "      <td>0.702</td>\n",
       "      <td>0.717</td>\n",
       "      <td>0.836</td>\n",
       "      <td>0.745</td>\n",
       "      <td>0.622</td>\n",
       "      <td>0.561</td>\n",
       "    </tr>\n",
       "    <tr>\n",
       "      <th>Custom_BIO</th>\n",
       "      <td>0.703</td>\n",
       "      <td>0.678</td>\n",
       "      <td>0.690</td>\n",
       "      <td>0.770</td>\n",
       "      <td>0.709</td>\n",
       "      <td>0.640</td>\n",
       "      <td>0.509</td>\n",
       "    </tr>\n",
       "  </tbody>\n",
       "</table>\n",
       "</div>"
      ],
      "text/plain": [
       "             total acc  total recall  total F1  PER F1  ORG F1  LOC F1  \\\n",
       "Default_BIO      0.732         0.702     0.717   0.836   0.745   0.622   \n",
       "Custom_BIO       0.703         0.678     0.690   0.770   0.709   0.640   \n",
       "\n",
       "             MISC F1  \n",
       "Default_BIO    0.561  \n",
       "Custom_BIO     0.509  "
      ]
     },
     "execution_count": 18,
     "metadata": {},
     "output_type": "execute_result"
    }
   ],
   "source": [
    "pred_esp_BIO = model.tag_sents(X_val_BIO)\n",
    "y_pred_BIO = [[word[1] for word in sent] for sent in pred_esp_BIO]\n",
    "\n",
    "print(bio_classification_report(y_val_BIO, y_pred_BIO))\n",
    "print('='*80)\n",
    "print('Entity level evaluation')\n",
    "print('='*80)\n",
    "results, results_agg_ent = compute_metrics(esp_val_BIO, pred_esp_BIO)\n",
    "results_df = save_ent_results(\"Custom_BIO\", results, results_agg_ent, results_df)\n",
    "results_df"
   ]
  },
  {
   "cell_type": "markdown",
   "metadata": {},
   "source": [
    "#### <span style=\"font-family:Courier New; color:#994C00\">**Feature Importance**</span>"
   ]
  },
  {
   "cell_type": "code",
   "execution_count": 19,
   "metadata": {},
   "outputs": [
    {
     "name": "stdout",
     "output_type": "stream",
     "text": [
      "Top positive:                       |     Top negative:\n",
      "-----------------------------------------------------------------------------\n",
      "3.387 O      POS_ADV                    -1.160 B-LOC  SUF_ión                   \n",
      "3.129 O      SHAPE_xxxx                 -1.178 B-MISC POS_NUM                   \n",
      "2.670 O      POS_CCONJ                  -1.195 I-PER  LEN_1                     \n",
      "2.395 O      LEN_1                      -1.232 B-PER  -1_gender_Fem             \n",
      "2.109 O      POS_AUX                    -1.233 I-PER  PUNCTUATION               \n",
      "2.038 O      POS_PRON                   -1.302 O      +1_SHAPE_dd,dd            \n",
      "2.026 O      POS_VERB                   -1.468 B-LOC  HAS_NUM                   \n",
      "1.946 O      HAS_NUM                    -1.545 B-MISC SHAPE_xxxx                \n",
      "1.916 O      POS_SCONJ                  -2.005 B-ORG  HAS_NUM                   \n",
      "1.641 O      SHAPE_xxxx-xxxx            -2.293 B-ORG  SHAPE_xxxx                \n"
     ]
    }
   ],
   "source": [
    "feature_importance(model)"
   ]
  },
  {
   "cell_type": "markdown",
   "metadata": {},
   "source": [
    "<div class=\"alert alert-block alert-info\">\n",
    "<b>See:</b> At first glance, we don't improve at all with the introduction of custom features for spanish language. However, we will try to continue the analysis to try to extract further conclusions.\n",
    "</div>"
   ]
  },
  {
   "cell_type": "markdown",
   "metadata": {},
   "source": [
    "### <span style=\"font-family:Courier New; color:#336633\">**Changing tagger format**</span>"
   ]
  },
  {
   "cell_type": "markdown",
   "metadata": {},
   "source": [
    "<span style=\"font-family:Courier New\">At this point, lets check whether changing the codification of entities has a postive impact on performance. </span>"
   ]
  },
  {
   "cell_type": "markdown",
   "metadata": {},
   "source": [
    "#### <span style=\"font-family:Courier New; color:#994C00\">**IO**</span>"
   ]
  },
  {
   "cell_type": "code",
   "execution_count": 20,
   "metadata": {},
   "outputs": [],
   "source": [
    "esp_train_IO = convert_BIO(esp_train, begin = False)\n",
    "esp_val_IO = convert_BIO(esp_val, begin = False)\n",
    "esp_test_IO = convert_BIO(esp_test, begin = False)\n",
    "\n",
    "X_val_IO = [[word[0] for word in sent] for sent in esp_val_IO]\n",
    "y_val_IO = [[word[1] for word in sent] for sent in esp_val_IO]\n",
    "X_test_IO = [[word[0] for word in sent] for sent in esp_test_IO]\n",
    "y_test_IO = [[word[1] for word in sent] for sent in esp_test_IO]"
   ]
  },
  {
   "cell_type": "code",
   "execution_count": 21,
   "metadata": {},
   "outputs": [],
   "source": [
    "customed_hyperparams = {'c1': 0.01, 'c2': 1, 'max_iterations': 100, 'feature.possible_transitions': False,\n",
    "                                            'feature.possible_states': True, 'feature.minfreq': 0}\n",
    "model = nltk.tag.CRFTagger(feature_func=Feature_getter(language='esp'), training_opt = customed_hyperparams)\n",
    "model.train(esp_train_IO, 'models/esp_customed_IO.tagger')"
   ]
  },
  {
   "cell_type": "code",
   "execution_count": 22,
   "metadata": {},
   "outputs": [
    {
     "name": "stdout",
     "output_type": "stream",
     "text": [
      "              precision    recall  f1-score   support\n",
      "\n",
      "       I-LOC       0.65      0.76      0.70      1321\n",
      "      I-MISC       0.58      0.48      0.53      1099\n",
      "       I-ORG       0.81      0.70      0.75      3066\n",
      "       I-PER       0.83      0.81      0.82      2081\n",
      "\n",
      "   micro avg       0.75      0.71      0.73      7567\n",
      "   macro avg       0.72      0.69      0.70      7567\n",
      "weighted avg       0.75      0.71      0.73      7567\n",
      " samples avg       0.10      0.10      0.10      7567\n",
      "\n",
      "================================================================================\n",
      "Entity level evaluation\n",
      "================================================================================\n"
     ]
    },
    {
     "data": {
      "text/html": [
       "<div>\n",
       "<style scoped>\n",
       "    .dataframe tbody tr th:only-of-type {\n",
       "        vertical-align: middle;\n",
       "    }\n",
       "\n",
       "    .dataframe tbody tr th {\n",
       "        vertical-align: top;\n",
       "    }\n",
       "\n",
       "    .dataframe thead th {\n",
       "        text-align: right;\n",
       "    }\n",
       "</style>\n",
       "<table border=\"1\" class=\"dataframe\">\n",
       "  <thead>\n",
       "    <tr style=\"text-align: right;\">\n",
       "      <th></th>\n",
       "      <th>total acc</th>\n",
       "      <th>total recall</th>\n",
       "      <th>total F1</th>\n",
       "      <th>PER F1</th>\n",
       "      <th>ORG F1</th>\n",
       "      <th>LOC F1</th>\n",
       "      <th>MISC F1</th>\n",
       "    </tr>\n",
       "  </thead>\n",
       "  <tbody>\n",
       "    <tr>\n",
       "      <th>Default_BIO</th>\n",
       "      <td>0.732</td>\n",
       "      <td>0.702</td>\n",
       "      <td>0.717</td>\n",
       "      <td>0.836</td>\n",
       "      <td>0.745</td>\n",
       "      <td>0.622</td>\n",
       "      <td>0.561</td>\n",
       "    </tr>\n",
       "    <tr>\n",
       "      <th>Custom_BIO</th>\n",
       "      <td>0.703</td>\n",
       "      <td>0.678</td>\n",
       "      <td>0.690</td>\n",
       "      <td>0.770</td>\n",
       "      <td>0.709</td>\n",
       "      <td>0.640</td>\n",
       "      <td>0.509</td>\n",
       "    </tr>\n",
       "    <tr>\n",
       "      <th>Custom_IO</th>\n",
       "      <td>0.691</td>\n",
       "      <td>0.654</td>\n",
       "      <td>0.672</td>\n",
       "      <td>0.753</td>\n",
       "      <td>0.698</td>\n",
       "      <td>0.616</td>\n",
       "      <td>0.472</td>\n",
       "    </tr>\n",
       "  </tbody>\n",
       "</table>\n",
       "</div>"
      ],
      "text/plain": [
       "             total acc  total recall  total F1  PER F1  ORG F1  LOC F1  \\\n",
       "Default_BIO      0.732         0.702     0.717   0.836   0.745   0.622   \n",
       "Custom_BIO       0.703         0.678     0.690   0.770   0.709   0.640   \n",
       "Custom_IO        0.691         0.654     0.672   0.753   0.698   0.616   \n",
       "\n",
       "             MISC F1  \n",
       "Default_BIO    0.561  \n",
       "Custom_BIO     0.509  \n",
       "Custom_IO      0.472  "
      ]
     },
     "execution_count": 22,
     "metadata": {},
     "output_type": "execute_result"
    }
   ],
   "source": [
    "pred_esp_IO = model.tag_sents(X_val_IO)\n",
    "y_pred_IO = [[word[1] for word in sent] for sent in pred_esp_IO]\n",
    "\n",
    "print(bio_classification_report(y_val_IO, y_pred_IO))\n",
    "print('='*80)\n",
    "print('Entity level evaluation')\n",
    "print('='*80)\n",
    "results, results_agg_ent = compute_metrics(esp_val_IO, pred_esp_IO)\n",
    "results_df = save_ent_results(\"Custom_IO\", results, results_agg_ent, results_df)\n",
    "results_df"
   ]
  },
  {
   "cell_type": "markdown",
   "metadata": {},
   "source": [
    "#### <span style=\"font-family:Courier New; color:#994C00\">**BIOS**</span>"
   ]
  },
  {
   "cell_type": "code",
   "execution_count": 23,
   "metadata": {},
   "outputs": [],
   "source": [
    "esp_train_BIOS = convert_BIO(esp_train, begin = True, single = True)\n",
    "esp_val_BIOS = convert_BIO(esp_val, begin = True, single = True)\n",
    "esp_test_BIOS = convert_BIO(esp_test, begin = True, single = True)\n",
    "\n",
    "X_val_BIOS = [[word[0] for word in sent] for sent in esp_val_BIOS]\n",
    "y_val_BIOS = [[word[1] for word in sent] for sent in esp_val_BIOS]\n",
    "X_test_BIOS = [[word[0] for word in sent] for sent in esp_test_BIOS]\n",
    "y_test_BIOS = [[word[1] for word in sent] for sent in esp_test_BIOS]"
   ]
  },
  {
   "cell_type": "code",
   "execution_count": 24,
   "metadata": {},
   "outputs": [],
   "source": [
    "customed_hyperparams = {'c1': 0.01, 'c2': 1, 'max_iterations': 100, 'feature.possible_transitions': False,\n",
    "                                            'feature.possible_states': True, 'feature.minfreq': 0}\n",
    "model = nltk.tag.CRFTagger(feature_func=Feature_getter(language='esp'), training_opt = customed_hyperparams)\n",
    "model.train(esp_train_BIOS, 'models/esp_customed_BIOS.tagger')"
   ]
  },
  {
   "cell_type": "code",
   "execution_count": 25,
   "metadata": {},
   "outputs": [
    {
     "name": "stdout",
     "output_type": "stream",
     "text": [
      "              precision    recall  f1-score   support\n",
      "\n",
      "       B-LOC       0.72      0.61      0.66       270\n",
      "       I-LOC       0.71      0.75      0.73       337\n",
      "       S-LOC       0.59      0.80      0.68       714\n",
      "      B-MISC       0.55      0.43      0.49       260\n",
      "      I-MISC       0.58      0.46      0.51       654\n",
      "      S-MISC       0.64      0.45      0.53       185\n",
      "       B-ORG       0.76      0.63      0.69       632\n",
      "       I-ORG       0.79      0.70      0.74      1366\n",
      "       S-ORG       0.75      0.73      0.74      1068\n",
      "       B-PER       0.83      0.89      0.86       684\n",
      "       I-PER       0.84      0.89      0.86       859\n",
      "       S-PER       0.73      0.54      0.62       538\n",
      "\n",
      "   micro avg       0.73      0.70      0.71      7567\n",
      "   macro avg       0.71      0.66      0.68      7567\n",
      "weighted avg       0.73      0.70      0.71      7567\n",
      " samples avg       0.10      0.10      0.10      7567\n",
      "\n",
      "================================================================================\n",
      "Entity level evaluation\n",
      "================================================================================\n"
     ]
    },
    {
     "data": {
      "text/html": [
       "<div>\n",
       "<style scoped>\n",
       "    .dataframe tbody tr th:only-of-type {\n",
       "        vertical-align: middle;\n",
       "    }\n",
       "\n",
       "    .dataframe tbody tr th {\n",
       "        vertical-align: top;\n",
       "    }\n",
       "\n",
       "    .dataframe thead th {\n",
       "        text-align: right;\n",
       "    }\n",
       "</style>\n",
       "<table border=\"1\" class=\"dataframe\">\n",
       "  <thead>\n",
       "    <tr style=\"text-align: right;\">\n",
       "      <th></th>\n",
       "      <th>total acc</th>\n",
       "      <th>total recall</th>\n",
       "      <th>total F1</th>\n",
       "      <th>PER F1</th>\n",
       "      <th>ORG F1</th>\n",
       "      <th>LOC F1</th>\n",
       "      <th>MISC F1</th>\n",
       "    </tr>\n",
       "  </thead>\n",
       "  <tbody>\n",
       "    <tr>\n",
       "      <th>Default_BIO</th>\n",
       "      <td>0.732</td>\n",
       "      <td>0.702</td>\n",
       "      <td>0.717</td>\n",
       "      <td>0.836</td>\n",
       "      <td>0.745</td>\n",
       "      <td>0.622</td>\n",
       "      <td>0.561</td>\n",
       "    </tr>\n",
       "    <tr>\n",
       "      <th>Custom_BIO</th>\n",
       "      <td>0.703</td>\n",
       "      <td>0.678</td>\n",
       "      <td>0.690</td>\n",
       "      <td>0.770</td>\n",
       "      <td>0.709</td>\n",
       "      <td>0.640</td>\n",
       "      <td>0.509</td>\n",
       "    </tr>\n",
       "    <tr>\n",
       "      <th>Custom_IO</th>\n",
       "      <td>0.691</td>\n",
       "      <td>0.654</td>\n",
       "      <td>0.672</td>\n",
       "      <td>0.753</td>\n",
       "      <td>0.698</td>\n",
       "      <td>0.616</td>\n",
       "      <td>0.472</td>\n",
       "    </tr>\n",
       "    <tr>\n",
       "      <th>Custom_BIOS</th>\n",
       "      <td>0.698</td>\n",
       "      <td>0.677</td>\n",
       "      <td>0.687</td>\n",
       "      <td>0.783</td>\n",
       "      <td>0.710</td>\n",
       "      <td>0.626</td>\n",
       "      <td>0.487</td>\n",
       "    </tr>\n",
       "  </tbody>\n",
       "</table>\n",
       "</div>"
      ],
      "text/plain": [
       "             total acc  total recall  total F1  PER F1  ORG F1  LOC F1  \\\n",
       "Default_BIO      0.732         0.702     0.717   0.836   0.745   0.622   \n",
       "Custom_BIO       0.703         0.678     0.690   0.770   0.709   0.640   \n",
       "Custom_IO        0.691         0.654     0.672   0.753   0.698   0.616   \n",
       "Custom_BIOS      0.698         0.677     0.687   0.783   0.710   0.626   \n",
       "\n",
       "             MISC F1  \n",
       "Default_BIO    0.561  \n",
       "Custom_BIO     0.509  \n",
       "Custom_IO      0.472  \n",
       "Custom_BIOS    0.487  "
      ]
     },
     "execution_count": 25,
     "metadata": {},
     "output_type": "execute_result"
    }
   ],
   "source": [
    "pred_esp_BIOS = model.tag_sents(X_val_BIOS)\n",
    "y_pred_BIOS = [[word[1] for word in sent] for sent in pred_esp_BIOS]\n",
    "\n",
    "print(bio_classification_report(y_val_BIOS, y_pred_BIOS))\n",
    "print('='*80)\n",
    "print('Entity level evaluation')\n",
    "print('='*80)\n",
    "results, results_agg_ent = compute_metrics(esp_val_BIOS, pred_esp_BIOS)\n",
    "results_df = save_ent_results(\"Custom_BIOS\", results, results_agg_ent, results_df)\n",
    "results_df"
   ]
  },
  {
   "cell_type": "markdown",
   "metadata": {},
   "source": [
    "#### <span style=\"font-family:Courier New; color:#994C00\">**BIOES**</span>"
   ]
  },
  {
   "cell_type": "code",
   "execution_count": 26,
   "metadata": {},
   "outputs": [],
   "source": [
    "esp_train_BIOES = convert_BIO(esp_train, begin = True, single = True, end = True)\n",
    "esp_val_BIOES = convert_BIO(esp_val, begin = True, single = True, end = True)\n",
    "esp_test_BIOES = convert_BIO(esp_test, begin = True, single = True, end = True)\n",
    "\n",
    "X_val_BIOES = [[word[0] for word in sent] for sent in esp_val_BIOES]\n",
    "y_val_BIOES = [[word[1] for word in sent] for sent in esp_val_BIOES]\n",
    "X_test_BIOES = [[word[0] for word in sent] for sent in esp_test_BIOES]\n",
    "y_test_BIOES = [[word[1] for word in sent] for sent in esp_test_BIOES]"
   ]
  },
  {
   "cell_type": "code",
   "execution_count": 27,
   "metadata": {},
   "outputs": [],
   "source": [
    "customed_hyperparams = {'c1': 0.01, 'c2': 1, 'max_iterations': 100, 'feature.possible_transitions': False,\n",
    "                                            'feature.possible_states': True, 'feature.minfreq': 0}\n",
    "model = nltk.tag.CRFTagger(feature_func=Feature_getter(language='esp'), training_opt = customed_hyperparams)\n",
    "model.train(esp_train_BIOES, 'models/esp_customed_BIOES.tagger')"
   ]
  },
  {
   "cell_type": "code",
   "execution_count": 28,
   "metadata": {},
   "outputs": [
    {
     "name": "stdout",
     "output_type": "stream",
     "text": [
      "              precision    recall  f1-score   support\n",
      "\n",
      "       B-LOC       0.69      0.61      0.65       270\n",
      "       E-LOC       0.69      0.70      0.69       227\n",
      "       I-LOC       0.51      0.73      0.60       110\n",
      "       S-LOC       0.60      0.80      0.68       714\n",
      "      B-MISC       0.60      0.49      0.54       260\n",
      "      E-MISC       0.55      0.46      0.50       250\n",
      "      I-MISC       0.55      0.40      0.46       404\n",
      "      S-MISC       0.66      0.44      0.53       185\n",
      "       B-ORG       0.76      0.61      0.67       632\n",
      "       E-ORG       0.69      0.58      0.63       590\n",
      "       I-ORG       0.78      0.71      0.74       776\n",
      "       S-ORG       0.75      0.74      0.74      1068\n",
      "       B-PER       0.83      0.90      0.86       684\n",
      "       E-PER       0.83      0.92      0.87       664\n",
      "       I-PER       0.83      0.80      0.81       195\n",
      "       S-PER       0.74      0.52      0.61       538\n",
      "\n",
      "   micro avg       0.72      0.69      0.70      7567\n",
      "   macro avg       0.69      0.65      0.66      7567\n",
      "weighted avg       0.72      0.69      0.70      7567\n",
      " samples avg       0.10      0.10      0.10      7567\n",
      "\n",
      "================================================================================\n",
      "Entity level evaluation\n",
      "================================================================================\n"
     ]
    },
    {
     "data": {
      "text/html": [
       "<div>\n",
       "<style scoped>\n",
       "    .dataframe tbody tr th:only-of-type {\n",
       "        vertical-align: middle;\n",
       "    }\n",
       "\n",
       "    .dataframe tbody tr th {\n",
       "        vertical-align: top;\n",
       "    }\n",
       "\n",
       "    .dataframe thead th {\n",
       "        text-align: right;\n",
       "    }\n",
       "</style>\n",
       "<table border=\"1\" class=\"dataframe\">\n",
       "  <thead>\n",
       "    <tr style=\"text-align: right;\">\n",
       "      <th></th>\n",
       "      <th>total acc</th>\n",
       "      <th>total recall</th>\n",
       "      <th>total F1</th>\n",
       "      <th>PER F1</th>\n",
       "      <th>ORG F1</th>\n",
       "      <th>LOC F1</th>\n",
       "      <th>MISC F1</th>\n",
       "    </tr>\n",
       "  </thead>\n",
       "  <tbody>\n",
       "    <tr>\n",
       "      <th>Default_BIO</th>\n",
       "      <td>0.732</td>\n",
       "      <td>0.702</td>\n",
       "      <td>0.717</td>\n",
       "      <td>0.836</td>\n",
       "      <td>0.745</td>\n",
       "      <td>0.622</td>\n",
       "      <td>0.561</td>\n",
       "    </tr>\n",
       "    <tr>\n",
       "      <th>Custom_BIO</th>\n",
       "      <td>0.703</td>\n",
       "      <td>0.678</td>\n",
       "      <td>0.690</td>\n",
       "      <td>0.770</td>\n",
       "      <td>0.709</td>\n",
       "      <td>0.640</td>\n",
       "      <td>0.509</td>\n",
       "    </tr>\n",
       "    <tr>\n",
       "      <th>Custom_IO</th>\n",
       "      <td>0.691</td>\n",
       "      <td>0.654</td>\n",
       "      <td>0.672</td>\n",
       "      <td>0.753</td>\n",
       "      <td>0.698</td>\n",
       "      <td>0.616</td>\n",
       "      <td>0.472</td>\n",
       "    </tr>\n",
       "    <tr>\n",
       "      <th>Custom_BIOS</th>\n",
       "      <td>0.698</td>\n",
       "      <td>0.677</td>\n",
       "      <td>0.687</td>\n",
       "      <td>0.783</td>\n",
       "      <td>0.710</td>\n",
       "      <td>0.626</td>\n",
       "      <td>0.487</td>\n",
       "    </tr>\n",
       "    <tr>\n",
       "      <th>Custom_BIOES</th>\n",
       "      <td>0.700</td>\n",
       "      <td>0.680</td>\n",
       "      <td>0.690</td>\n",
       "      <td>0.782</td>\n",
       "      <td>0.711</td>\n",
       "      <td>0.626</td>\n",
       "      <td>0.518</td>\n",
       "    </tr>\n",
       "  </tbody>\n",
       "</table>\n",
       "</div>"
      ],
      "text/plain": [
       "              total acc  total recall  total F1  PER F1  ORG F1  LOC F1  \\\n",
       "Default_BIO       0.732         0.702     0.717   0.836   0.745   0.622   \n",
       "Custom_BIO        0.703         0.678     0.690   0.770   0.709   0.640   \n",
       "Custom_IO         0.691         0.654     0.672   0.753   0.698   0.616   \n",
       "Custom_BIOS       0.698         0.677     0.687   0.783   0.710   0.626   \n",
       "Custom_BIOES      0.700         0.680     0.690   0.782   0.711   0.626   \n",
       "\n",
       "              MISC F1  \n",
       "Default_BIO     0.561  \n",
       "Custom_BIO      0.509  \n",
       "Custom_IO       0.472  \n",
       "Custom_BIOS     0.487  \n",
       "Custom_BIOES    0.518  "
      ]
     },
     "execution_count": 28,
     "metadata": {},
     "output_type": "execute_result"
    }
   ],
   "source": [
    "pred_esp_BIOES = model.tag_sents(X_val_BIOES)\n",
    "y_pred_BIOES = [[word[1] for word in sent] for sent in pred_esp_BIOES]\n",
    "\n",
    "print(bio_classification_report(y_val_BIOES, y_pred_BIOES))\n",
    "print('='*80)\n",
    "print('Entity level evaluation')\n",
    "print('='*80)\n",
    "results, results_agg_ent = compute_metrics(esp_val_BIOES, pred_esp_BIOES)\n",
    "results_df = save_ent_results(\"Custom_BIOES\", results, results_agg_ent, results_df)\n",
    "results_df"
   ]
  },
  {
   "cell_type": "markdown",
   "metadata": {},
   "source": [
    "<span style=\"font-family:Courier New\">As we can see, custom features do not work as intended for spanish language, in fact they seem to penalize the performance. However, the difference is at most of 0.03 and validation split isn't too big, so we need to be careful about drawing conclusions.      </span>"
   ]
  },
  {
   "cell_type": "markdown",
   "metadata": {},
   "source": [
    "### <span style=\"font-family:Courier New; color:#336633\">**Adding Gazetteers**</span>"
   ]
  },
  {
   "cell_type": "code",
   "execution_count": 29,
   "metadata": {},
   "outputs": [
    {
     "data": {
      "text/plain": [
       "\"names =  []\\nfor sent in esp_train_BIO:\\n    for token, label in sent:\\n        if label == 'B-PER':\\n            names.append(token)\\nr = Counter(names)\\nprint(r.keys())\""
      ]
     },
     "execution_count": 29,
     "metadata": {},
     "output_type": "execute_result"
    }
   ],
   "source": [
    "'''names =  []\n",
    "for sent in esp_train_BIO:\n",
    "    for token, label in sent:\n",
    "        if label == 'B-PER':\n",
    "            names.append(token)\n",
    "r = Counter(names)\n",
    "print(r.keys())'''"
   ]
  }
 ],
 "metadata": {
  "kernelspec": {
   "display_name": "Python 3",
   "language": "python",
   "name": "python3"
  },
  "language_info": {
   "codemirror_mode": {
    "name": "ipython",
    "version": 3
   },
   "file_extension": ".py",
   "mimetype": "text/x-python",
   "name": "python",
   "nbconvert_exporter": "python",
   "pygments_lexer": "ipython3",
   "version": "3.11.9"
  }
 },
 "nbformat": 4,
 "nbformat_minor": 2
}
