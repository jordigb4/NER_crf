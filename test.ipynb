{
 "cells": [
  {
   "cell_type": "markdown",
   "metadata": {},
   "source": [
    "# <span style=\"font-family:Courier New; color:#CCCCCC\">**Named Entity Recognition CRF**</span>"
   ]
  },
  {
   "cell_type": "markdown",
   "metadata": {},
   "source": [
    "## <span style=\"font-family:Courier New; color:#336666\">**Load Data and Imports**</span>"
   ]
  },
  {
   "cell_type": "code",
   "execution_count": 1,
   "metadata": {},
   "outputs": [
    {
     "name": "stderr",
     "output_type": "stream",
     "text": [
      "[nltk_data] Downloading package conll2002 to\n",
      "[nltk_data]     C:\\Users\\jerez\\AppData\\Roaming\\nltk_data...\n",
      "[nltk_data]   Package conll2002 is already up-to-date!\n"
     ]
    }
   ],
   "source": [
    "from preprocessing import convert_BIO\n",
    "from NER_evaluation import *\n",
    "from feature_getter import Feature_getter\n",
    "import pycrfsuite\n",
    "from collections import Counter\n",
    "import pandas as pd\n",
    "import joblib\n",
    "\n",
    "import nltk\n",
    "nltk.download('conll2002')\n",
    "from nltk.corpus import conll2002\n",
    "\n",
    "#Dutch Data\n",
    "ned_train = conll2002.iob_sents('ned.train')\n",
    "ned_test = conll2002.iob_sents('ned.testb')\n",
    "\n",
    "#Spanish Data\n",
    "esp_train = conll2002.iob_sents('esp.train')\n",
    "esp_test = conll2002.iob_sents('esp.testb')"
   ]
  },
  {
   "cell_type": "markdown",
   "metadata": {},
   "source": [
    "## <span style=\"font-family:Courier New; color:#336666\">**Preprocessing Data**</span>"
   ]
  },
  {
   "cell_type": "code",
   "execution_count": 2,
   "metadata": {},
   "outputs": [],
   "source": [
    "#Dutch\n",
    "ned_train_BIO = convert_BIO(ned_train)\n",
    "ned_test_BIO = convert_BIO(ned_test)\n",
    "\n",
    "X_ned_test_BIO = [[word[0] for word in sent] for sent in ned_test_BIO]\n",
    "y_ned_test_BIO = [[word[1] for word in sent] for sent in ned_test_BIO]"
   ]
  },
  {
   "cell_type": "code",
   "execution_count": 3,
   "metadata": {},
   "outputs": [],
   "source": [
    "#Spanish\n",
    "esp_train_BIO = convert_BIO(esp_train)\n",
    "esp_test_BIO = convert_BIO(esp_test)\n",
    "\n",
    "X_esp_test_BIO = [[word[0] for word in sent] for sent in esp_test_BIO]\n",
    "y_esp_test_BIO = [[word[1] for word in sent] for sent in esp_test_BIO]"
   ]
  },
  {
   "cell_type": "markdown",
   "metadata": {},
   "source": [
    "## <span style=\"font-family:Courier New; color:#336666\">**Train Classifier**</span>"
   ]
  },
  {
   "cell_type": "code",
   "execution_count": 4,
   "metadata": {},
   "outputs": [],
   "source": [
    "#Summary avaluation tables\n",
    "results_esp = pd.DataFrame()\n",
    "results_ned = pd.DataFrame()\n",
    "def save_ent_results(nclf, results, results_agg_ent, df):\n",
    "    df.loc[nclf,'total acc'] = results[\"precision\"]\n",
    "    df.loc[nclf,'total recall'] = results[\"recall\"]\n",
    "    df.loc[nclf,'total F1'] = results[\"F1-score\"]\n",
    "    df.loc[nclf,'PER F1'] = results_agg_ent[\"PER\"][\"F1-score\"]\n",
    "    df.loc[nclf,'ORG F1'] = results_agg_ent[\"ORG\"][\"F1-score\"]\n",
    "    df.loc[nclf,'LOC F1'] = results_agg_ent[\"LOC\"][\"F1-score\"]\n",
    "    df.loc[nclf,'MISC F1'] = results_agg_ent[\"MISC\"][\"F1-score\"]\n",
    "    return df"
   ]
  },
  {
   "cell_type": "markdown",
   "metadata": {},
   "source": [
    "### <span style=\"font-family:Courier New; color:#336633\">**Dutch Classifier**</span>"
   ]
  },
  {
   "cell_type": "markdown",
   "metadata": {},
   "source": [
    "<span style=\"font-family:Courier New\">Hyper&feature_opt-ned notebook suggests a model with our customed Feature Getter (not considering Next token features), for which best hyperparamaters are: {'c1': 0.01, 'c2': 0.1, 'max_iterations': 200, 'possible_transitions': True, 'possible_states': True, 'min_freq' = 0}. </span>"
   ]
  },
  {
   "cell_type": "code",
   "execution_count": 5,
   "metadata": {},
   "outputs": [],
   "source": [
    "default_hyperparams = {'c1': 0.01, 'c2': 0.1, 'max_iterations': 50, 'feature.possible_transitions': True,\n",
    "                                            'feature.possible_states': True, 'feature.minfreq': 0}\n",
    "model = nltk.tag.CRFTagger(feature_func = Feature_getter(language='ned', next_tok=False), training_opt = default_hyperparams)\n",
    "model.train(ned_train_BIO, 'models/dutch_tagger.pkl')"
   ]
  },
  {
   "cell_type": "markdown",
   "metadata": {},
   "source": [
    "#### <span style=\"font-family:Courier New; color:#994C00\">**Evalutation**</span>"
   ]
  },
  {
   "cell_type": "code",
   "execution_count": 6,
   "metadata": {},
   "outputs": [
    {
     "name": "stdout",
     "output_type": "stream",
     "text": [
      "              precision    recall  f1-score   support\n",
      "\n",
      "       B-LOC       0.87      0.81      0.84       774\n",
      "       I-LOC       0.67      0.53      0.59        49\n",
      "      B-MISC       0.87      0.76      0.81      1187\n",
      "      I-MISC       0.63      0.46      0.53       410\n",
      "       B-ORG       0.81      0.71      0.76       882\n",
      "       I-ORG       0.80      0.65      0.72       551\n",
      "       B-PER       0.78      0.90      0.83      1098\n",
      "       I-PER       0.87      0.96      0.91       807\n",
      "\n",
      "   micro avg       0.82      0.78      0.80      5758\n",
      "   macro avg       0.79      0.72      0.75      5758\n",
      "weighted avg       0.82      0.78      0.79      5758\n",
      " samples avg       0.07      0.07      0.07      5758\n",
      "\n",
      "================================================================================\n",
      "Entity level evaluation\n",
      "================================================================================\n"
     ]
    },
    {
     "data": {
      "text/html": [
       "<div>\n",
       "<style scoped>\n",
       "    .dataframe tbody tr th:only-of-type {\n",
       "        vertical-align: middle;\n",
       "    }\n",
       "\n",
       "    .dataframe tbody tr th {\n",
       "        vertical-align: top;\n",
       "    }\n",
       "\n",
       "    .dataframe thead th {\n",
       "        text-align: right;\n",
       "    }\n",
       "</style>\n",
       "<table border=\"1\" class=\"dataframe\">\n",
       "  <thead>\n",
       "    <tr style=\"text-align: right;\">\n",
       "      <th></th>\n",
       "      <th>total acc</th>\n",
       "      <th>total recall</th>\n",
       "      <th>total F1</th>\n",
       "      <th>PER F1</th>\n",
       "      <th>ORG F1</th>\n",
       "      <th>LOC F1</th>\n",
       "      <th>MISC F1</th>\n",
       "    </tr>\n",
       "  </thead>\n",
       "  <tbody>\n",
       "    <tr>\n",
       "      <th>Dutch_BIO</th>\n",
       "      <td>0.814</td>\n",
       "      <td>0.789</td>\n",
       "      <td>0.801</td>\n",
       "      <td>0.777</td>\n",
       "      <td>0.769</td>\n",
       "      <td>0.867</td>\n",
       "      <td>0.811</td>\n",
       "    </tr>\n",
       "  </tbody>\n",
       "</table>\n",
       "</div>"
      ],
      "text/plain": [
       "           total acc  total recall  total F1  PER F1  ORG F1  LOC F1  MISC F1\n",
       "Dutch_BIO      0.814         0.789     0.801   0.777   0.769   0.867    0.811"
      ]
     },
     "execution_count": 6,
     "metadata": {},
     "output_type": "execute_result"
    }
   ],
   "source": [
    "pred_ned_BIO = model.tag_sents(X_ned_test_BIO)\n",
    "y_pred_BIO = [[word[1] for word in sent] for sent in pred_ned_BIO]\n",
    "\n",
    "print(bio_classification_report(y_ned_test_BIO, y_pred_BIO))\n",
    "print('='*80)\n",
    "print('Entity level evaluation')\n",
    "print('='*80)\n",
    "results, results_agg_ent = compute_metrics(ned_test_BIO, pred_ned_BIO)\n",
    "results_ned = save_ent_results(\"Dutch_BIO\", results, results_agg_ent, results_ned)\n",
    "results_ned"
   ]
  },
  {
   "cell_type": "markdown",
   "metadata": {},
   "source": [
    "#### <span style=\"font-family:Courier New; color:#994C00\">**Feature Importance**</span>"
   ]
  },
  {
   "cell_type": "code",
   "execution_count": 18,
   "metadata": {},
   "outputs": [
    {
     "name": "stdout",
     "output_type": "stream",
     "text": [
      "Top positive:                       |     Top negative:\n",
      "-----------------------------------------------------------------------------\n",
      "5.861 O      PUNCTUATION                -1.943 O      WORD_Gent                 \n",
      "5.023 O      SHAPE_xxxx                 -2.064 O      SUF_our                   \n",
      "3.713 B-LOC  WORD_Gent                  -2.158 B-PER  SHAPE_xxxx                \n",
      "3.346 B-MISC SHAPE_XXX-xxxx             -2.177 O      LEMMA_groenen             \n",
      "3.298 O      WORD_.                     -2.288 B-PER  HAS_NUM                   \n",
      "3.274 O      SHAPE_xxxx-xxxx            -2.395 O      -1_SHAPE_xxx              \n",
      "3.091 O      POS_PUNCT                  -2.532 B-MISC POS_INTJ                  \n",
      "2.977 O      HAS_NUM                    -2.537 I-MISC -1_SUF_se                 \n",
      "2.622 O      SHAPE_XXXX                 -2.590 B-LOC  SHAPE_xxxx                \n",
      "2.552 O      POS_ADV                    -2.755 B-ORG  SHAPE_xxxx                \n"
     ]
    }
   ],
   "source": [
    "def print_state_features(state_features):\n",
    "        for (attr, label), weight in state_features:\n",
    "            string = \"%0.3f %-6s %s\" % (weight, label, attr)\n",
    "            print(string, end = \" \"*(40 - len(string)))\n",
    "\n",
    "def feature_importance(model):\n",
    "\n",
    "    info = model._tagger.info()\n",
    "    positive_features = Counter(info.state_features).most_common(10)\n",
    "    negative_features = Counter(info.state_features).most_common()[-10:]\n",
    "\n",
    "    print(\"Top positive:                       |     Top negative:\")\n",
    "    print(\"-----------------------------------------------------------------------------\")\n",
    "\n",
    "    for positive, negative in zip(positive_features, negative_features):\n",
    "        print_state_features([positive])\n",
    "        print_state_features([negative])\n",
    "        print()\n",
    "feature_importance(model)"
   ]
  },
  {
   "cell_type": "markdown",
   "metadata": {},
   "source": [
    "### <span style=\"font-family:Courier New; color:#336633\">**Spanish Classifier**</span>"
   ]
  },
  {
   "cell_type": "markdown",
   "metadata": {},
   "source": [
    "<span style=\"font-family:Courier New\">Hyper&feature_opt-esp notebook suggests a model   with our customed Feature Getter consideting all features, for which best hyperparamaters are: {'c1': 0.01, 'c2': 0.1, 'max_iterations': 200, 'possible_transitions': False, 'possible_states': True, 'min_freq' = 0}."
   ]
  },
  {
   "cell_type": "code",
   "execution_count": 9,
   "metadata": {},
   "outputs": [],
   "source": [
    "customed_hyperparams = {'c1': 0.01, 'c2': 1, 'max_iterations': 200, 'feature.possible_transitions': False,\n",
    "                                            'feature.possible_states': True, 'feature.minfreq': 0}\n",
    "model = nltk.tag.CRFTagger(feature_func=Feature_getter(), training_opt = customed_hyperparams)\n",
    "model.train(esp_train_BIO, 'models/model.crf.tagger')"
   ]
  },
  {
   "cell_type": "markdown",
   "metadata": {},
   "source": [
    "#### <span style=\"font-family:Courier New; color:#994C00\">**Evalutation**</span>"
   ]
  },
  {
   "cell_type": "code",
   "execution_count": 10,
   "metadata": {},
   "outputs": [
    {
     "name": "stdout",
     "output_type": "stream",
     "text": [
      "              precision    recall  f1-score   support\n",
      "\n",
      "       B-LOC       0.80      0.79      0.79      1084\n",
      "       I-LOC       0.65      0.65      0.65       325\n",
      "      B-MISC       0.69      0.52      0.59       339\n",
      "      I-MISC       0.66      0.53      0.59       557\n",
      "       B-ORG       0.81      0.84      0.83      1400\n",
      "       I-ORG       0.83      0.79      0.81      1104\n",
      "       B-PER       0.85      0.89      0.87       735\n",
      "       I-PER       0.90      0.95      0.92       634\n",
      "\n",
      "   micro avg       0.80      0.78      0.79      6178\n",
      "   macro avg       0.78      0.74      0.76      6178\n",
      "weighted avg       0.80      0.78      0.79      6178\n",
      " samples avg       0.09      0.09      0.09      6178\n",
      "\n",
      "================================================================================\n",
      "Entity level evaluation\n",
      "================================================================================\n"
     ]
    },
    {
     "data": {
      "text/html": [
       "<div>\n",
       "<style scoped>\n",
       "    .dataframe tbody tr th:only-of-type {\n",
       "        vertical-align: middle;\n",
       "    }\n",
       "\n",
       "    .dataframe tbody tr th {\n",
       "        vertical-align: top;\n",
       "    }\n",
       "\n",
       "    .dataframe thead th {\n",
       "        text-align: right;\n",
       "    }\n",
       "</style>\n",
       "<table border=\"1\" class=\"dataframe\">\n",
       "  <thead>\n",
       "    <tr style=\"text-align: right;\">\n",
       "      <th></th>\n",
       "      <th>total acc</th>\n",
       "      <th>total recall</th>\n",
       "      <th>total F1</th>\n",
       "      <th>PER F1</th>\n",
       "      <th>ORG F1</th>\n",
       "      <th>LOC F1</th>\n",
       "      <th>MISC F1</th>\n",
       "    </tr>\n",
       "  </thead>\n",
       "  <tbody>\n",
       "    <tr>\n",
       "      <th>Spanish_BIO</th>\n",
       "      <td>0.797</td>\n",
       "      <td>0.792</td>\n",
       "      <td>0.795</td>\n",
       "      <td>0.853</td>\n",
       "      <td>0.796</td>\n",
       "      <td>0.79</td>\n",
       "      <td>0.65</td>\n",
       "    </tr>\n",
       "  </tbody>\n",
       "</table>\n",
       "</div>"
      ],
      "text/plain": [
       "             total acc  total recall  total F1  PER F1  ORG F1  LOC F1  \\\n",
       "Spanish_BIO      0.797         0.792     0.795   0.853   0.796    0.79   \n",
       "\n",
       "             MISC F1  \n",
       "Spanish_BIO     0.65  "
      ]
     },
     "execution_count": 10,
     "metadata": {},
     "output_type": "execute_result"
    }
   ],
   "source": [
    "pred_esp_BIO = model.tag_sents(X_esp_test_BIO)\n",
    "y_pred_BIO = [[word[1] for word in sent] for sent in pred_esp_BIO]\n",
    "\n",
    "print(bio_classification_report(y_esp_test_BIO, y_pred_BIO))\n",
    "print('='*80)\n",
    "print('Entity level evaluation')\n",
    "print('='*80)\n",
    "results, results_agg_ent = compute_metrics(esp_test_BIO, pred_esp_BIO)\n",
    "results_esp = save_ent_results(\"Spanish_BIO\", results, results_agg_ent, results_esp)\n",
    "results_esp"
   ]
  },
  {
   "cell_type": "markdown",
   "metadata": {},
   "source": [
    "#### <span style=\"font-family:Courier New; color:#994C00\">**Feature Importance**</span>"
   ]
  },
  {
   "cell_type": "code",
   "execution_count": 11,
   "metadata": {},
   "outputs": [
    {
     "name": "stdout",
     "output_type": "stream",
     "text": [
      "Top positive:                       |     Top negative:\n",
      "-----------------------------------------------------------------------------\n",
      "3.518 O      WORD_.                     -1.334 B-ORG  SHAPE_Xxxx                \n",
      "3.040 O      PUNCTUATION                -1.354 I-ORG  PUNCTUATION               \n",
      "2.558 O      SHAPE_xxxx                 -1.393 B-MISC -1_WORD_.                 \n",
      "2.148 I-MISC -1_WORD_.                  -1.407 B-PER  -1_WORD_.                 \n",
      "2.137 O      HAS_NUM                    -1.414 B-ORG  -1_WORD_.                 \n",
      "2.065 I-ORG  -1_WORD_.                  -1.482 O      POS_PROPN                 \n",
      "2.059 O      +1_CAPITALIZATION          -1.537 I-MISC WORD_.                    \n",
      "1.722 O      POS_ADV                    -1.594 O      -1_POS_ADP                \n",
      "1.717 I-ORG  -1_PUNCTUATION             -2.113 O      -1_WORD_.                 \n",
      "1.650 B-MISC HAS_NUM                    -4.317 O      CAPITALIZATION            \n"
     ]
    }
   ],
   "source": [
    "feature_importance(model)"
   ]
  },
  {
   "cell_type": "markdown",
   "metadata": {},
   "source": [
    "<div class=\"alert alert-block alert-info\">\n",
    "<b>See:</b> We can see how both models have ≈ 0.8 F1. Tables show that dutch model performs a little better on the test set. On feature selection, we can see that dutch model relies heavily on the shape feature we have included. On the other side, we can see how spanish model relies in punctuations.\n",
    "</div>"
   ]
  },
  {
   "cell_type": "markdown",
   "metadata": {},
   "source": [
    "## <span style=\"font-family:Courier New; color:#336666\">**Changing Tagger Format**</span>"
   ]
  },
  {
   "cell_type": "markdown",
   "metadata": {},
   "source": [
    "<span style=\"font-family:Courier New\">At this point, lets check whether changing the codification of entities has a postive impact on performance. </span>"
   ]
  },
  {
   "cell_type": "markdown",
   "metadata": {},
   "source": [
    "### <span style=\"font-family:Courier New; color:#336633\">**Dutch Classifier**</span>"
   ]
  },
  {
   "cell_type": "markdown",
   "metadata": {},
   "source": [
    "#### <span style=\"font-family:Courier New; color:#994C00\">**IO**</span>"
   ]
  },
  {
   "cell_type": "code",
   "execution_count": 12,
   "metadata": {},
   "outputs": [],
   "source": [
    "ned_train_IO = convert_BIO(ned_train, begin = False)\n",
    "ned_test_IO = convert_BIO(ned_test, begin = False)\n",
    "\n",
    "X_ned_test_IO = [[word[0] for word in sent] for sent in ned_test_IO]\n",
    "y_ned_test_IO = [[word[1] for word in sent] for sent in ned_test_IO]"
   ]
  },
  {
   "cell_type": "code",
   "execution_count": 13,
   "metadata": {},
   "outputs": [],
   "source": [
    "default_hyperparams = {'c1': 0.01, 'c2': 0.1, 'max_iterations': 50, 'feature.possible_transitions': True,\n",
    "                                            'feature.possible_states': True, 'feature.minfreq': 0}\n",
    "model = nltk.tag.CRFTagger(feature_func = Feature_getter(language='ned', next_tok=False), training_opt = default_hyperparams)\n",
    "model.train(ned_train_IO, 'models/model.crf.tagger')"
   ]
  },
  {
   "cell_type": "code",
   "execution_count": 14,
   "metadata": {},
   "outputs": [
    {
     "name": "stdout",
     "output_type": "stream",
     "text": [
      "              precision    recall  f1-score   support\n",
      "\n",
      "       I-LOC       0.80      0.81      0.80       823\n",
      "      I-MISC       0.77      0.66      0.71      1597\n",
      "       I-ORG       0.81      0.66      0.73      1433\n",
      "       I-PER       0.82      0.92      0.87      1905\n",
      "\n",
      "   micro avg       0.80      0.77      0.78      5758\n",
      "   macro avg       0.80      0.76      0.78      5758\n",
      "weighted avg       0.80      0.77      0.78      5758\n",
      " samples avg       0.06      0.06      0.06      5758\n",
      "\n",
      "================================================================================\n",
      "Entity level evaluation\n",
      "================================================================================\n"
     ]
    },
    {
     "data": {
      "text/html": [
       "<div>\n",
       "<style scoped>\n",
       "    .dataframe tbody tr th:only-of-type {\n",
       "        vertical-align: middle;\n",
       "    }\n",
       "\n",
       "    .dataframe tbody tr th {\n",
       "        vertical-align: top;\n",
       "    }\n",
       "\n",
       "    .dataframe thead th {\n",
       "        text-align: right;\n",
       "    }\n",
       "</style>\n",
       "<table border=\"1\" class=\"dataframe\">\n",
       "  <thead>\n",
       "    <tr style=\"text-align: right;\">\n",
       "      <th></th>\n",
       "      <th>total acc</th>\n",
       "      <th>total recall</th>\n",
       "      <th>total F1</th>\n",
       "      <th>PER F1</th>\n",
       "      <th>ORG F1</th>\n",
       "      <th>LOC F1</th>\n",
       "      <th>MISC F1</th>\n",
       "    </tr>\n",
       "  </thead>\n",
       "  <tbody>\n",
       "    <tr>\n",
       "      <th>Dutch_BIO</th>\n",
       "      <td>0.814</td>\n",
       "      <td>0.789</td>\n",
       "      <td>0.801</td>\n",
       "      <td>0.777</td>\n",
       "      <td>0.769</td>\n",
       "      <td>0.867</td>\n",
       "      <td>0.811</td>\n",
       "    </tr>\n",
       "    <tr>\n",
       "      <th>Dutch_IO</th>\n",
       "      <td>0.792</td>\n",
       "      <td>0.758</td>\n",
       "      <td>0.775</td>\n",
       "      <td>0.774</td>\n",
       "      <td>0.741</td>\n",
       "      <td>0.830</td>\n",
       "      <td>0.761</td>\n",
       "    </tr>\n",
       "  </tbody>\n",
       "</table>\n",
       "</div>"
      ],
      "text/plain": [
       "           total acc  total recall  total F1  PER F1  ORG F1  LOC F1  MISC F1\n",
       "Dutch_BIO      0.814         0.789     0.801   0.777   0.769   0.867    0.811\n",
       "Dutch_IO       0.792         0.758     0.775   0.774   0.741   0.830    0.761"
      ]
     },
     "execution_count": 14,
     "metadata": {},
     "output_type": "execute_result"
    }
   ],
   "source": [
    "pred_ned_IO = model.tag_sents(X_ned_test_IO)\n",
    "y_pred_IO = [[word[1] for word in sent] for sent in pred_ned_IO]\n",
    "\n",
    "print(bio_classification_report(y_ned_test_IO, y_pred_IO))\n",
    "print('='*80)\n",
    "print('Entity level evaluation')\n",
    "print('='*80)\n",
    "results, results_agg_ent = compute_metrics(ned_test_IO, pred_ned_IO)\n",
    "results_ned = save_ent_results(\"Dutch_IO\", results, results_agg_ent, results_ned)\n",
    "results_ned"
   ]
  },
  {
   "cell_type": "markdown",
   "metadata": {},
   "source": [
    "#### <span style=\"font-family:Courier New; color:#994C00\">**BIOS**</span>"
   ]
  },
  {
   "cell_type": "code",
   "execution_count": 15,
   "metadata": {},
   "outputs": [],
   "source": [
    "ned_train_BIOS = convert_BIO(ned_train, begin = True, single = True)\n",
    "ned_test_BIOS = convert_BIO(ned_test, begin = True, single = True)\n",
    "\n",
    "X_ned_test_BIOS = [[word[0] for word in sent] for sent in ned_test_BIOS]\n",
    "y_ned_test_BIOS = [[word[1] for word in sent] for sent in ned_test_BIOS]"
   ]
  },
  {
   "cell_type": "code",
   "execution_count": 16,
   "metadata": {},
   "outputs": [],
   "source": [
    "default_hyperparams = {'c1': 0.01, 'c2': 0.1, 'max_iterations': 50, 'feature.possible_transitions': True,\n",
    "                                            'feature.possible_states': True, 'feature.minfreq': 0}\n",
    "model = nltk.tag.CRFTagger(feature_func = Feature_getter(language='ned', next_tok=False), training_opt = default_hyperparams)\n",
    "model.train(ned_train_BIOS, 'models/model.crf.tagger')"
   ]
  },
  {
   "cell_type": "code",
   "execution_count": 17,
   "metadata": {},
   "outputs": [
    {
     "name": "stdout",
     "output_type": "stream",
     "text": [
      "              precision    recall  f1-score   support\n",
      "\n",
      "       B-LOC       0.68      0.43      0.53        60\n",
      "       I-LOC       0.67      0.53      0.59        49\n",
      "       S-LOC       0.89      0.85      0.87       714\n",
      "      B-MISC       0.75      0.52      0.61       372\n",
      "      I-MISC       0.61      0.45      0.52       410\n",
      "      S-MISC       0.86      0.81      0.84       815\n",
      "       B-ORG       0.79      0.70      0.74       430\n",
      "       I-ORG       0.80      0.63      0.71       551\n",
      "       S-ORG       0.75      0.67      0.71       452\n",
      "       B-PER       0.85      0.93      0.89       708\n",
      "       I-PER       0.86      0.96      0.91       807\n",
      "       S-PER       0.65      0.81      0.72       390\n",
      "\n",
      "   micro avg       0.80      0.77      0.78      5758\n",
      "   macro avg       0.76      0.69      0.72      5758\n",
      "weighted avg       0.80      0.77      0.78      5758\n",
      " samples avg       0.06      0.06      0.06      5758\n",
      "\n",
      "================================================================================\n",
      "Entity level evaluation\n",
      "================================================================================\n"
     ]
    },
    {
     "data": {
      "text/html": [
       "<div>\n",
       "<style scoped>\n",
       "    .dataframe tbody tr th:only-of-type {\n",
       "        vertical-align: middle;\n",
       "    }\n",
       "\n",
       "    .dataframe tbody tr th {\n",
       "        vertical-align: top;\n",
       "    }\n",
       "\n",
       "    .dataframe thead th {\n",
       "        text-align: right;\n",
       "    }\n",
       "</style>\n",
       "<table border=\"1\" class=\"dataframe\">\n",
       "  <thead>\n",
       "    <tr style=\"text-align: right;\">\n",
       "      <th></th>\n",
       "      <th>total acc</th>\n",
       "      <th>total recall</th>\n",
       "      <th>total F1</th>\n",
       "      <th>PER F1</th>\n",
       "      <th>ORG F1</th>\n",
       "      <th>LOC F1</th>\n",
       "      <th>MISC F1</th>\n",
       "    </tr>\n",
       "  </thead>\n",
       "  <tbody>\n",
       "    <tr>\n",
       "      <th>Dutch_BIO</th>\n",
       "      <td>0.814</td>\n",
       "      <td>0.789</td>\n",
       "      <td>0.801</td>\n",
       "      <td>0.777</td>\n",
       "      <td>0.769</td>\n",
       "      <td>0.867</td>\n",
       "      <td>0.811</td>\n",
       "    </tr>\n",
       "    <tr>\n",
       "      <th>Dutch_IO</th>\n",
       "      <td>0.792</td>\n",
       "      <td>0.758</td>\n",
       "      <td>0.775</td>\n",
       "      <td>0.774</td>\n",
       "      <td>0.741</td>\n",
       "      <td>0.830</td>\n",
       "      <td>0.761</td>\n",
       "    </tr>\n",
       "    <tr>\n",
       "      <th>Dutch_BIOS</th>\n",
       "      <td>0.810</td>\n",
       "      <td>0.784</td>\n",
       "      <td>0.797</td>\n",
       "      <td>0.775</td>\n",
       "      <td>0.752</td>\n",
       "      <td>0.876</td>\n",
       "      <td>0.804</td>\n",
       "    </tr>\n",
       "  </tbody>\n",
       "</table>\n",
       "</div>"
      ],
      "text/plain": [
       "            total acc  total recall  total F1  PER F1  ORG F1  LOC F1  MISC F1\n",
       "Dutch_BIO       0.814         0.789     0.801   0.777   0.769   0.867    0.811\n",
       "Dutch_IO        0.792         0.758     0.775   0.774   0.741   0.830    0.761\n",
       "Dutch_BIOS      0.810         0.784     0.797   0.775   0.752   0.876    0.804"
      ]
     },
     "execution_count": 17,
     "metadata": {},
     "output_type": "execute_result"
    }
   ],
   "source": [
    "pred_ned_BIOS = model.tag_sents(X_ned_test_BIOS)\n",
    "y_pred_BIOS = [[word[1] for word in sent] for sent in pred_ned_BIOS]\n",
    "\n",
    "print(bio_classification_report(y_ned_test_BIOS, y_pred_BIOS))\n",
    "print('='*80)\n",
    "print('Entity level evaluation')\n",
    "print('='*80)\n",
    "results, results_agg_ent = compute_metrics(ned_test_BIOS, pred_ned_BIOS)\n",
    "results_ned = save_ent_results(\"Dutch_BIOS\", results, results_agg_ent, results_ned)\n",
    "results_ned"
   ]
  },
  {
   "cell_type": "markdown",
   "metadata": {},
   "source": [
    "#### <span style=\"font-family:Courier New; color:#994C00\">**BIOES**</span>"
   ]
  },
  {
   "cell_type": "code",
   "execution_count": 18,
   "metadata": {},
   "outputs": [],
   "source": [
    "ned_train_BIOES = convert_BIO(ned_train, begin = True, single = True, end = True)\n",
    "ned_test_BIOES = convert_BIO(ned_test, begin = True, single = True, end = True)\n",
    "\n",
    "X_ned_test_BIOES = [[word[0] for word in sent] for sent in ned_test_BIOES]\n",
    "y_ned_test_BIOES = [[word[1] for word in sent] for sent in ned_test_BIOES]"
   ]
  },
  {
   "cell_type": "code",
   "execution_count": 19,
   "metadata": {},
   "outputs": [],
   "source": [
    "default_hyperparams = {'c1': 0.01, 'c2': 0.1, 'max_iterations': 50, 'feature.possible_transitions': True,\n",
    "                                            'feature.possible_states': True, 'feature.minfreq': 0}\n",
    "model = nltk.tag.CRFTagger(feature_func = Feature_getter(language='ned', next_tok=False), training_opt = default_hyperparams)\n",
    "model.train(ned_train_BIOES, 'models/model.crf.tagger')"
   ]
  },
  {
   "cell_type": "code",
   "execution_count": 20,
   "metadata": {},
   "outputs": [
    {
     "name": "stdout",
     "output_type": "stream",
     "text": [
      "              precision    recall  f1-score   support\n",
      "\n",
      "       B-LOC       0.69      0.45      0.55        60\n",
      "       E-LOC       0.69      0.57      0.62        42\n",
      "       I-LOC       0.33      0.14      0.20         7\n",
      "       S-LOC       0.88      0.86      0.87       714\n",
      "      B-MISC       0.74      0.51      0.60       372\n",
      "      E-MISC       0.68      0.47      0.55       260\n",
      "      I-MISC       0.46      0.35      0.39       150\n",
      "      S-MISC       0.87      0.81      0.84       815\n",
      "       B-ORG       0.78      0.70      0.74       430\n",
      "       E-ORG       0.80      0.73      0.76       399\n",
      "       I-ORG       0.62      0.30      0.40       152\n",
      "       S-ORG       0.74      0.68      0.71       452\n",
      "       B-PER       0.86      0.94      0.90       708\n",
      "       E-PER       0.86      0.96      0.91       690\n",
      "       I-PER       0.87      0.89      0.88       117\n",
      "       S-PER       0.66      0.81      0.72       390\n",
      "\n",
      "   micro avg       0.80      0.76      0.78      5758\n",
      "   macro avg       0.72      0.64      0.67      5758\n",
      "weighted avg       0.80      0.76      0.77      5758\n",
      " samples avg       0.06      0.06      0.06      5758\n",
      "\n",
      "================================================================================\n",
      "Entity level evaluation\n",
      "================================================================================\n"
     ]
    },
    {
     "data": {
      "text/html": [
       "<div>\n",
       "<style scoped>\n",
       "    .dataframe tbody tr th:only-of-type {\n",
       "        vertical-align: middle;\n",
       "    }\n",
       "\n",
       "    .dataframe tbody tr th {\n",
       "        vertical-align: top;\n",
       "    }\n",
       "\n",
       "    .dataframe thead th {\n",
       "        text-align: right;\n",
       "    }\n",
       "</style>\n",
       "<table border=\"1\" class=\"dataframe\">\n",
       "  <thead>\n",
       "    <tr style=\"text-align: right;\">\n",
       "      <th></th>\n",
       "      <th>total acc</th>\n",
       "      <th>total recall</th>\n",
       "      <th>total F1</th>\n",
       "      <th>PER F1</th>\n",
       "      <th>ORG F1</th>\n",
       "      <th>LOC F1</th>\n",
       "      <th>MISC F1</th>\n",
       "    </tr>\n",
       "  </thead>\n",
       "  <tbody>\n",
       "    <tr>\n",
       "      <th>Dutch_BIO</th>\n",
       "      <td>0.814</td>\n",
       "      <td>0.789</td>\n",
       "      <td>0.801</td>\n",
       "      <td>0.777</td>\n",
       "      <td>0.769</td>\n",
       "      <td>0.867</td>\n",
       "      <td>0.811</td>\n",
       "    </tr>\n",
       "    <tr>\n",
       "      <th>Dutch_IO</th>\n",
       "      <td>0.792</td>\n",
       "      <td>0.758</td>\n",
       "      <td>0.775</td>\n",
       "      <td>0.774</td>\n",
       "      <td>0.741</td>\n",
       "      <td>0.830</td>\n",
       "      <td>0.761</td>\n",
       "    </tr>\n",
       "    <tr>\n",
       "      <th>Dutch_BIOS</th>\n",
       "      <td>0.810</td>\n",
       "      <td>0.784</td>\n",
       "      <td>0.797</td>\n",
       "      <td>0.775</td>\n",
       "      <td>0.752</td>\n",
       "      <td>0.876</td>\n",
       "      <td>0.804</td>\n",
       "    </tr>\n",
       "    <tr>\n",
       "      <th>Dutch_BIOES</th>\n",
       "      <td>0.811</td>\n",
       "      <td>0.787</td>\n",
       "      <td>0.799</td>\n",
       "      <td>0.784</td>\n",
       "      <td>0.747</td>\n",
       "      <td>0.874</td>\n",
       "      <td>0.804</td>\n",
       "    </tr>\n",
       "  </tbody>\n",
       "</table>\n",
       "</div>"
      ],
      "text/plain": [
       "             total acc  total recall  total F1  PER F1  ORG F1  LOC F1  \\\n",
       "Dutch_BIO        0.814         0.789     0.801   0.777   0.769   0.867   \n",
       "Dutch_IO         0.792         0.758     0.775   0.774   0.741   0.830   \n",
       "Dutch_BIOS       0.810         0.784     0.797   0.775   0.752   0.876   \n",
       "Dutch_BIOES      0.811         0.787     0.799   0.784   0.747   0.874   \n",
       "\n",
       "             MISC F1  \n",
       "Dutch_BIO      0.811  \n",
       "Dutch_IO       0.761  \n",
       "Dutch_BIOS     0.804  \n",
       "Dutch_BIOES    0.804  "
      ]
     },
     "execution_count": 20,
     "metadata": {},
     "output_type": "execute_result"
    }
   ],
   "source": [
    "pred_ned_BIOES = model.tag_sents(X_ned_test_BIOES)\n",
    "y_pred_BIOES = [[word[1] for word in sent] for sent in pred_ned_BIOES]\n",
    "\n",
    "print(bio_classification_report(y_ned_test_BIOES, y_pred_BIOES))\n",
    "print('='*80)\n",
    "print('Entity level evaluation')\n",
    "print('='*80)\n",
    "results, results_agg_ent = compute_metrics(ned_test_BIOES, pred_ned_BIOES)\n",
    "results_ned = save_ent_results(\"Dutch_BIOES\", results, results_agg_ent, results_ned)\n",
    "results_ned"
   ]
  },
  {
   "cell_type": "markdown",
   "metadata": {},
   "source": [
    "<span style=\"font-family:Courier New\">As we can see, the codification that works best is BIO, with the higher F1-score. On the other side, we find that IO is the worst, surely because of its lack of information. What is sure is that adding 'Single' label turns out in good models. This points us that there are plenty of single token entities. Further actions could be taken with this type of models, but we will continue in the same line, with the BIO model.</span>"
   ]
  },
  {
   "cell_type": "markdown",
   "metadata": {},
   "source": [
    "### <span style=\"font-family:Courier New; color:#336633\">**Spanish Classifier**</span>"
   ]
  },
  {
   "cell_type": "markdown",
   "metadata": {},
   "source": [
    "#### <span style=\"font-family:Courier New; color:#994C00\">**IO**</span>"
   ]
  },
  {
   "cell_type": "code",
   "execution_count": 21,
   "metadata": {},
   "outputs": [],
   "source": [
    "esp_train_IO = convert_BIO(esp_train, begin = False)\n",
    "esp_test_IO = convert_BIO(esp_test, begin = False)\n",
    "\n",
    "X_esp_test_IO = [[word[0] for word in sent] for sent in esp_test_IO]\n",
    "y_esp_test_IO = [[word[1] for word in sent] for sent in esp_test_IO]"
   ]
  },
  {
   "cell_type": "code",
   "execution_count": 22,
   "metadata": {},
   "outputs": [],
   "source": [
    "customed_hyperparams = {'c1': 0.01, 'c2': 1, 'max_iterations': 200, 'feature.possible_transitions': False,\n",
    "                                            'feature.possible_states': True, 'feature.minfreq': 0}\n",
    "model = nltk.tag.CRFTagger(feature_func=Feature_getter(), training_opt = customed_hyperparams)\n",
    "model.train(esp_train_IO, 'models/model.crf.tagger')"
   ]
  },
  {
   "cell_type": "code",
   "execution_count": 23,
   "metadata": {},
   "outputs": [
    {
     "name": "stdout",
     "output_type": "stream",
     "text": [
      "              precision    recall  f1-score   support\n",
      "\n",
      "       I-LOC       0.79      0.75      0.77      1409\n",
      "      I-MISC       0.68      0.55      0.61       896\n",
      "       I-ORG       0.83      0.81      0.82      2504\n",
      "       I-PER       0.84      0.92      0.88      1369\n",
      "\n",
      "   micro avg       0.80      0.78      0.79      6178\n",
      "   macro avg       0.78      0.76      0.77      6178\n",
      "weighted avg       0.80      0.78      0.79      6178\n",
      " samples avg       0.09      0.09      0.09      6178\n",
      "\n",
      "================================================================================\n",
      "Entity level evaluation\n",
      "================================================================================\n"
     ]
    },
    {
     "data": {
      "text/html": [
       "<div>\n",
       "<style scoped>\n",
       "    .dataframe tbody tr th:only-of-type {\n",
       "        vertical-align: middle;\n",
       "    }\n",
       "\n",
       "    .dataframe tbody tr th {\n",
       "        vertical-align: top;\n",
       "    }\n",
       "\n",
       "    .dataframe thead th {\n",
       "        text-align: right;\n",
       "    }\n",
       "</style>\n",
       "<table border=\"1\" class=\"dataframe\">\n",
       "  <thead>\n",
       "    <tr style=\"text-align: right;\">\n",
       "      <th></th>\n",
       "      <th>total acc</th>\n",
       "      <th>total recall</th>\n",
       "      <th>total F1</th>\n",
       "      <th>PER F1</th>\n",
       "      <th>ORG F1</th>\n",
       "      <th>LOC F1</th>\n",
       "      <th>MISC F1</th>\n",
       "    </tr>\n",
       "  </thead>\n",
       "  <tbody>\n",
       "    <tr>\n",
       "      <th>Spanish_BIO</th>\n",
       "      <td>0.797</td>\n",
       "      <td>0.792</td>\n",
       "      <td>0.795</td>\n",
       "      <td>0.853</td>\n",
       "      <td>0.796</td>\n",
       "      <td>0.790</td>\n",
       "      <td>0.650</td>\n",
       "    </tr>\n",
       "    <tr>\n",
       "      <th>Spanish_IO</th>\n",
       "      <td>0.789</td>\n",
       "      <td>0.781</td>\n",
       "      <td>0.785</td>\n",
       "      <td>0.822</td>\n",
       "      <td>0.791</td>\n",
       "      <td>0.791</td>\n",
       "      <td>0.632</td>\n",
       "    </tr>\n",
       "  </tbody>\n",
       "</table>\n",
       "</div>"
      ],
      "text/plain": [
       "             total acc  total recall  total F1  PER F1  ORG F1  LOC F1  \\\n",
       "Spanish_BIO      0.797         0.792     0.795   0.853   0.796   0.790   \n",
       "Spanish_IO       0.789         0.781     0.785   0.822   0.791   0.791   \n",
       "\n",
       "             MISC F1  \n",
       "Spanish_BIO    0.650  \n",
       "Spanish_IO     0.632  "
      ]
     },
     "execution_count": 23,
     "metadata": {},
     "output_type": "execute_result"
    }
   ],
   "source": [
    "pred_esp_IO = model.tag_sents(X_esp_test_IO)\n",
    "y_pred_IO = [[word[1] for word in sent] for sent in pred_esp_IO]\n",
    "\n",
    "print(bio_classification_report(y_esp_test_IO, y_pred_IO))\n",
    "print('='*80)\n",
    "print('Entity level evaluation')\n",
    "print('='*80)\n",
    "results, results_agg_ent = compute_metrics(esp_test_IO, pred_esp_IO)\n",
    "results_esp = save_ent_results(\"Spanish_IO\", results, results_agg_ent, results_esp)\n",
    "results_esp"
   ]
  },
  {
   "cell_type": "markdown",
   "metadata": {},
   "source": [
    "#### <span style=\"font-family:Courier New; color:#994C00\">**BIOS**</span>"
   ]
  },
  {
   "cell_type": "code",
   "execution_count": 8,
   "metadata": {},
   "outputs": [],
   "source": [
    "esp_train_BIOS = convert_BIO(esp_train, begin = True, single = True)\n",
    "esp_test_BIOS = convert_BIO(esp_test, begin = True, single = True)\n",
    "\n",
    "X_esp_test_BIOS = [[word[0] for word in sent] for sent in esp_test_BIOS]\n",
    "y_esp_test_BIOS = [[word[1] for word in sent] for sent in esp_test_BIOS]"
   ]
  },
  {
   "cell_type": "code",
   "execution_count": 25,
   "metadata": {},
   "outputs": [],
   "source": [
    "customed_hyperparams = {'c1': 0.01, 'c2': 1, 'max_iterations': 200, 'feature.possible_transitions': False,\n",
    "                                            'feature.possible_states': True, 'feature.minfreq': 0}\n",
    "model = nltk.tag.CRFTagger(feature_func=Feature_getter(), training_opt = customed_hyperparams)\n",
    "model.train(esp_train_BIOS, 'models/model.crf.tagger')"
   ]
  },
  {
   "cell_type": "code",
   "execution_count": 26,
   "metadata": {},
   "outputs": [
    {
     "name": "stdout",
     "output_type": "stream",
     "text": [
      "              precision    recall  f1-score   support\n",
      "\n",
      "       B-LOC       0.73      0.63      0.68       196\n",
      "       I-LOC       0.72      0.64      0.67       325\n",
      "       S-LOC       0.82      0.82      0.82       888\n",
      "      B-MISC       0.62      0.54      0.58       183\n",
      "      I-MISC       0.66      0.55      0.60       557\n",
      "      S-MISC       0.72      0.45      0.55       156\n",
      "       B-ORG       0.85      0.78      0.81       467\n",
      "       I-ORG       0.84      0.81      0.82      1104\n",
      "       S-ORG       0.78      0.87      0.82       933\n",
      "       B-PER       0.89      0.96      0.92       504\n",
      "       I-PER       0.90      0.95      0.92       634\n",
      "       S-PER       0.75      0.74      0.74       231\n",
      "\n",
      "   micro avg       0.80      0.78      0.79      6178\n",
      "   macro avg       0.77      0.73      0.74      6178\n",
      "weighted avg       0.80      0.78      0.79      6178\n",
      " samples avg       0.09      0.09      0.09      6178\n",
      "\n",
      "================================================================================\n",
      "Entity level evaluation\n",
      "================================================================================\n"
     ]
    },
    {
     "data": {
      "text/html": [
       "<div>\n",
       "<style scoped>\n",
       "    .dataframe tbody tr th:only-of-type {\n",
       "        vertical-align: middle;\n",
       "    }\n",
       "\n",
       "    .dataframe tbody tr th {\n",
       "        vertical-align: top;\n",
       "    }\n",
       "\n",
       "    .dataframe thead th {\n",
       "        text-align: right;\n",
       "    }\n",
       "</style>\n",
       "<table border=\"1\" class=\"dataframe\">\n",
       "  <thead>\n",
       "    <tr style=\"text-align: right;\">\n",
       "      <th></th>\n",
       "      <th>total acc</th>\n",
       "      <th>total recall</th>\n",
       "      <th>total F1</th>\n",
       "      <th>PER F1</th>\n",
       "      <th>ORG F1</th>\n",
       "      <th>LOC F1</th>\n",
       "      <th>MISC F1</th>\n",
       "    </tr>\n",
       "  </thead>\n",
       "  <tbody>\n",
       "    <tr>\n",
       "      <th>Spanish_BIO</th>\n",
       "      <td>0.797</td>\n",
       "      <td>0.792</td>\n",
       "      <td>0.795</td>\n",
       "      <td>0.853</td>\n",
       "      <td>0.796</td>\n",
       "      <td>0.790</td>\n",
       "      <td>0.650</td>\n",
       "    </tr>\n",
       "    <tr>\n",
       "      <th>Spanish_IO</th>\n",
       "      <td>0.789</td>\n",
       "      <td>0.781</td>\n",
       "      <td>0.785</td>\n",
       "      <td>0.822</td>\n",
       "      <td>0.791</td>\n",
       "      <td>0.791</td>\n",
       "      <td>0.632</td>\n",
       "    </tr>\n",
       "    <tr>\n",
       "      <th>Spanish_BIOS</th>\n",
       "      <td>0.799</td>\n",
       "      <td>0.794</td>\n",
       "      <td>0.796</td>\n",
       "      <td>0.854</td>\n",
       "      <td>0.794</td>\n",
       "      <td>0.801</td>\n",
       "      <td>0.640</td>\n",
       "    </tr>\n",
       "  </tbody>\n",
       "</table>\n",
       "</div>"
      ],
      "text/plain": [
       "              total acc  total recall  total F1  PER F1  ORG F1  LOC F1  \\\n",
       "Spanish_BIO       0.797         0.792     0.795   0.853   0.796   0.790   \n",
       "Spanish_IO        0.789         0.781     0.785   0.822   0.791   0.791   \n",
       "Spanish_BIOS      0.799         0.794     0.796   0.854   0.794   0.801   \n",
       "\n",
       "              MISC F1  \n",
       "Spanish_BIO     0.650  \n",
       "Spanish_IO      0.632  \n",
       "Spanish_BIOS    0.640  "
      ]
     },
     "execution_count": 26,
     "metadata": {},
     "output_type": "execute_result"
    }
   ],
   "source": [
    "pred_esp_BIOS = model.tag_sents(X_esp_test_BIOS)\n",
    "y_pred_BIOS = [[word[1] for word in sent] for sent in pred_esp_BIOS]\n",
    "\n",
    "print(bio_classification_report(y_esp_test_BIOS, y_pred_BIOS))\n",
    "print('='*80)\n",
    "print('Entity level evaluation')\n",
    "print('='*80)\n",
    "results, results_agg_ent = compute_metrics(esp_test_BIOS, pred_esp_BIOS)\n",
    "results_esp = save_ent_results(\"Spanish_BIOS\", results, results_agg_ent, results_esp)\n",
    "results_esp"
   ]
  },
  {
   "cell_type": "markdown",
   "metadata": {},
   "source": [
    "#### <span style=\"font-family:Courier New; color:#994C00\">**BIOES**</span>"
   ]
  },
  {
   "cell_type": "code",
   "execution_count": 9,
   "metadata": {},
   "outputs": [],
   "source": [
    "esp_train_BIOES = convert_BIO(esp_train, begin = True, single = True, end = True)\n",
    "esp_test_BIOES = convert_BIO(esp_test, begin = True, single = True, end = True)\n",
    "\n",
    "X_esp_test_BIOES = [[word[0] for word in sent] for sent in esp_test_BIOES]\n",
    "y_esp_test_BIOES = [[word[1] for word in sent] for sent in esp_test_BIOES]"
   ]
  },
  {
   "cell_type": "code",
   "execution_count": 10,
   "metadata": {},
   "outputs": [],
   "source": [
    "customed_hyperparams = {'c1': 0.01, 'c2': 1, 'max_iterations': 200, 'feature.possible_transitions': False,\n",
    "                                            'feature.possible_states': True, 'feature.minfreq': 0}\n",
    "model = nltk.tag.CRFTagger(feature_func=Feature_getter(), training_opt = customed_hyperparams)\n",
    "model.train(esp_train_BIOES, 'models/spanish.crf.tagger')"
   ]
  },
  {
   "cell_type": "code",
   "execution_count": 29,
   "metadata": {},
   "outputs": [
    {
     "name": "stdout",
     "output_type": "stream",
     "text": [
      "              precision    recall  f1-score   support\n",
      "\n",
      "       B-LOC       0.73      0.65      0.69       196\n",
      "       E-LOC       0.75      0.69      0.72       177\n",
      "       I-LOC       0.65      0.58      0.61       148\n",
      "       S-LOC       0.82      0.83      0.82       888\n",
      "      B-MISC       0.66      0.52      0.59       183\n",
      "      E-MISC       0.58      0.48      0.52       183\n",
      "      I-MISC       0.72      0.49      0.58       374\n",
      "      S-MISC       0.70      0.44      0.54       156\n",
      "       B-ORG       0.85      0.78      0.81       467\n",
      "       E-ORG       0.78      0.72      0.75       458\n",
      "       I-ORG       0.81      0.80      0.81       646\n",
      "       S-ORG       0.78      0.87      0.82       933\n",
      "       B-PER       0.88      0.96      0.92       504\n",
      "       E-PER       0.87      0.96      0.91       498\n",
      "       I-PER       0.87      0.82      0.84       136\n",
      "       S-PER       0.77      0.74      0.75       231\n",
      "\n",
      "   micro avg       0.80      0.77      0.78      6178\n",
      "   macro avg       0.76      0.71      0.73      6178\n",
      "weighted avg       0.79      0.77      0.78      6178\n",
      " samples avg       0.09      0.09      0.09      6178\n",
      "\n",
      "================================================================================\n",
      "Entity level evaluation\n",
      "================================================================================\n"
     ]
    },
    {
     "data": {
      "text/html": [
       "<div>\n",
       "<style scoped>\n",
       "    .dataframe tbody tr th:only-of-type {\n",
       "        vertical-align: middle;\n",
       "    }\n",
       "\n",
       "    .dataframe tbody tr th {\n",
       "        vertical-align: top;\n",
       "    }\n",
       "\n",
       "    .dataframe thead th {\n",
       "        text-align: right;\n",
       "    }\n",
       "</style>\n",
       "<table border=\"1\" class=\"dataframe\">\n",
       "  <thead>\n",
       "    <tr style=\"text-align: right;\">\n",
       "      <th></th>\n",
       "      <th>total acc</th>\n",
       "      <th>total recall</th>\n",
       "      <th>total F1</th>\n",
       "      <th>PER F1</th>\n",
       "      <th>ORG F1</th>\n",
       "      <th>LOC F1</th>\n",
       "      <th>MISC F1</th>\n",
       "    </tr>\n",
       "  </thead>\n",
       "  <tbody>\n",
       "    <tr>\n",
       "      <th>Spanish_BIO</th>\n",
       "      <td>0.797</td>\n",
       "      <td>0.792</td>\n",
       "      <td>0.795</td>\n",
       "      <td>0.853</td>\n",
       "      <td>0.796</td>\n",
       "      <td>0.790</td>\n",
       "      <td>0.650</td>\n",
       "    </tr>\n",
       "    <tr>\n",
       "      <th>Spanish_IO</th>\n",
       "      <td>0.789</td>\n",
       "      <td>0.781</td>\n",
       "      <td>0.785</td>\n",
       "      <td>0.822</td>\n",
       "      <td>0.791</td>\n",
       "      <td>0.791</td>\n",
       "      <td>0.632</td>\n",
       "    </tr>\n",
       "    <tr>\n",
       "      <th>Spanish_BIOS</th>\n",
       "      <td>0.799</td>\n",
       "      <td>0.794</td>\n",
       "      <td>0.796</td>\n",
       "      <td>0.854</td>\n",
       "      <td>0.794</td>\n",
       "      <td>0.801</td>\n",
       "      <td>0.640</td>\n",
       "    </tr>\n",
       "    <tr>\n",
       "      <th>Spanish_BIOES</th>\n",
       "      <td>0.799</td>\n",
       "      <td>0.796</td>\n",
       "      <td>0.797</td>\n",
       "      <td>0.854</td>\n",
       "      <td>0.791</td>\n",
       "      <td>0.802</td>\n",
       "      <td>0.652</td>\n",
       "    </tr>\n",
       "  </tbody>\n",
       "</table>\n",
       "</div>"
      ],
      "text/plain": [
       "               total acc  total recall  total F1  PER F1  ORG F1  LOC F1  \\\n",
       "Spanish_BIO        0.797         0.792     0.795   0.853   0.796   0.790   \n",
       "Spanish_IO         0.789         0.781     0.785   0.822   0.791   0.791   \n",
       "Spanish_BIOS       0.799         0.794     0.796   0.854   0.794   0.801   \n",
       "Spanish_BIOES      0.799         0.796     0.797   0.854   0.791   0.802   \n",
       "\n",
       "               MISC F1  \n",
       "Spanish_BIO      0.650  \n",
       "Spanish_IO       0.632  \n",
       "Spanish_BIOS     0.640  \n",
       "Spanish_BIOES    0.652  "
      ]
     },
     "execution_count": 29,
     "metadata": {},
     "output_type": "execute_result"
    }
   ],
   "source": [
    "pred_esp_BIOES = model.tag_sents(X_esp_test_BIOES)\n",
    "y_pred_BIOES = [[word[1] for word in sent] for sent in pred_esp_BIOES]\n",
    "\n",
    "print(bio_classification_report(y_esp_test_BIOES, y_pred_BIOES))\n",
    "print('='*80)\n",
    "print('Entity level evaluation')\n",
    "print('='*80)\n",
    "results, results_agg_ent = compute_metrics(esp_test_BIOES, pred_esp_BIOES)\n",
    "results_esp = save_ent_results(\"Spanish_BIOES\", results, results_agg_ent, results_esp)\n",
    "results_esp"
   ]
  },
  {
   "cell_type": "markdown",
   "metadata": {},
   "source": [
    "<span style=\"font-family:Courier New\">As we can see, as in the dutch model, the codification that works best is BIO, with the higher F1-score. On the other side, we find that IO is the worst, surely because of its lack of information. What is sure is that adding 'Single' label turns out in good models. This points us that there are plenty of single token entities. Further actions could be taken with this type of models, but we will continue in the same line, with the BIO model.</span>"
   ]
  },
  {
   "cell_type": "markdown",
   "metadata": {},
   "source": [
    "## <span style=\"font-family:Courier New; color:#336666\">**Language Models Comparsion**</span>"
   ]
  },
  {
   "cell_type": "markdown",
   "metadata": {},
   "source": [
    "<span style=\"font-family:Courier New\">In this section, once we have found the best models for each language, we consider opportune to make a comparison.</span>"
   ]
  },
  {
   "cell_type": "code",
   "execution_count": 10,
   "metadata": {},
   "outputs": [],
   "source": [
    "dutch_hyperparams = {'c1': 0.01, 'c2': 0.1, 'max_iterations': 50, 'feature.possible_transitions': True,\n",
    "                                            'feature.possible_states': True, 'feature.minfreq': 0}\n",
    "dutch_model = nltk.tag.CRFTagger(feature_func = Feature_getter(language='ned', next_tok=False), training_opt = dutch_hyperparams)\n",
    "dutch_model.train(ned_train_BIO, 'models/dutch.crf.tagger')"
   ]
  },
  {
   "cell_type": "code",
   "execution_count": 11,
   "metadata": {},
   "outputs": [],
   "source": [
    "spanish_hyperparams = {'c1': 0.01, 'c2': 1, 'max_iterations': 200, 'feature.possible_transitions': False,\n",
    "                                            'feature.possible_states': True, 'feature.minfreq': 0}\n",
    "spanish_model = nltk.tag.CRFTagger(feature_func=Feature_getter(), training_opt = spanish_hyperparams)\n",
    "spanish_model.train(esp_train_BIOES, 'models/spanish.crf.tagger')"
   ]
  },
  {
   "cell_type": "markdown",
   "metadata": {},
   "source": [
    "### <span style=\"font-family:Courier New; color:#336633\">**Feature Importance**</span>"
   ]
  },
  {
   "cell_type": "code",
   "execution_count": 20,
   "metadata": {},
   "outputs": [
    {
     "name": "stdout",
     "output_type": "stream",
     "text": [
      "Dutch Important Features\n",
      "================================================================================\n",
      "Top positive:                       |     Top negative:\n",
      "-----------------------------------------------------------------------------\n",
      "5.861 O      PUNCTUATION                -1.639 O      LEMMA_gewinnensie         \n",
      "5.023 O      SHAPE_xxxx                 -1.639 O      WORD_gewinnensie          \n",
      "3.713 B-LOC  WORD_Gent                  -1.640 B-MISC SHAPE_xx                  \n",
      "3.346 B-MISC SHAPE_XXX-xxxx             -1.641 B-MISC SHAPE_xxx                 \n",
      "3.298 O      WORD_.                     -1.654 B-PER  LEN_14                    \n",
      "3.274 O      SHAPE_xxxx-xxxx            -1.682 O      SUF_win                   \n",
      "3.091 O      POS_PUNCT                  -1.695 O      WORD_Allen                \n",
      "2.977 O      HAS_NUM                    -1.701 B-PER  -1_LEMMA_het              \n",
      "2.622 O      SHAPE_XXXX                 -1.710 O      -1_POS_ADP                \n",
      "2.552 O      POS_ADV                    -1.717 O      -1_PRE_pat                \n",
      "2.546 B-MISC SUF_se                     -1.730 O      PRE_Mar                   \n",
      "2.532 O      POS_PRON                   -1.738 B-LOC  HAS_NUM                   \n",
      "2.526 B-PER  PRE_Chr                    -1.749 B-MISC SHAPE_xxxx                \n",
      "2.488 O      SHAPE_xxx                  -1.766 O      SHAPE_XXX-xxxx            \n",
      "2.483 O      LEN_2                      -1.811 O      WORD_Vanderpoorten        \n",
      "2.414 B-MISC LEMMA_groenen              -1.832 O      -1_SHAPE_xxxx             \n",
      "2.408 O      LEN_3                      -1.841 O      WORD_groenen              \n",
      "2.360 O      SHAPE_xxxx-                -1.882 O      SHAPE_XXd                 \n",
      "2.319 B-PER  WORD_Vanderpoorten         -1.884 B-PER  SUF_ing                   \n",
      "2.230 B-MISC SHAPE_xxxx-Xxxxx           -1.926 B-ORG  SUF_ns                    \n",
      "2.213 O      SUF_ij                     -1.943 O      WORD_Gent                 \n",
      "2.209 B-LOC  WORD_Engeland              -2.064 O      SUF_our                   \n",
      "2.198 O      LEN_1                      -2.158 B-PER  SHAPE_xxxx                \n",
      "2.189 B-LOC  SUF_urs                    -2.177 O      LEMMA_groenen             \n",
      "2.150 B-LOC  PRE_VS                     -2.288 B-PER  HAS_NUM                   \n",
      "2.134 O      POS_AUX                    -2.395 O      -1_SHAPE_xxx              \n",
      "2.116 O      WORD_in                    -2.532 B-MISC POS_INTJ                  \n",
      "2.066 O      SHAPE_xx                   -2.537 I-MISC -1_SUF_se                 \n",
      "2.063 B-MISC SHAPE_Xxxxx-xxxx           -2.590 B-LOC  SHAPE_xxxx                \n",
      "2.057 O      SUF_g                      -2.755 B-ORG  SHAPE_xxxx                \n",
      "\n",
      "Spanish Important Features\n",
      "================================================================================\n",
      "Top positive:                       |     Top negative:\n",
      "-----------------------------------------------------------------------------\n",
      "4.140 O      PUNCTUATION                -1.024 S-LOC  +1_HAS_NUM                \n",
      "3.398 O      WORD_.                     -1.028 S-LOC  -1_SHAPE_Xxxxx            \n",
      "2.723 O      SHAPE_xxxx                 -1.058 O      -1_LEN_3                  \n",
      "2.465 O      HAS_NUM                    -1.075 S-LOC  -1_POS_PROPN              \n",
      "2.300 O      +1_CAPITALIZATION          -1.085 S-LOC  PRE_Ju                    \n",
      "2.068 I-PER  SHAPE_X                    -1.094 B-MISC -1_WORD_.                 \n",
      "1.970 E-MISC -1_WORD_.                  -1.107 S-ORG  SHAPE_Xxxx                \n",
      "1.832 E-ORG  -1_WORD_.                  -1.107 E-MISC +1_CAPITALIZATION         \n",
      "1.793 O      POS_ADV                    -1.108 O      -1_SHAPE_xxxx             \n",
      "1.760 B-PER  SHAPE_X                    -1.141 E-ORG  +1_CAPITALIZATION         \n",
      "1.755 O      POS_PUNCT                  -1.142 S-PER  SUF_os                    \n",
      "1.686 O      LEN_1                      -1.143 B-PER  -1_WORD_.                 \n",
      "1.563 O      SUF_ó                      -1.149 S-ORG  SHAPE_X                   \n",
      "1.535 O      PRE_.                      -1.181 S-PER  PRE_E                     \n",
      "1.517 O      +1_POS_PROPN               -1.195 S-MISC SHAPE_xxxx                \n",
      "1.491 O      SUF_n                      -1.221 S-LOC  SUF_ión                   \n",
      "1.482 E-MISC +1_SHAPE_dd,dd             -1.239 S-PER  SUF_ia                    \n",
      "1.481 O      POS_ADP                    -1.246 S-LOC  -1_WORD_.                 \n",
      "1.481 B-PER  LEN_1                      -1.289 I-ORG  PUNCTUATION               \n",
      "1.450 O      LEMMA_.                    -1.311 O      POS_PROPN                 \n",
      "1.450 O      SHAPE_.                    -1.335 O      -1_LEN_1                  \n",
      "1.437 S-MISC CAPITALIZATION             -1.378 S-ORG  LEN_1                     \n",
      "1.414 O      LEN_2                      -1.411 S-ORG  SHAPE_xxxx                \n",
      "1.405 O      SHAPE_XXXX                 -1.447 S-ORG  -1_WORD_.                 \n",
      "1.378 O      +1_SHAPE_xxxx              -1.482 S-ORG  HAS_NUM                   \n",
      "1.375 O      POS_SCONJ                  -1.694 S-PER  -1_POS_PROPN              \n",
      "1.363 B-ORG  +1_HAS_NUM                 -1.700 O      -1_WORD_.                 \n",
      "1.342 O      SUF_e                      -1.765 O      -1_POS_ADP                \n",
      "1.334 O      WORD_y                     -1.812 I-MISC PUNCTUATION               \n",
      "1.307 I-ORG  -1_PUNCTUATION             -3.860 O      CAPITALIZATION            \n"
     ]
    }
   ],
   "source": [
    "print('Dutch Important Features')\n",
    "print('='*80)\n",
    "feature_importance(dutch_model)\n",
    "print()\n",
    "print('Spanish Important Features')\n",
    "print('='*80)\n",
    "feature_importance(spanish_model)"
   ]
  },
  {
   "cell_type": "markdown",
   "metadata": {},
   "source": [
    "### <span style=\"font-family:Courier New; color:#336633\">**Performance**</span>"
   ]
  },
  {
   "cell_type": "code",
   "execution_count": 8,
   "metadata": {},
   "outputs": [
    {
     "name": "stdout",
     "output_type": "stream",
     "text": [
      "Entity level evaluation\n",
      "================================================================================\n"
     ]
    },
    {
     "data": {
      "text/html": [
       "<div>\n",
       "<style scoped>\n",
       "    .dataframe tbody tr th:only-of-type {\n",
       "        vertical-align: middle;\n",
       "    }\n",
       "\n",
       "    .dataframe tbody tr th {\n",
       "        vertical-align: top;\n",
       "    }\n",
       "\n",
       "    .dataframe thead th {\n",
       "        text-align: right;\n",
       "    }\n",
       "</style>\n",
       "<table border=\"1\" class=\"dataframe\">\n",
       "  <thead>\n",
       "    <tr style=\"text-align: right;\">\n",
       "      <th></th>\n",
       "      <th>total acc</th>\n",
       "      <th>total recall</th>\n",
       "      <th>total F1</th>\n",
       "      <th>PER F1</th>\n",
       "      <th>ORG F1</th>\n",
       "      <th>LOC F1</th>\n",
       "      <th>MISC F1</th>\n",
       "    </tr>\n",
       "  </thead>\n",
       "  <tbody>\n",
       "    <tr>\n",
       "      <th>Dutch Model</th>\n",
       "      <td>0.814</td>\n",
       "      <td>0.789</td>\n",
       "      <td>0.801</td>\n",
       "      <td>0.777</td>\n",
       "      <td>0.769</td>\n",
       "      <td>0.867</td>\n",
       "      <td>0.811</td>\n",
       "    </tr>\n",
       "    <tr>\n",
       "      <th>Spanish Model</th>\n",
       "      <td>0.799</td>\n",
       "      <td>0.796</td>\n",
       "      <td>0.797</td>\n",
       "      <td>0.854</td>\n",
       "      <td>0.791</td>\n",
       "      <td>0.802</td>\n",
       "      <td>0.652</td>\n",
       "    </tr>\n",
       "  </tbody>\n",
       "</table>\n",
       "</div>"
      ],
      "text/plain": [
       "               total acc  total recall  total F1  PER F1  ORG F1  LOC F1  \\\n",
       "Dutch Model        0.814         0.789     0.801   0.777   0.769   0.867   \n",
       "Spanish Model      0.799         0.796     0.797   0.854   0.791   0.802   \n",
       "\n",
       "               MISC F1  \n",
       "Dutch Model      0.811  \n",
       "Spanish Model    0.652  "
      ]
     },
     "execution_count": 8,
     "metadata": {},
     "output_type": "execute_result"
    }
   ],
   "source": [
    "pred_ned_BIO = dutch_model.tag_sents(X_ned_test_BIO)\n",
    "y_pred_BIO = [[word[1] for word in sent] for sent in pred_ned_BIO]\n",
    "\n",
    "pred_esp_BIOES = spanish_model.tag_sents(X_esp_test_BIOES)\n",
    "y_pred_BIOES = [[word[1] for word in sent] for sent in pred_esp_BIOES]\n",
    "\n",
    "print('Entity level evaluation')\n",
    "print('='*80)\n",
    "results, results_agg_ent = compute_metrics(ned_test_BIO, pred_ned_BIO)\n",
    "results_df = save_ent_results(\"Dutch Model\", results, results_agg_ent, pd.DataFrame())\n",
    "\n",
    "results, results_agg_ent = compute_metrics(esp_test_BIOES, pred_esp_BIOES)\n",
    "results_df = save_ent_results(\"Spanish Model\", results, results_agg_ent, results_df)\n",
    "results_df"
   ]
  },
  {
   "cell_type": "code",
   "execution_count": 9,
   "metadata": {},
   "outputs": [
    {
     "name": "stdout",
     "output_type": "stream",
     "text": [
      "==============================  DUTCH   ==============================\n"
     ]
    },
    {
     "data": {
      "image/png": "[encoded data removed]",
      "text/plain": [
       "<Figure size 700x500 with 2 Axes>"
      ]
     },
     "metadata": {},
     "output_type": "display_data"
    },
    {
     "name": "stdout",
     "output_type": "stream",
     "text": [
      "==============================  SPANISH   ==============================\n"
     ]
    },
    {
     "data": {
      "image/png": "[encoded data removed]",
      "text/plain": [
       "<Figure size 700x500 with 2 Axes>"
      ]
     },
     "metadata": {},
     "output_type": "display_data"
    }
   ],
   "source": [
    "print('='*30 + '  DUTCH   ' + '=' * 30)\n",
    "ent_confusion_matrix(y_ned_test_BIO, y_pred_BIO)\n",
    "print('='*30 + '  SPANISH   ' + '=' * 30)\n",
    "ent_confusion_matrix(y_esp_test_BIOES, y_pred_BIOES)"
   ]
  }
 ],
 "metadata": {
  "kernelspec": {
   "display_name": "Python 3",
   "language": "python",
   "name": "python3"
  },
  "language_info": {
   "codemirror_mode": {
    "name": "ipython",
    "version": 3
   },
   "file_extension": ".py",
   "mimetype": "text/x-python",
   "name": "python",
   "nbconvert_exporter": "python",
   "pygments_lexer": "ipython3",
   "version": "3.10.10"
  }
 },
 "nbformat": 4,
 "nbformat_minor": 2
}
