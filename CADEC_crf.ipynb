{
 "cells": [
  {
   "cell_type": "markdown",
   "metadata": {},
   "source": [
    "# <span style=\"font-family:Courier New; color:#CCCCCC\">**CADEC Named Entity Recognition CRF**</span>"
   ]
  },
  {
   "cell_type": "markdown",
   "metadata": {},
   "source": [
    "## <span style=\"font-family:Courier New; color:#336666\">**Load Data and Imports**</span>"
   ]
  },
  {
   "cell_type": "code",
   "execution_count": 2,
   "metadata": {},
   "outputs": [],
   "source": [
    "from preprocessing import convert_BIO\n",
    "from NER_evaluation import *\n",
    "from feature_getter import Feature_getter\n",
    "import pycrfsuite\n",
    "from collections import Counter\n",
    "import pandas as pd\n",
    "import nltk\n",
    "import re"
   ]
  },
  {
   "cell_type": "code",
   "execution_count": 3,
   "metadata": {},
   "outputs": [],
   "source": [
    "def decode_cadec(file_path):\n",
    "    pattern = r'\\.\\d+$'\n",
    "    ent_map = {1: 'ADR', 2: 'Di', 3: 'Dr', 4: 'S', 5: 'F'}\n",
    "    data = list()\n",
    "    with open(file_path, \"r\") as file:\n",
    "        sent = list()\n",
    "        for line in file:\n",
    "            tok = line.split()\n",
    "            if tok == []:\n",
    "                \"add previous sentence tokens\"\n",
    "                data.append(sent)\n",
    "                sent = list()\n",
    "            else:\n",
    "                if not re.search(pattern, tok[0]):\n",
    "                    for i, label in enumerate(tok):\n",
    "                        if i > 0 and label != 'O':\n",
    "                            sent.append((tok[0], '', label[0] + '-' + ent_map[i]))\n",
    "                            break\n",
    "                        if i == len(tok) - 1:\n",
    "                            sent.append((tok[0], '', 'O'))\n",
    "    return data\n",
    "\n",
    "train_data = decode_cadec('data/train.conll')\n",
    "test_data = decode_cadec('data/test.conll')"
   ]
  },
  {
   "cell_type": "code",
   "execution_count": 3,
   "metadata": {},
   "outputs": [],
   "source": [
    "train_BIO = convert_BIO(train_data)\n",
    "test_BIO = convert_BIO(test_data)\n",
    "\n",
    "X_test_BIO = [[word[0] for word in sent] for sent in test_BIO]\n",
    "y_test_BIO = [[word[1] for word in sent] for sent in test_BIO]"
   ]
  },
  {
   "cell_type": "markdown",
   "metadata": {},
   "source": [
    "## <span style=\"font-family:Courier New; color:#336666\">**Train Classifier**</span>"
   ]
  },
  {
   "cell_type": "code",
   "execution_count": 4,
   "metadata": {},
   "outputs": [],
   "source": [
    "model = nltk.tag.CRFTagger(feature_func = Feature_getter())\n",
    "model.train(train_BIO, 'models/model_CADEC_BIO.crf.tagger')"
   ]
  },
  {
   "cell_type": "code",
   "execution_count": 10,
   "metadata": {},
   "outputs": [
    {
     "data": {
      "text/html": [
       "<div>\n",
       "<style scoped>\n",
       "    .dataframe tbody tr th:only-of-type {\n",
       "        vertical-align: middle;\n",
       "    }\n",
       "\n",
       "    .dataframe tbody tr th {\n",
       "        vertical-align: top;\n",
       "    }\n",
       "\n",
       "    .dataframe thead th {\n",
       "        text-align: right;\n",
       "    }\n",
       "</style>\n",
       "<table border=\"1\" class=\"dataframe\">\n",
       "  <thead>\n",
       "    <tr style=\"text-align: right;\">\n",
       "      <th></th>\n",
       "      <th>total acc</th>\n",
       "      <th>total recall</th>\n",
       "      <th>total F1</th>\n",
       "      <th>ADR F1</th>\n",
       "      <th>Di F1</th>\n",
       "      <th>Dr F1</th>\n",
       "      <th>S F1</th>\n",
       "      <th>F F1</th>\n",
       "    </tr>\n",
       "  </thead>\n",
       "  <tbody>\n",
       "    <tr>\n",
       "      <th>BIO_w/o_hiper</th>\n",
       "      <td>0.737</td>\n",
       "      <td>0.605</td>\n",
       "      <td>0.664</td>\n",
       "      <td>0.664</td>\n",
       "      <td>0.305</td>\n",
       "      <td>0.847</td>\n",
       "      <td>0.25</td>\n",
       "      <td>0.182</td>\n",
       "    </tr>\n",
       "  </tbody>\n",
       "</table>\n",
       "</div>"
      ],
      "text/plain": [
       "               total acc  total recall  total F1  ADR F1  Di F1  Dr F1  S F1  \\\n",
       "BIO_w/o_hiper      0.737         0.605     0.664   0.664  0.305  0.847  0.25   \n",
       "\n",
       "                F F1  \n",
       "BIO_w/o_hiper  0.182  "
      ]
     },
     "execution_count": 10,
     "metadata": {},
     "output_type": "execute_result"
    }
   ],
   "source": [
    "results_df = pd.DataFrame()\n",
    "def save_results(nclf, results, results_agg_ent, df):\n",
    "    df.loc[nclf,'total acc'] = results[\"precision\"]\n",
    "    df.loc[nclf,'total recall'] = results[\"recall\"]\n",
    "    df.loc[nclf,'total F1'] = results[\"F1-score\"]\n",
    "    df.loc[nclf,'ADR F1'] = results_agg_ent[\"ADR\"][\"F1-score\"]\n",
    "    df.loc[nclf,'Di F1'] = results_agg_ent[\"Di\"][\"F1-score\"]\n",
    "    df.loc[nclf,'Dr F1'] = results_agg_ent[\"Dr\"][\"F1-score\"]\n",
    "    df.loc[nclf,'S F1'] = results_agg_ent[\"S\"][\"F1-score\"]\n",
    "    df.loc[nclf,'F F1'] = results_agg_ent[\"F\"][\"F1-score\"]\n",
    "    return df\n",
    "\n",
    "\n",
    "pred = model.tag_sents(X_test_BIO)\n",
    "results, results_agg_ent = compute_metrics(test_BIO, pred,mode = 'CADEC')\n",
    "save_results(\"BIO_w/o_hiper\", results, results_agg_ent, results_df)"
   ]
  },
  {
   "cell_type": "markdown",
   "metadata": {},
   "source": [
    "### <span style=\"font-family:Courier New; color:#336666\">**BIO with conll hiperparameters**</span>"
   ]
  },
  {
   "cell_type": "code",
   "execution_count": 11,
   "metadata": {},
   "outputs": [],
   "source": [
    "customed_hyperparams = {'c1': 0.01, 'c2': 1, 'max_iterations': 200, 'feature.possible_transitions': False,\n",
    "                                            'feature.possible_states': True, 'feature.minfreq': 0}"
   ]
  },
  {
   "cell_type": "code",
   "execution_count": 12,
   "metadata": {},
   "outputs": [],
   "source": [
    "model = nltk.tag.CRFTagger(feature_func = Feature_getter(), training_opt = customed_hyperparams)\n",
    "model.train(train_BIO, 'models/model_CADEC_BIO_hyp.crf.tagger')"
   ]
  },
  {
   "cell_type": "code",
   "execution_count": 14,
   "metadata": {},
   "outputs": [
    {
     "data": {
      "text/html": [
       "<div>\n",
       "<style scoped>\n",
       "    .dataframe tbody tr th:only-of-type {\n",
       "        vertical-align: middle;\n",
       "    }\n",
       "\n",
       "    .dataframe tbody tr th {\n",
       "        vertical-align: top;\n",
       "    }\n",
       "\n",
       "    .dataframe thead th {\n",
       "        text-align: right;\n",
       "    }\n",
       "</style>\n",
       "<table border=\"1\" class=\"dataframe\">\n",
       "  <thead>\n",
       "    <tr style=\"text-align: right;\">\n",
       "      <th></th>\n",
       "      <th>total acc</th>\n",
       "      <th>total recall</th>\n",
       "      <th>total F1</th>\n",
       "      <th>ADR F1</th>\n",
       "      <th>Di F1</th>\n",
       "      <th>Dr F1</th>\n",
       "      <th>S F1</th>\n",
       "      <th>F F1</th>\n",
       "    </tr>\n",
       "  </thead>\n",
       "  <tbody>\n",
       "    <tr>\n",
       "      <th>BIO_w/o_hiper</th>\n",
       "      <td>0.737</td>\n",
       "      <td>0.605</td>\n",
       "      <td>0.664</td>\n",
       "      <td>0.664</td>\n",
       "      <td>0.305</td>\n",
       "      <td>0.847</td>\n",
       "      <td>0.250</td>\n",
       "      <td>0.182</td>\n",
       "    </tr>\n",
       "    <tr>\n",
       "      <th>BIO_hiper</th>\n",
       "      <td>0.736</td>\n",
       "      <td>0.608</td>\n",
       "      <td>0.666</td>\n",
       "      <td>0.669</td>\n",
       "      <td>0.298</td>\n",
       "      <td>0.842</td>\n",
       "      <td>0.273</td>\n",
       "      <td>0.174</td>\n",
       "    </tr>\n",
       "  </tbody>\n",
       "</table>\n",
       "</div>"
      ],
      "text/plain": [
       "               total acc  total recall  total F1  ADR F1  Di F1  Dr F1   S F1  \\\n",
       "BIO_w/o_hiper      0.737         0.605     0.664   0.664  0.305  0.847  0.250   \n",
       "BIO_hiper          0.736         0.608     0.666   0.669  0.298  0.842  0.273   \n",
       "\n",
       "                F F1  \n",
       "BIO_w/o_hiper  0.182  \n",
       "BIO_hiper      0.174  "
      ]
     },
     "execution_count": 14,
     "metadata": {},
     "output_type": "execute_result"
    }
   ],
   "source": [
    "pred = model.tag_sents(X_test_BIO)\n",
    "results, results_agg_ent = compute_metrics(test_BIO, pred,mode = \"CADEC\")\n",
    "save_results(\"BIO_hiper\", results, results_agg_ent, results_df)"
   ]
  },
  {
   "cell_type": "markdown",
   "metadata": {},
   "source": [
    "<span style=\"font-family:Courier New\">We can see how DI,S and F categories are missclassified greatly. Speaking of hiperparameters though, we can see how the hiperparameters for the previous problem seem to slightly improve F1 score.</span>"
   ]
  },
  {
   "cell_type": "markdown",
   "metadata": {},
   "source": [
    "### <span style=\"font-family:Courier New; color:#336666\">**IO**</span>"
   ]
  },
  {
   "cell_type": "code",
   "execution_count": 15,
   "metadata": {},
   "outputs": [],
   "source": [
    "train_IO = convert_BIO(train_data, begin = False)\n",
    "test_IO = convert_BIO(test_data, begin = False)\n",
    "\n",
    "X_test_IO = [[word[0] for word in sent] for sent in test_IO]\n",
    "y_test_IO = [[word[1] for word in sent] for sent in test_IO]"
   ]
  },
  {
   "cell_type": "code",
   "execution_count": 16,
   "metadata": {},
   "outputs": [],
   "source": [
    "model = nltk.tag.CRFTagger(feature_func = Feature_getter(), training_opt = customed_hyperparams)\n",
    "model.train(train_IO, 'models/model_CADEC_IO_hyp.crf.tagger')"
   ]
  },
  {
   "cell_type": "code",
   "execution_count": 17,
   "metadata": {},
   "outputs": [
    {
     "data": {
      "text/html": [
       "<div>\n",
       "<style scoped>\n",
       "    .dataframe tbody tr th:only-of-type {\n",
       "        vertical-align: middle;\n",
       "    }\n",
       "\n",
       "    .dataframe tbody tr th {\n",
       "        vertical-align: top;\n",
       "    }\n",
       "\n",
       "    .dataframe thead th {\n",
       "        text-align: right;\n",
       "    }\n",
       "</style>\n",
       "<table border=\"1\" class=\"dataframe\">\n",
       "  <thead>\n",
       "    <tr style=\"text-align: right;\">\n",
       "      <th></th>\n",
       "      <th>total acc</th>\n",
       "      <th>total recall</th>\n",
       "      <th>total F1</th>\n",
       "      <th>ADR F1</th>\n",
       "      <th>Di F1</th>\n",
       "      <th>Dr F1</th>\n",
       "      <th>S F1</th>\n",
       "      <th>F F1</th>\n",
       "    </tr>\n",
       "  </thead>\n",
       "  <tbody>\n",
       "    <tr>\n",
       "      <th>BIO_w/o_hiper</th>\n",
       "      <td>0.737</td>\n",
       "      <td>0.605</td>\n",
       "      <td>0.664</td>\n",
       "      <td>0.664</td>\n",
       "      <td>0.305</td>\n",
       "      <td>0.847</td>\n",
       "      <td>0.250</td>\n",
       "      <td>0.182</td>\n",
       "    </tr>\n",
       "    <tr>\n",
       "      <th>BIO_hiper</th>\n",
       "      <td>0.736</td>\n",
       "      <td>0.608</td>\n",
       "      <td>0.666</td>\n",
       "      <td>0.669</td>\n",
       "      <td>0.298</td>\n",
       "      <td>0.842</td>\n",
       "      <td>0.273</td>\n",
       "      <td>0.174</td>\n",
       "    </tr>\n",
       "    <tr>\n",
       "      <th>IO_hiper</th>\n",
       "      <td>0.725</td>\n",
       "      <td>0.602</td>\n",
       "      <td>0.658</td>\n",
       "      <td>0.656</td>\n",
       "      <td>0.302</td>\n",
       "      <td>0.839</td>\n",
       "      <td>0.250</td>\n",
       "      <td>0.171</td>\n",
       "    </tr>\n",
       "  </tbody>\n",
       "</table>\n",
       "</div>"
      ],
      "text/plain": [
       "               total acc  total recall  total F1  ADR F1  Di F1  Dr F1   S F1  \\\n",
       "BIO_w/o_hiper      0.737         0.605     0.664   0.664  0.305  0.847  0.250   \n",
       "BIO_hiper          0.736         0.608     0.666   0.669  0.298  0.842  0.273   \n",
       "IO_hiper           0.725         0.602     0.658   0.656  0.302  0.839  0.250   \n",
       "\n",
       "                F F1  \n",
       "BIO_w/o_hiper  0.182  \n",
       "BIO_hiper      0.174  \n",
       "IO_hiper       0.171  "
      ]
     },
     "execution_count": 17,
     "metadata": {},
     "output_type": "execute_result"
    }
   ],
   "source": [
    "pred = model.tag_sents(X_test_IO)\n",
    "results, results_agg_ent = compute_metrics(test_IO, pred,mode = \"CADEC\")\n",
    "save_results(\"IO_hiper\", results, results_agg_ent, results_df)"
   ]
  },
  {
   "cell_type": "markdown",
   "metadata": {},
   "source": [
    "### <span style=\"font-family:Courier New; color:#336666\">**BIOS**</span>"
   ]
  },
  {
   "cell_type": "code",
   "execution_count": 18,
   "metadata": {},
   "outputs": [],
   "source": [
    "train_BIOS = convert_BIO(train_data, begin = True,single = True)\n",
    "test_BIOS = convert_BIO(test_data, begin = True, single = True)\n",
    "\n",
    "X_test_BIOS = [[word[0] for word in sent] for sent in test_BIOS]\n",
    "y_test_BIOS = [[word[1] for word in sent] for sent in test_BIOS]"
   ]
  },
  {
   "cell_type": "code",
   "execution_count": 19,
   "metadata": {},
   "outputs": [],
   "source": [
    "model = nltk.tag.CRFTagger(feature_func = Feature_getter(), training_opt = customed_hyperparams)\n",
    "model.train(train_BIOS, 'models/model_CADEC_BIOS_hyp.crf.tagger')"
   ]
  },
  {
   "cell_type": "code",
   "execution_count": 20,
   "metadata": {},
   "outputs": [
    {
     "data": {
      "text/html": [
       "<div>\n",
       "<style scoped>\n",
       "    .dataframe tbody tr th:only-of-type {\n",
       "        vertical-align: middle;\n",
       "    }\n",
       "\n",
       "    .dataframe tbody tr th {\n",
       "        vertical-align: top;\n",
       "    }\n",
       "\n",
       "    .dataframe thead th {\n",
       "        text-align: right;\n",
       "    }\n",
       "</style>\n",
       "<table border=\"1\" class=\"dataframe\">\n",
       "  <thead>\n",
       "    <tr style=\"text-align: right;\">\n",
       "      <th></th>\n",
       "      <th>total acc</th>\n",
       "      <th>total recall</th>\n",
       "      <th>total F1</th>\n",
       "      <th>ADR F1</th>\n",
       "      <th>Di F1</th>\n",
       "      <th>Dr F1</th>\n",
       "      <th>S F1</th>\n",
       "      <th>F F1</th>\n",
       "    </tr>\n",
       "  </thead>\n",
       "  <tbody>\n",
       "    <tr>\n",
       "      <th>BIO_w/o_hiper</th>\n",
       "      <td>0.737</td>\n",
       "      <td>0.605</td>\n",
       "      <td>0.664</td>\n",
       "      <td>0.664</td>\n",
       "      <td>0.305</td>\n",
       "      <td>0.847</td>\n",
       "      <td>0.250</td>\n",
       "      <td>0.182</td>\n",
       "    </tr>\n",
       "    <tr>\n",
       "      <th>BIO_hiper</th>\n",
       "      <td>0.736</td>\n",
       "      <td>0.608</td>\n",
       "      <td>0.666</td>\n",
       "      <td>0.669</td>\n",
       "      <td>0.298</td>\n",
       "      <td>0.842</td>\n",
       "      <td>0.273</td>\n",
       "      <td>0.174</td>\n",
       "    </tr>\n",
       "    <tr>\n",
       "      <th>IO_hiper</th>\n",
       "      <td>0.725</td>\n",
       "      <td>0.602</td>\n",
       "      <td>0.658</td>\n",
       "      <td>0.656</td>\n",
       "      <td>0.302</td>\n",
       "      <td>0.839</td>\n",
       "      <td>0.250</td>\n",
       "      <td>0.171</td>\n",
       "    </tr>\n",
       "    <tr>\n",
       "      <th>BIOS_hiper</th>\n",
       "      <td>0.738</td>\n",
       "      <td>0.613</td>\n",
       "      <td>0.670</td>\n",
       "      <td>0.669</td>\n",
       "      <td>0.272</td>\n",
       "      <td>0.852</td>\n",
       "      <td>0.219</td>\n",
       "      <td>0.203</td>\n",
       "    </tr>\n",
       "  </tbody>\n",
       "</table>\n",
       "</div>"
      ],
      "text/plain": [
       "               total acc  total recall  total F1  ADR F1  Di F1  Dr F1   S F1  \\\n",
       "BIO_w/o_hiper      0.737         0.605     0.664   0.664  0.305  0.847  0.250   \n",
       "BIO_hiper          0.736         0.608     0.666   0.669  0.298  0.842  0.273   \n",
       "IO_hiper           0.725         0.602     0.658   0.656  0.302  0.839  0.250   \n",
       "BIOS_hiper         0.738         0.613     0.670   0.669  0.272  0.852  0.219   \n",
       "\n",
       "                F F1  \n",
       "BIO_w/o_hiper  0.182  \n",
       "BIO_hiper      0.174  \n",
       "IO_hiper       0.171  \n",
       "BIOS_hiper     0.203  "
      ]
     },
     "execution_count": 20,
     "metadata": {},
     "output_type": "execute_result"
    }
   ],
   "source": [
    "pred = model.tag_sents(X_test_BIOS)\n",
    "results, results_agg_ent = compute_metrics(test_BIOS, pred,mode = \"CADEC\")\n",
    "save_results(\"BIOS_hiper\", results, results_agg_ent, results_df)"
   ]
  },
  {
   "cell_type": "markdown",
   "metadata": {},
   "source": [
    "### <span style=\"font-family:Courier New; color:#336666\">**BIOES**</span>"
   ]
  },
  {
   "cell_type": "code",
   "execution_count": 27,
   "metadata": {},
   "outputs": [],
   "source": [
    "train_BIOES = convert_BIO(train_data, begin = True,single = True,end = True)\n",
    "test_BIOES = convert_BIO(test_data, begin = True, single = True,end = True)\n",
    "\n",
    "X_test_BIOES = [[word[0] for word in sent] for sent in test_BIOES]\n",
    "y__test_BIOES = [[word[1] for word in sent] for sent in test_BIOES]"
   ]
  },
  {
   "cell_type": "code",
   "execution_count": 28,
   "metadata": {},
   "outputs": [],
   "source": [
    "model = nltk.tag.CRFTagger(feature_func = Feature_getter(), training_opt = customed_hyperparams)\n",
    "model.train(train_BIOES, 'models/model_CADEC_BIOES_hyp.crf.tagger')"
   ]
  },
  {
   "cell_type": "code",
   "execution_count": 29,
   "metadata": {},
   "outputs": [
    {
     "data": {
      "text/html": [
       "<div>\n",
       "<style scoped>\n",
       "    .dataframe tbody tr th:only-of-type {\n",
       "        vertical-align: middle;\n",
       "    }\n",
       "\n",
       "    .dataframe tbody tr th {\n",
       "        vertical-align: top;\n",
       "    }\n",
       "\n",
       "    .dataframe thead th {\n",
       "        text-align: right;\n",
       "    }\n",
       "</style>\n",
       "<table border=\"1\" class=\"dataframe\">\n",
       "  <thead>\n",
       "    <tr style=\"text-align: right;\">\n",
       "      <th></th>\n",
       "      <th>total acc</th>\n",
       "      <th>total recall</th>\n",
       "      <th>total F1</th>\n",
       "      <th>ADR F1</th>\n",
       "      <th>Di F1</th>\n",
       "      <th>Dr F1</th>\n",
       "      <th>S F1</th>\n",
       "      <th>F F1</th>\n",
       "    </tr>\n",
       "  </thead>\n",
       "  <tbody>\n",
       "    <tr>\n",
       "      <th>BIO_w/o_hiper</th>\n",
       "      <td>0.737</td>\n",
       "      <td>0.605</td>\n",
       "      <td>0.664</td>\n",
       "      <td>0.664</td>\n",
       "      <td>0.305</td>\n",
       "      <td>0.847</td>\n",
       "      <td>0.250</td>\n",
       "      <td>0.182</td>\n",
       "    </tr>\n",
       "    <tr>\n",
       "      <th>BIO_hiper</th>\n",
       "      <td>0.736</td>\n",
       "      <td>0.608</td>\n",
       "      <td>0.666</td>\n",
       "      <td>0.669</td>\n",
       "      <td>0.298</td>\n",
       "      <td>0.842</td>\n",
       "      <td>0.273</td>\n",
       "      <td>0.174</td>\n",
       "    </tr>\n",
       "    <tr>\n",
       "      <th>IO_hiper</th>\n",
       "      <td>0.725</td>\n",
       "      <td>0.602</td>\n",
       "      <td>0.658</td>\n",
       "      <td>0.656</td>\n",
       "      <td>0.302</td>\n",
       "      <td>0.839</td>\n",
       "      <td>0.250</td>\n",
       "      <td>0.171</td>\n",
       "    </tr>\n",
       "    <tr>\n",
       "      <th>BIOS_hiper</th>\n",
       "      <td>0.738</td>\n",
       "      <td>0.613</td>\n",
       "      <td>0.670</td>\n",
       "      <td>0.669</td>\n",
       "      <td>0.272</td>\n",
       "      <td>0.852</td>\n",
       "      <td>0.219</td>\n",
       "      <td>0.203</td>\n",
       "    </tr>\n",
       "    <tr>\n",
       "      <th>BIOES_hiper</th>\n",
       "      <td>0.730</td>\n",
       "      <td>0.604</td>\n",
       "      <td>0.661</td>\n",
       "      <td>0.660</td>\n",
       "      <td>0.235</td>\n",
       "      <td>0.845</td>\n",
       "      <td>0.182</td>\n",
       "      <td>0.216</td>\n",
       "    </tr>\n",
       "  </tbody>\n",
       "</table>\n",
       "</div>"
      ],
      "text/plain": [
       "               total acc  total recall  total F1  ADR F1  Di F1  Dr F1   S F1  \\\n",
       "BIO_w/o_hiper      0.737         0.605     0.664   0.664  0.305  0.847  0.250   \n",
       "BIO_hiper          0.736         0.608     0.666   0.669  0.298  0.842  0.273   \n",
       "IO_hiper           0.725         0.602     0.658   0.656  0.302  0.839  0.250   \n",
       "BIOS_hiper         0.738         0.613     0.670   0.669  0.272  0.852  0.219   \n",
       "BIOES_hiper        0.730         0.604     0.661   0.660  0.235  0.845  0.182   \n",
       "\n",
       "                F F1  \n",
       "BIO_w/o_hiper  0.182  \n",
       "BIO_hiper      0.174  \n",
       "IO_hiper       0.171  \n",
       "BIOS_hiper     0.203  \n",
       "BIOES_hiper    0.216  "
      ]
     },
     "execution_count": 29,
     "metadata": {},
     "output_type": "execute_result"
    }
   ],
   "source": [
    "pred = model.tag_sents(X_test_BIOES)\n",
    "results, results_agg_ent = compute_metrics(test_BIOES, pred,mode = \"CADEC\")\n",
    "save_results(\"BIOES_hiper\", results, results_agg_ent, results_df)"
   ]
  }
 ],
 "metadata": {
  "kernelspec": {
   "display_name": "Python 3",
   "language": "python",
   "name": "python3"
  },
  "language_info": {
   "codemirror_mode": {
    "name": "ipython",
    "version": 3
   },
   "file_extension": ".py",
   "mimetype": "text/x-python",
   "name": "python",
   "nbconvert_exporter": "python",
   "pygments_lexer": "ipython3",
   "version": "3.10.10"
  }
 },
 "nbformat": 4,
 "nbformat_minor": 2
}
