{
 "cells": [
  {
   "cell_type": "markdown",
   "metadata": {},
   "source": [
    "# <span style=\"font-family:Courier New; color:#CCCCCC\">**CADEC Named Entity Recognition CRF**</span>"
   ]
  },
  {
   "cell_type": "markdown",
   "metadata": {},
   "source": [
    "## <span style=\"font-family:Courier New; color:#336666\">**Load Data and Imports**</span>"
   ]
  },
  {
   "cell_type": "code",
   "execution_count": 57,
   "metadata": {},
   "outputs": [],
   "source": [
    "from preprocessing import convert_BIO\n",
    "from NER_evaluation import *\n",
    "from feature_getter import Feature_getter\n",
    "import pycrfsuite\n",
    "from collections import Counter\n",
    "import pandas as pd"
   ]
  },
  {
   "cell_type": "code",
   "execution_count": 55,
   "metadata": {},
   "outputs": [],
   "source": [
    "def decode_cadec(file_path):\n",
    "\n",
    "    ent_map = {1: 'ADR', 2: 'Di', 3: 'Dr', 4: 'S', 5: 'F'}\n",
    "    data = list()\n",
    "    with open(file_path, \"r\") as file:\n",
    "        sent = list()\n",
    "        for line in file:\n",
    "            tok = line.split()\n",
    "            if tok == []:\n",
    "                \"add previous sentence tokens\"\n",
    "                data.append(sent)\n",
    "                sent = list()\n",
    "            else:\n",
    "                for i, label in enumerate(tok):\n",
    "                    if i > 0 and label != 'O':\n",
    "                        sent.append((tok[0], '', label[0] + '-' + ent_map[i]))\n",
    "                        break\n",
    "                    if i == len(tok) - 1:\n",
    "                        sent.append((tok[0], '', 'O'))\n",
    "    return data\n",
    "\n",
    "train_data = decode_cadec('data/train.conll')\n",
    "test_data = decode_cadec('data/test.conll')"
   ]
  },
  {
   "cell_type": "code",
   "execution_count": 58,
   "metadata": {},
   "outputs": [],
   "source": [
    "train_BIO = convert_BIO(train_data)\n",
    "test_BIO = convert_BIO(test_data)\n",
    "\n",
    "X_test_BIO = [[word[0] for word in sent] for sent in test_BIO]\n",
    "y_test_BIO = [[word[1] for word in sent] for sent in test_BIO]"
   ]
  },
  {
   "cell_type": "markdown",
   "metadata": {},
   "source": [
    "## <span style=\"font-family:Courier New; color:#336666\">**Train Classifier**</span>"
   ]
  }
 ],
 "metadata": {
  "kernelspec": {
   "display_name": "Python 3",
   "language": "python",
   "name": "python3"
  },
  "language_info": {
   "codemirror_mode": {
    "name": "ipython",
    "version": 3
   },
   "file_extension": ".py",
   "mimetype": "text/x-python",
   "name": "python",
   "nbconvert_exporter": "python",
   "pygments_lexer": "ipython3",
   "version": "3.10.10"
  }
 },
 "nbformat": 4,
 "nbformat_minor": 2
}
