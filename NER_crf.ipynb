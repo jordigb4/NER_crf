{
 "cells": [
  {
   "cell_type": "markdown",
   "metadata": {},
   "source": [
    "# <span style=\"font-family:Courier New; color:#CCCCCC\">**Named Entity Recognition CRF**</span>"
   ]
  },
  {
   "cell_type": "code",
   "execution_count": 1,
   "metadata": {},
   "outputs": [
    {
     "name": "stderr",
     "output_type": "stream",
     "text": [
      "[nltk_data] Downloading package conll2002 to\n",
      "[nltk_data]     /home/jordigb/nltk_data...\n",
      "[nltk_data]   Package conll2002 is already up-to-date!\n"
     ]
    }
   ],
   "source": [
    "import nltk\n",
    "from feature_getter import Feature_getter\n",
    "nltk.download('conll2002')\n",
    "from nltk.corpus import conll2002\n",
    "conll2002.iob_sents('esp.train') # Train, ned.train => Neerlandès\n",
    "conll2002.iob_sents('esp.testa') # Dev\n",
    "data = conll2002.iob_sents('esp.testb') # Test"
   ]
  },
  {
   "cell_type": "code",
   "execution_count": 2,
   "metadata": {},
   "outputs": [
    {
     "data": {
      "text/plain": [
       "{'ORG': {'correct': 2,\n",
       "  'incorrect': 0,\n",
       "  'partial': 0,\n",
       "  'missed': 1,\n",
       "  'spurious': 0,\n",
       "  'possible': 3,\n",
       "  'actual': 2},\n",
       " 'PER': {'correct': 2,\n",
       "  'incorrect': 0,\n",
       "  'partial': 0,\n",
       "  'missed': 0,\n",
       "  'spurious': 0,\n",
       "  'possible': 2,\n",
       "  'actual': 2},\n",
       " 'LOC': {'correct': 2,\n",
       "  'incorrect': 0,\n",
       "  'partial': 0,\n",
       "  'missed': 0,\n",
       "  'spurious': 0,\n",
       "  'possible': 2,\n",
       "  'actual': 2},\n",
       " 'MISC': {'correct': 3,\n",
       "  'incorrect': 0,\n",
       "  'partial': 0,\n",
       "  'missed': 2,\n",
       "  'spurious': 0,\n",
       "  'possible': 5,\n",
       "  'actual': 3}}"
      ]
     },
     "execution_count": 2,
     "metadata": {},
     "output_type": "execute_result"
    }
   ],
   "source": [
    "from NER_evaluation import *\n",
    "entities = collect_ne(data[:5])\n",
    "other = entities.copy()\n",
    "other[4] = []\n",
    "eval_metrics, eval_agg_ent = compute_metrics(entities, other)\n",
    "eval_agg_ent"
   ]
  },
  {
   "cell_type": "code",
   "execution_count": 3,
   "metadata": {},
   "outputs": [],
   "source": [
    "import nltk\n",
    "train = conll2002.iob_sents('esp.train')"
   ]
  },
  {
   "cell_type": "code",
   "execution_count": 4,
   "metadata": {},
   "outputs": [],
   "source": [
    "features = Feature_getter()\n",
    "features.fit(train)"
   ]
  },
  {
   "cell_type": "code",
   "execution_count": null,
   "metadata": {},
   "outputs": [],
   "source": [
    "model = nltk.tag.CRFTagger(features)"
   ]
  }
 ],
 "metadata": {
  "kernelspec": {
   "display_name": "Python 3",
   "language": "python",
   "name": "python3"
  },
  "language_info": {
   "codemirror_mode": {
    "name": "ipython",
    "version": 3
   },
   "file_extension": ".py",
   "mimetype": "text/x-python",
   "name": "python",
   "nbconvert_exporter": "python",
   "pygments_lexer": "ipython3",
   "version": "3.10.4"
  }
 },
 "nbformat": 4,
 "nbformat_minor": 2
}
