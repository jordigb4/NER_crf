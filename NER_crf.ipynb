{
 "cells": [
  {
   "cell_type": "markdown",
   "metadata": {},
   "source": [
    "# <span style=\"font-family:Courier New; color:#CCCCCC\">**Named Entity Recognition CRF**</span>"
   ]
  },
  {
   "cell_type": "code",
   "execution_count": null,
   "metadata": {},
   "outputs": [
    {
     "name": "stderr",
     "output_type": "stream",
     "text": [
      "[nltk_data] Downloading package conll2002 to\n",
      "[nltk_data]     C:\\Users\\Jordi\\AppData\\Roaming\\nltk_data...\n",
      "[nltk_data]   Package conll2002 is already up-to-date!\n"
     ]
    }
   ],
   "source": [
    "import nltk\n",
    "from feature_getter import Feature_getter\n",
    "nltk.download('conll2002')\n",
    "from nltk.corpus import conll2002\n",
    "conll2002.iob_sents('esp.train') # Train, ned.train => Neerlandès\n",
    "conll2002.iob_sents('esp.testa') # Dev\n",
    "data = conll2002.iob_sents('esp.testb') # Test"
   ]
  },
  {
   "cell_type": "code",
   "execution_count": 2,
   "metadata": {},
   "outputs": [
    {
     "data": {
      "text/plain": [
       "{'ORG': {'correct': 2,\n",
       "  'incorrect': 0,\n",
       "  'partial': 0,\n",
       "  'missed': 1,\n",
       "  'spurious': 0,\n",
       "  'possible': 3,\n",
       "  'actual': 2},\n",
       " 'PER': {'correct': 2,\n",
       "  'incorrect': 0,\n",
       "  'partial': 0,\n",
       "  'missed': 0,\n",
       "  'spurious': 0,\n",
       "  'possible': 2,\n",
       "  'actual': 2},\n",
       " 'LOC': {'correct': 2,\n",
       "  'incorrect': 0,\n",
       "  'partial': 0,\n",
       "  'missed': 0,\n",
       "  'spurious': 0,\n",
       "  'possible': 2,\n",
       "  'actual': 2},\n",
       " 'MISC': {'correct': 3,\n",
       "  'incorrect': 0,\n",
       "  'partial': 0,\n",
       "  'missed': 2,\n",
       "  'spurious': 0,\n",
       "  'possible': 5,\n",
       "  'actual': 3}}"
      ]
     },
     "execution_count": 2,
     "metadata": {},
     "output_type": "execute_result"
    }
   ],
   "source": [
    "from NER_evaluation import *\n",
    "entities = collect_ne(data[:5])\n",
    "other = entities.copy()\n",
    "other[4] = []\n",
    "eval_metrics, eval_agg_ent = compute_metrics(entities, other)\n",
    "eval_agg_ent"
   ]
  },
  {
   "cell_type": "code",
   "execution_count": null,
   "metadata": {},
   "outputs": [],
   "source": [
    "import nltk\n",
    "train = conll2002.iob_sents('esp.train')"
   ]
  },
  {
   "cell_type": "code",
   "execution_count": null,
   "metadata": {},
   "outputs": [],
   "source": [
    "features = Feature_getter()\n",
    "features.fit(train)"
   ]
  },
  {
   "cell_type": "code",
   "execution_count": null,
   "metadata": {},
   "outputs": [],
   "source": [
    "model = nltk.tag.CRFTagger(feature_func = features)"
   ]
  },
  {
   "cell_type": "code",
   "execution_count": null,
   "metadata": {},
   "outputs": [],
   "source": [
    "train_data = [[('University','Noun'), ('is','Verb'), ('a','Det'), ('good','Adj'), ('place','Noun')],[('dog','Noun'),('eat','Verb'),('meat','Noun')]]"
   ]
  },
  {
   "cell_type": "code",
   "execution_count": 7,
   "metadata": {},
   "outputs": [
    {
     "name": "stdout",
     "output_type": "stream",
     "text": [
      "('University', 'is', 'a', 'good', 'place')\n",
      "['LEN_10', 'PRE_U', 'PRE_Un', 'PRE_Uni', 'LEMMA_University', 'POS_AQ', 'SHAPE_Xxxxx', 'CAPITALIZATION', 'SUF_y', 'SUF_ty', 'SUF_ity', 'WORD_University']\n",
      "('University', 'is', 'a', 'good', 'place')\n",
      "[\"['Sing']\", 'LEN_2', 'PRE_i', 'PRE_is', 'LEMMA_is', 'POS_AUX', 'SHAPE_xx', 'SUF_s', 'WORD_is']\n",
      "('University', 'is', 'a', 'good', 'place')\n",
      "['LEN_1', 'PRE_a', 'LEMMA_a', 'POS_SP', 'SHAPE_x', 'WORD_a']\n",
      "('University', 'is', 'a', 'good', 'place')\n",
      "['LEN_4', 'PRE_g', 'PRE_go', 'PRE_goo', 'LEMMA_good', 'POS_PROPN', 'SHAPE_xxxx', 'SUF_d', 'SUF_od', 'SUF_ood', 'WORD_good']\n",
      "('University', 'is', 'a', 'good', 'place')\n",
      "[\"['Sing']\", 'LEN_5', 'PRE_p', 'PRE_pl', 'PRE_pla', 'LEMMA_placir', 'POS_VERB', 'SHAPE_xxxx', 'SUF_e', 'SUF_ce', 'SUF_ace', 'WORD_place']\n",
      "('dog', 'eat', 'meat')\n",
      "[\"['Masc']\", \"['Sing']\", 'LEN_3', 'PRE_d', 'PRE_do', 'PRE_dog', 'LEMMA_dog', 'POS_NOUN', 'SHAPE_xxx', 'SUF_g', 'SUF_og', 'WORD_dog']\n",
      "('dog', 'eat', 'meat')\n",
      "[\"['Masc']\", \"['Sing']\", 'LEN_3', 'PRE_e', 'PRE_ea', 'PRE_eat', 'LEMMA_eat', 'POS_DET', 'SHAPE_xxx', 'SUF_t', 'SUF_at', 'WORD_eat']\n",
      "('dog', 'eat', 'meat')\n",
      "[\"['Fem']\", \"['Sing']\", 'LEN_4', 'PRE_m', 'PRE_me', 'PRE_mea', 'LEMMA_meat', 'POS_ADJ', 'SHAPE_xxxx', 'SUF_t', 'SUF_at', 'SUF_eat', 'WORD_meat']\n"
     ]
    }
   ],
   "source": [
    "model.train(train_data,'model.crf.tagger')"
   ]
  }
 ],
 "metadata": {
  "kernelspec": {
   "display_name": "Python 3",
   "language": "python",
   "name": "python3"
  },
  "language_info": {
   "codemirror_mode": {
    "name": "ipython",
    "version": 3
   },
   "file_extension": ".py",
   "mimetype": "text/x-python",
   "name": "python",
   "nbconvert_exporter": "python",
   "pygments_lexer": "ipython3",
   "version": "3.11.9"
  }
 },
 "nbformat": 4,
 "nbformat_minor": 2
}
