{
 "cells": [
  {
   "cell_type": "markdown",
   "metadata": {},
   "source": [
    "# <span style=\"font-family:Courier New; color:#CCCCCC\">**Feature and Hyperparameter Selection ESP**</span>"
   ]
  },
  {
   "cell_type": "markdown",
   "metadata": {},
   "source": [
    "## <span style=\"font-family:Courier New; color:#336666\">**Load Data and Imports**</span>"
   ]
  },
  {
   "cell_type": "code",
   "execution_count": 2,
   "metadata": {},
   "outputs": [
    {
     "name": "stderr",
     "output_type": "stream",
     "text": [
      "[nltk_data] Downloading package conll2002 to\n",
      "[nltk_data]     C:\\Users\\Jordi\\AppData\\Roaming\\nltk_data...\n",
      "[nltk_data]   Package conll2002 is already up-to-date!\n"
     ]
    }
   ],
   "source": [
    "from preprocessing import convert_BIO\n",
    "from NER_evaluation import *\n",
    "from feature_getter import Feature_getter\n",
    "import pycrfsuite\n",
    "import pandas as pd\n",
    "\n",
    "import nltk\n",
    "nltk.download('conll2002')\n",
    "from nltk.corpus import conll2002\n",
    "\n",
    "esp_train = conll2002.iob_sents('esp.train')\n",
    "esp_val = conll2002.iob_sents('esp.testa')"
   ]
  },
  {
   "cell_type": "markdown",
   "metadata": {},
   "source": [
    "## <span style=\"font-family:Courier New; color:#336666\">**Preprocessing Data**</span>"
   ]
  },
  {
   "cell_type": "code",
   "execution_count": 3,
   "metadata": {},
   "outputs": [],
   "source": [
    "train_sents = convert_BIO(esp_train)\n",
    "val_sents = convert_BIO(esp_val)\n",
    "\n",
    "X_val = [[word[0] for word in sent] for sent in val_sents]\n",
    "y_val = [[word[1] for word in sent] for sent in val_sents]"
   ]
  },
  {
   "cell_type": "markdown",
   "metadata": {},
   "source": [
    "## <span style=\"font-family:Courier New; color:#336666\">**Train Baseline Classifier**</span>"
   ]
  },
  {
   "cell_type": "code",
   "execution_count": 3,
   "metadata": {},
   "outputs": [],
   "source": [
    "model = nltk.tag.CRFTagger()\n",
    "model.train(train_sents, 'models/model.crf.tagger')"
   ]
  },
  {
   "cell_type": "code",
   "execution_count": 4,
   "metadata": {},
   "outputs": [
    {
     "data": {
      "text/html": [
       "<div>\n",
       "<style scoped>\n",
       "    .dataframe tbody tr th:only-of-type {\n",
       "        vertical-align: middle;\n",
       "    }\n",
       "\n",
       "    .dataframe tbody tr th {\n",
       "        vertical-align: top;\n",
       "    }\n",
       "\n",
       "    .dataframe thead th {\n",
       "        text-align: right;\n",
       "    }\n",
       "</style>\n",
       "<table border=\"1\" class=\"dataframe\">\n",
       "  <thead>\n",
       "    <tr style=\"text-align: right;\">\n",
       "      <th></th>\n",
       "      <th>total acc</th>\n",
       "      <th>total recall</th>\n",
       "      <th>total F1</th>\n",
       "      <th>PER F1</th>\n",
       "      <th>ORG F1</th>\n",
       "      <th>LOC F1</th>\n",
       "      <th>MISC F1</th>\n",
       "    </tr>\n",
       "  </thead>\n",
       "  <tbody>\n",
       "    <tr>\n",
       "      <th>Baseline</th>\n",
       "      <td>0.707</td>\n",
       "      <td>0.666</td>\n",
       "      <td>0.686</td>\n",
       "      <td>0.769</td>\n",
       "      <td>0.728</td>\n",
       "      <td>0.588</td>\n",
       "      <td>0.573</td>\n",
       "    </tr>\n",
       "  </tbody>\n",
       "</table>\n",
       "</div>"
      ],
      "text/plain": [
       "          total acc  total recall  total F1  PER F1  ORG F1  LOC F1  MISC F1\n",
       "Baseline      0.707         0.666     0.686   0.769   0.728   0.588    0.573"
      ]
     },
     "execution_count": 4,
     "metadata": {},
     "output_type": "execute_result"
    }
   ],
   "source": [
    "results_df = pd.DataFrame()\n",
    "def save_results(nclf, results, results_agg_ent, df):\n",
    "    df.loc[nclf,'total acc'] = results[\"precision\"]\n",
    "    df.loc[nclf,'total recall'] = results[\"recall\"]\n",
    "    df.loc[nclf,'total F1'] = results[\"F1-score\"]\n",
    "    df.loc[nclf,'PER F1'] = results_agg_ent[\"PER\"][\"F1-score\"]\n",
    "    df.loc[nclf,'ORG F1'] = results_agg_ent[\"ORG\"][\"F1-score\"]\n",
    "    df.loc[nclf,'LOC F1'] = results_agg_ent[\"LOC\"][\"F1-score\"]\n",
    "    df.loc[nclf,'MISC F1'] = results_agg_ent[\"MISC\"][\"F1-score\"]\n",
    "    return df\n",
    "\n",
    "\n",
    "pred = model.tag_sents(X_val)\n",
    "results, results_agg_ent = compute_metrics(val_sents, pred)\n",
    "save_results(\"Baseline\", results, results_agg_ent, results_df)"
   ]
  },
  {
   "cell_type": "markdown",
   "metadata": {},
   "source": [
    "## <span style=\"font-family:Courier New; color:#336666\">**Feature selection**</span>"
   ]
  },
  {
   "cell_type": "markdown",
   "metadata": {},
   "source": [
    " <span style=\"font-family:Courier New\">In this section, we will attempt to perform feature selection to achieve optimal performance. We will start by examining the isolated effects of individual features, activating them one at a time. </span>"
   ]
  },
  {
   "cell_type": "markdown",
   "metadata": {},
   "source": [
    "### <span style=\"font-family:Courier New; color:#336633\">**Including Context Features**</span>"
   ]
  },
  {
   "cell_type": "markdown",
   "metadata": {},
   "source": [
    "#### <span style=\"font-family:Courier New; color:#994C00\">**Previous Token**</span>"
   ]
  },
  {
   "cell_type": "code",
   "execution_count": 5,
   "metadata": {},
   "outputs": [
    {
     "data": {
      "text/html": [
       "<div>\n",
       "<style scoped>\n",
       "    .dataframe tbody tr th:only-of-type {\n",
       "        vertical-align: middle;\n",
       "    }\n",
       "\n",
       "    .dataframe tbody tr th {\n",
       "        vertical-align: top;\n",
       "    }\n",
       "\n",
       "    .dataframe thead th {\n",
       "        text-align: right;\n",
       "    }\n",
       "</style>\n",
       "<table border=\"1\" class=\"dataframe\">\n",
       "  <thead>\n",
       "    <tr style=\"text-align: right;\">\n",
       "      <th></th>\n",
       "      <th>total acc</th>\n",
       "      <th>total recall</th>\n",
       "      <th>total F1</th>\n",
       "      <th>PER F1</th>\n",
       "      <th>ORG F1</th>\n",
       "      <th>LOC F1</th>\n",
       "      <th>MISC F1</th>\n",
       "    </tr>\n",
       "  </thead>\n",
       "  <tbody>\n",
       "    <tr>\n",
       "      <th>Baseline</th>\n",
       "      <td>0.707</td>\n",
       "      <td>0.666</td>\n",
       "      <td>0.686</td>\n",
       "      <td>0.769</td>\n",
       "      <td>0.728</td>\n",
       "      <td>0.588</td>\n",
       "      <td>0.573</td>\n",
       "    </tr>\n",
       "    <tr>\n",
       "      <th>Prev_tok</th>\n",
       "      <td>0.746</td>\n",
       "      <td>0.716</td>\n",
       "      <td>0.731</td>\n",
       "      <td>0.809</td>\n",
       "      <td>0.774</td>\n",
       "      <td>0.653</td>\n",
       "      <td>0.558</td>\n",
       "    </tr>\n",
       "  </tbody>\n",
       "</table>\n",
       "</div>"
      ],
      "text/plain": [
       "          total acc  total recall  total F1  PER F1  ORG F1  LOC F1  MISC F1\n",
       "Baseline      0.707         0.666     0.686   0.769   0.728   0.588    0.573\n",
       "Prev_tok      0.746         0.716     0.731   0.809   0.774   0.653    0.558"
      ]
     },
     "execution_count": 5,
     "metadata": {},
     "output_type": "execute_result"
    }
   ],
   "source": [
    "model = nltk.tag.CRFTagger(feature_func = Feature_getter(prev_tok = True, next_tok = False, morphology = False, length = False, prefix = False,\n",
    "                           lemma = False, POS = False, shape = False))\n",
    "model.train(train_sents, 'models/model.crf.tagger')\n",
    "\n",
    "pred = model.tag_sents(X_val)\n",
    "results, results_agg_ent = compute_metrics(val_sents, pred)\n",
    "save_results(\"Prev_tok\", results, results_agg_ent, results_df)"
   ]
  },
  {
   "cell_type": "markdown",
   "metadata": {},
   "source": [
    "#### <span style=\"font-family:Courier New; color:#994C00\">**Previous and Next Tokens**</span>"
   ]
  },
  {
   "cell_type": "code",
   "execution_count": 6,
   "metadata": {},
   "outputs": [
    {
     "data": {
      "text/html": [
       "<div>\n",
       "<style scoped>\n",
       "    .dataframe tbody tr th:only-of-type {\n",
       "        vertical-align: middle;\n",
       "    }\n",
       "\n",
       "    .dataframe tbody tr th {\n",
       "        vertical-align: top;\n",
       "    }\n",
       "\n",
       "    .dataframe thead th {\n",
       "        text-align: right;\n",
       "    }\n",
       "</style>\n",
       "<table border=\"1\" class=\"dataframe\">\n",
       "  <thead>\n",
       "    <tr style=\"text-align: right;\">\n",
       "      <th></th>\n",
       "      <th>total acc</th>\n",
       "      <th>total recall</th>\n",
       "      <th>total F1</th>\n",
       "      <th>PER F1</th>\n",
       "      <th>ORG F1</th>\n",
       "      <th>LOC F1</th>\n",
       "      <th>MISC F1</th>\n",
       "    </tr>\n",
       "  </thead>\n",
       "  <tbody>\n",
       "    <tr>\n",
       "      <th>Baseline</th>\n",
       "      <td>0.707</td>\n",
       "      <td>0.666</td>\n",
       "      <td>0.686</td>\n",
       "      <td>0.769</td>\n",
       "      <td>0.728</td>\n",
       "      <td>0.588</td>\n",
       "      <td>0.573</td>\n",
       "    </tr>\n",
       "    <tr>\n",
       "      <th>Prev_tok</th>\n",
       "      <td>0.746</td>\n",
       "      <td>0.716</td>\n",
       "      <td>0.731</td>\n",
       "      <td>0.809</td>\n",
       "      <td>0.774</td>\n",
       "      <td>0.653</td>\n",
       "      <td>0.558</td>\n",
       "    </tr>\n",
       "    <tr>\n",
       "      <th>Prev_tok_Next</th>\n",
       "      <td>0.756</td>\n",
       "      <td>0.733</td>\n",
       "      <td>0.745</td>\n",
       "      <td>0.837</td>\n",
       "      <td>0.804</td>\n",
       "      <td>0.642</td>\n",
       "      <td>0.544</td>\n",
       "    </tr>\n",
       "  </tbody>\n",
       "</table>\n",
       "</div>"
      ],
      "text/plain": [
       "               total acc  total recall  total F1  PER F1  ORG F1  LOC F1  \\\n",
       "Baseline           0.707         0.666     0.686   0.769   0.728   0.588   \n",
       "Prev_tok           0.746         0.716     0.731   0.809   0.774   0.653   \n",
       "Prev_tok_Next      0.756         0.733     0.745   0.837   0.804   0.642   \n",
       "\n",
       "               MISC F1  \n",
       "Baseline         0.573  \n",
       "Prev_tok         0.558  \n",
       "Prev_tok_Next    0.544  "
      ]
     },
     "execution_count": 6,
     "metadata": {},
     "output_type": "execute_result"
    }
   ],
   "source": [
    "model = nltk.tag.CRFTagger(feature_func = Feature_getter(prev_tok = True, next_tok = True, morphology = False, length = False, prefix = False,\n",
    "                lemma = False, POS = False, shape = False))\n",
    "model.train(train_sents, 'models/model.crf.tagger')\n",
    "\n",
    "pred = model.tag_sents(X_val)\n",
    "results, results_agg_ent = compute_metrics(val_sents, pred)\n",
    "save_results(\"Prev_tok_Next\", results, results_agg_ent, results_df)"
   ]
  },
  {
   "cell_type": "markdown",
   "metadata": {},
   "source": [
    "<div class=\"alert alert-block alert-info\">\n",
    "<b>See:</b> performance has rather increased dramatically when we introduced context!. The addintion of the next token hasn't improved that much, but it is sufficient.\n",
    "</div>"
   ]
  },
  {
   "cell_type": "markdown",
   "metadata": {},
   "source": [
    "### <span style=\"font-family:Courier New; color:#336633\">**Including Morphology**</span>"
   ]
  },
  {
   "cell_type": "markdown",
   "metadata": {},
   "source": [
    "#### <span style=\"font-family:Courier New; color:#994C00\">**Combined with Baseline**</span>"
   ]
  },
  {
   "cell_type": "code",
   "execution_count": 7,
   "metadata": {},
   "outputs": [
    {
     "data": {
      "text/html": [
       "<div>\n",
       "<style scoped>\n",
       "    .dataframe tbody tr th:only-of-type {\n",
       "        vertical-align: middle;\n",
       "    }\n",
       "\n",
       "    .dataframe tbody tr th {\n",
       "        vertical-align: top;\n",
       "    }\n",
       "\n",
       "    .dataframe thead th {\n",
       "        text-align: right;\n",
       "    }\n",
       "</style>\n",
       "<table border=\"1\" class=\"dataframe\">\n",
       "  <thead>\n",
       "    <tr style=\"text-align: right;\">\n",
       "      <th></th>\n",
       "      <th>total acc</th>\n",
       "      <th>total recall</th>\n",
       "      <th>total F1</th>\n",
       "      <th>PER F1</th>\n",
       "      <th>ORG F1</th>\n",
       "      <th>LOC F1</th>\n",
       "      <th>MISC F1</th>\n",
       "    </tr>\n",
       "  </thead>\n",
       "  <tbody>\n",
       "    <tr>\n",
       "      <th>Baseline</th>\n",
       "      <td>0.707</td>\n",
       "      <td>0.666</td>\n",
       "      <td>0.686</td>\n",
       "      <td>0.769</td>\n",
       "      <td>0.728</td>\n",
       "      <td>0.588</td>\n",
       "      <td>0.573</td>\n",
       "    </tr>\n",
       "    <tr>\n",
       "      <th>Prev_tok</th>\n",
       "      <td>0.746</td>\n",
       "      <td>0.716</td>\n",
       "      <td>0.731</td>\n",
       "      <td>0.809</td>\n",
       "      <td>0.774</td>\n",
       "      <td>0.653</td>\n",
       "      <td>0.558</td>\n",
       "    </tr>\n",
       "    <tr>\n",
       "      <th>Prev_tok_Next</th>\n",
       "      <td>0.756</td>\n",
       "      <td>0.733</td>\n",
       "      <td>0.745</td>\n",
       "      <td>0.837</td>\n",
       "      <td>0.804</td>\n",
       "      <td>0.642</td>\n",
       "      <td>0.544</td>\n",
       "    </tr>\n",
       "    <tr>\n",
       "      <th>Baseline_wMorpho</th>\n",
       "      <td>0.706</td>\n",
       "      <td>0.668</td>\n",
       "      <td>0.686</td>\n",
       "      <td>0.772</td>\n",
       "      <td>0.726</td>\n",
       "      <td>0.588</td>\n",
       "      <td>0.570</td>\n",
       "    </tr>\n",
       "  </tbody>\n",
       "</table>\n",
       "</div>"
      ],
      "text/plain": [
       "                  total acc  total recall  total F1  PER F1  ORG F1  LOC F1  \\\n",
       "Baseline              0.707         0.666     0.686   0.769   0.728   0.588   \n",
       "Prev_tok              0.746         0.716     0.731   0.809   0.774   0.653   \n",
       "Prev_tok_Next         0.756         0.733     0.745   0.837   0.804   0.642   \n",
       "Baseline_wMorpho      0.706         0.668     0.686   0.772   0.726   0.588   \n",
       "\n",
       "                  MISC F1  \n",
       "Baseline            0.573  \n",
       "Prev_tok            0.558  \n",
       "Prev_tok_Next       0.544  \n",
       "Baseline_wMorpho    0.570  "
      ]
     },
     "execution_count": 7,
     "metadata": {},
     "output_type": "execute_result"
    }
   ],
   "source": [
    "model = nltk.tag.CRFTagger(feature_func = Feature_getter(prev_tok = False, next_tok = False, morphology = True, length = False, prefix = False,\n",
    "                           lemma = False, POS = False, shape = False))\n",
    "model.train(train_sents, 'models/model.crf.tagger')\n",
    "\n",
    "pred = model.tag_sents(X_val)\n",
    "results, results_agg_ent = compute_metrics(val_sents, pred)\n",
    "save_results(\"Baseline_wMorpho\", results, results_agg_ent, results_df)"
   ]
  },
  {
   "cell_type": "markdown",
   "metadata": {},
   "source": [
    "#### <span style=\"font-family:Courier New; color:#994C00\">**Combined with Previous and Next Tokens**</span>"
   ]
  },
  {
   "cell_type": "code",
   "execution_count": 8,
   "metadata": {},
   "outputs": [
    {
     "data": {
      "text/html": [
       "<div>\n",
       "<style scoped>\n",
       "    .dataframe tbody tr th:only-of-type {\n",
       "        vertical-align: middle;\n",
       "    }\n",
       "\n",
       "    .dataframe tbody tr th {\n",
       "        vertical-align: top;\n",
       "    }\n",
       "\n",
       "    .dataframe thead th {\n",
       "        text-align: right;\n",
       "    }\n",
       "</style>\n",
       "<table border=\"1\" class=\"dataframe\">\n",
       "  <thead>\n",
       "    <tr style=\"text-align: right;\">\n",
       "      <th></th>\n",
       "      <th>total acc</th>\n",
       "      <th>total recall</th>\n",
       "      <th>total F1</th>\n",
       "      <th>PER F1</th>\n",
       "      <th>ORG F1</th>\n",
       "      <th>LOC F1</th>\n",
       "      <th>MISC F1</th>\n",
       "    </tr>\n",
       "  </thead>\n",
       "  <tbody>\n",
       "    <tr>\n",
       "      <th>Baseline</th>\n",
       "      <td>0.707</td>\n",
       "      <td>0.666</td>\n",
       "      <td>0.686</td>\n",
       "      <td>0.769</td>\n",
       "      <td>0.728</td>\n",
       "      <td>0.588</td>\n",
       "      <td>0.573</td>\n",
       "    </tr>\n",
       "    <tr>\n",
       "      <th>Prev_tok</th>\n",
       "      <td>0.746</td>\n",
       "      <td>0.716</td>\n",
       "      <td>0.731</td>\n",
       "      <td>0.809</td>\n",
       "      <td>0.774</td>\n",
       "      <td>0.653</td>\n",
       "      <td>0.558</td>\n",
       "    </tr>\n",
       "    <tr>\n",
       "      <th>Prev_tok_Next</th>\n",
       "      <td>0.756</td>\n",
       "      <td>0.733</td>\n",
       "      <td>0.745</td>\n",
       "      <td>0.837</td>\n",
       "      <td>0.804</td>\n",
       "      <td>0.642</td>\n",
       "      <td>0.544</td>\n",
       "    </tr>\n",
       "    <tr>\n",
       "      <th>Baseline_wMorpho</th>\n",
       "      <td>0.706</td>\n",
       "      <td>0.668</td>\n",
       "      <td>0.686</td>\n",
       "      <td>0.772</td>\n",
       "      <td>0.726</td>\n",
       "      <td>0.588</td>\n",
       "      <td>0.570</td>\n",
       "    </tr>\n",
       "    <tr>\n",
       "      <th>Prev_tok_wMorpho</th>\n",
       "      <td>0.747</td>\n",
       "      <td>0.722</td>\n",
       "      <td>0.734</td>\n",
       "      <td>0.821</td>\n",
       "      <td>0.781</td>\n",
       "      <td>0.647</td>\n",
       "      <td>0.555</td>\n",
       "    </tr>\n",
       "  </tbody>\n",
       "</table>\n",
       "</div>"
      ],
      "text/plain": [
       "                  total acc  total recall  total F1  PER F1  ORG F1  LOC F1  \\\n",
       "Baseline              0.707         0.666     0.686   0.769   0.728   0.588   \n",
       "Prev_tok              0.746         0.716     0.731   0.809   0.774   0.653   \n",
       "Prev_tok_Next         0.756         0.733     0.745   0.837   0.804   0.642   \n",
       "Baseline_wMorpho      0.706         0.668     0.686   0.772   0.726   0.588   \n",
       "Prev_tok_wMorpho      0.747         0.722     0.734   0.821   0.781   0.647   \n",
       "\n",
       "                  MISC F1  \n",
       "Baseline            0.573  \n",
       "Prev_tok            0.558  \n",
       "Prev_tok_Next       0.544  \n",
       "Baseline_wMorpho    0.570  \n",
       "Prev_tok_wMorpho    0.555  "
      ]
     },
     "execution_count": 8,
     "metadata": {},
     "output_type": "execute_result"
    }
   ],
   "source": [
    "model = nltk.tag.CRFTagger(feature_func = Feature_getter(prev_tok = True, next_tok = False, morphology = True, length = False, prefix = False,\n",
    "                           lemma = False, POS = False, shape = False))\n",
    "model.train(train_sents, 'models/model.crf.tagger')\n",
    "\n",
    "pred = model.tag_sents(X_val)\n",
    "results, results_agg_ent = compute_metrics(val_sents, pred)\n",
    "save_results(\"Prev_tok_wMorpho\", results, results_agg_ent, results_df)"
   ]
  },
  {
   "cell_type": "markdown",
   "metadata": {},
   "source": [
    "#### <span style=\"font-family:Courier New; color:#994C00\">**Combined with Next Tokens**</span>"
   ]
  },
  {
   "cell_type": "code",
   "execution_count": 9,
   "metadata": {},
   "outputs": [
    {
     "data": {
      "text/html": [
       "<div>\n",
       "<style scoped>\n",
       "    .dataframe tbody tr th:only-of-type {\n",
       "        vertical-align: middle;\n",
       "    }\n",
       "\n",
       "    .dataframe tbody tr th {\n",
       "        vertical-align: top;\n",
       "    }\n",
       "\n",
       "    .dataframe thead th {\n",
       "        text-align: right;\n",
       "    }\n",
       "</style>\n",
       "<table border=\"1\" class=\"dataframe\">\n",
       "  <thead>\n",
       "    <tr style=\"text-align: right;\">\n",
       "      <th></th>\n",
       "      <th>total acc</th>\n",
       "      <th>total recall</th>\n",
       "      <th>total F1</th>\n",
       "      <th>PER F1</th>\n",
       "      <th>ORG F1</th>\n",
       "      <th>LOC F1</th>\n",
       "      <th>MISC F1</th>\n",
       "    </tr>\n",
       "  </thead>\n",
       "  <tbody>\n",
       "    <tr>\n",
       "      <th>Baseline</th>\n",
       "      <td>0.707</td>\n",
       "      <td>0.666</td>\n",
       "      <td>0.686</td>\n",
       "      <td>0.769</td>\n",
       "      <td>0.728</td>\n",
       "      <td>0.588</td>\n",
       "      <td>0.573</td>\n",
       "    </tr>\n",
       "    <tr>\n",
       "      <th>Prev_tok</th>\n",
       "      <td>0.746</td>\n",
       "      <td>0.716</td>\n",
       "      <td>0.731</td>\n",
       "      <td>0.809</td>\n",
       "      <td>0.774</td>\n",
       "      <td>0.653</td>\n",
       "      <td>0.558</td>\n",
       "    </tr>\n",
       "    <tr>\n",
       "      <th>Prev_tok_Next</th>\n",
       "      <td>0.756</td>\n",
       "      <td>0.733</td>\n",
       "      <td>0.745</td>\n",
       "      <td>0.837</td>\n",
       "      <td>0.804</td>\n",
       "      <td>0.642</td>\n",
       "      <td>0.544</td>\n",
       "    </tr>\n",
       "    <tr>\n",
       "      <th>Baseline_wMorpho</th>\n",
       "      <td>0.706</td>\n",
       "      <td>0.668</td>\n",
       "      <td>0.686</td>\n",
       "      <td>0.772</td>\n",
       "      <td>0.726</td>\n",
       "      <td>0.588</td>\n",
       "      <td>0.570</td>\n",
       "    </tr>\n",
       "    <tr>\n",
       "      <th>Prev_tok_wMorpho</th>\n",
       "      <td>0.747</td>\n",
       "      <td>0.722</td>\n",
       "      <td>0.734</td>\n",
       "      <td>0.821</td>\n",
       "      <td>0.781</td>\n",
       "      <td>0.647</td>\n",
       "      <td>0.555</td>\n",
       "    </tr>\n",
       "    <tr>\n",
       "      <th>Prev_tok_Next_wMorpho</th>\n",
       "      <td>0.750</td>\n",
       "      <td>0.728</td>\n",
       "      <td>0.739</td>\n",
       "      <td>0.841</td>\n",
       "      <td>0.797</td>\n",
       "      <td>0.631</td>\n",
       "      <td>0.535</td>\n",
       "    </tr>\n",
       "  </tbody>\n",
       "</table>\n",
       "</div>"
      ],
      "text/plain": [
       "                       total acc  total recall  total F1  PER F1  ORG F1  \\\n",
       "Baseline                   0.707         0.666     0.686   0.769   0.728   \n",
       "Prev_tok                   0.746         0.716     0.731   0.809   0.774   \n",
       "Prev_tok_Next              0.756         0.733     0.745   0.837   0.804   \n",
       "Baseline_wMorpho           0.706         0.668     0.686   0.772   0.726   \n",
       "Prev_tok_wMorpho           0.747         0.722     0.734   0.821   0.781   \n",
       "Prev_tok_Next_wMorpho      0.750         0.728     0.739   0.841   0.797   \n",
       "\n",
       "                       LOC F1  MISC F1  \n",
       "Baseline                0.588    0.573  \n",
       "Prev_tok                0.653    0.558  \n",
       "Prev_tok_Next           0.642    0.544  \n",
       "Baseline_wMorpho        0.588    0.570  \n",
       "Prev_tok_wMorpho        0.647    0.555  \n",
       "Prev_tok_Next_wMorpho   0.631    0.535  "
      ]
     },
     "execution_count": 9,
     "metadata": {},
     "output_type": "execute_result"
    }
   ],
   "source": [
    "model = nltk.tag.CRFTagger(feature_func = Feature_getter(prev_tok = True, next_tok = True, morphology = True, length = False, prefix = False,\n",
    "                           lemma = False, POS = False, shape = False))\n",
    "model.train(train_sents, 'models/model.crf.tagger')\n",
    "\n",
    "pred = model.tag_sents(X_val)\n",
    "results, results_agg_ent = compute_metrics(val_sents, pred)\n",
    "save_results(\"Prev_tok_Next_wMorpho\", results, results_agg_ent, results_df)"
   ]
  },
  {
   "cell_type": "markdown",
   "metadata": {},
   "source": [
    "<span style=\"font-family:Courier New\">As we can see, including Morpohlogy provides a light performance increase in models, so we will leave it and consider the furher exploration of more features. </span>"
   ]
  },
  {
   "cell_type": "markdown",
   "metadata": {},
   "source": [
    "### <span style=\"font-family:Courier New; color:#336633\">**Including the rest of Features**</span>"
   ]
  },
  {
   "cell_type": "markdown",
   "metadata": {},
   "source": [
    "#### <span style=\"font-family:Courier New; color:#994C00\">**Combined with Baseline**</span>"
   ]
  },
  {
   "cell_type": "code",
   "execution_count": 10,
   "metadata": {},
   "outputs": [
    {
     "data": {
      "text/html": [
       "<div>\n",
       "<style scoped>\n",
       "    .dataframe tbody tr th:only-of-type {\n",
       "        vertical-align: middle;\n",
       "    }\n",
       "\n",
       "    .dataframe tbody tr th {\n",
       "        vertical-align: top;\n",
       "    }\n",
       "\n",
       "    .dataframe thead th {\n",
       "        text-align: right;\n",
       "    }\n",
       "</style>\n",
       "<table border=\"1\" class=\"dataframe\">\n",
       "  <thead>\n",
       "    <tr style=\"text-align: right;\">\n",
       "      <th></th>\n",
       "      <th>total acc</th>\n",
       "      <th>total recall</th>\n",
       "      <th>total F1</th>\n",
       "      <th>PER F1</th>\n",
       "      <th>ORG F1</th>\n",
       "      <th>LOC F1</th>\n",
       "      <th>MISC F1</th>\n",
       "    </tr>\n",
       "  </thead>\n",
       "  <tbody>\n",
       "    <tr>\n",
       "      <th>Baseline</th>\n",
       "      <td>0.707</td>\n",
       "      <td>0.666</td>\n",
       "      <td>0.686</td>\n",
       "      <td>0.769</td>\n",
       "      <td>0.728</td>\n",
       "      <td>0.588</td>\n",
       "      <td>0.573</td>\n",
       "    </tr>\n",
       "    <tr>\n",
       "      <th>Prev_tok</th>\n",
       "      <td>0.746</td>\n",
       "      <td>0.716</td>\n",
       "      <td>0.731</td>\n",
       "      <td>0.809</td>\n",
       "      <td>0.774</td>\n",
       "      <td>0.653</td>\n",
       "      <td>0.558</td>\n",
       "    </tr>\n",
       "    <tr>\n",
       "      <th>Prev_tok_Next</th>\n",
       "      <td>0.756</td>\n",
       "      <td>0.733</td>\n",
       "      <td>0.745</td>\n",
       "      <td>0.837</td>\n",
       "      <td>0.804</td>\n",
       "      <td>0.642</td>\n",
       "      <td>0.544</td>\n",
       "    </tr>\n",
       "    <tr>\n",
       "      <th>Baseline_wMorpho</th>\n",
       "      <td>0.706</td>\n",
       "      <td>0.668</td>\n",
       "      <td>0.686</td>\n",
       "      <td>0.772</td>\n",
       "      <td>0.726</td>\n",
       "      <td>0.588</td>\n",
       "      <td>0.570</td>\n",
       "    </tr>\n",
       "    <tr>\n",
       "      <th>Prev_tok_wMorpho</th>\n",
       "      <td>0.747</td>\n",
       "      <td>0.722</td>\n",
       "      <td>0.734</td>\n",
       "      <td>0.821</td>\n",
       "      <td>0.781</td>\n",
       "      <td>0.647</td>\n",
       "      <td>0.555</td>\n",
       "    </tr>\n",
       "    <tr>\n",
       "      <th>Prev_tok_Next_wMorpho</th>\n",
       "      <td>0.750</td>\n",
       "      <td>0.728</td>\n",
       "      <td>0.739</td>\n",
       "      <td>0.841</td>\n",
       "      <td>0.797</td>\n",
       "      <td>0.631</td>\n",
       "      <td>0.535</td>\n",
       "    </tr>\n",
       "    <tr>\n",
       "      <th>Baseline_wAll</th>\n",
       "      <td>0.719</td>\n",
       "      <td>0.691</td>\n",
       "      <td>0.705</td>\n",
       "      <td>0.805</td>\n",
       "      <td>0.756</td>\n",
       "      <td>0.591</td>\n",
       "      <td>0.577</td>\n",
       "    </tr>\n",
       "  </tbody>\n",
       "</table>\n",
       "</div>"
      ],
      "text/plain": [
       "                       total acc  total recall  total F1  PER F1  ORG F1  \\\n",
       "Baseline                   0.707         0.666     0.686   0.769   0.728   \n",
       "Prev_tok                   0.746         0.716     0.731   0.809   0.774   \n",
       "Prev_tok_Next              0.756         0.733     0.745   0.837   0.804   \n",
       "Baseline_wMorpho           0.706         0.668     0.686   0.772   0.726   \n",
       "Prev_tok_wMorpho           0.747         0.722     0.734   0.821   0.781   \n",
       "Prev_tok_Next_wMorpho      0.750         0.728     0.739   0.841   0.797   \n",
       "Baseline_wAll              0.719         0.691     0.705   0.805   0.756   \n",
       "\n",
       "                       LOC F1  MISC F1  \n",
       "Baseline                0.588    0.573  \n",
       "Prev_tok                0.653    0.558  \n",
       "Prev_tok_Next           0.642    0.544  \n",
       "Baseline_wMorpho        0.588    0.570  \n",
       "Prev_tok_wMorpho        0.647    0.555  \n",
       "Prev_tok_Next_wMorpho   0.631    0.535  \n",
       "Baseline_wAll           0.591    0.577  "
      ]
     },
     "execution_count": 10,
     "metadata": {},
     "output_type": "execute_result"
    }
   ],
   "source": [
    "model = nltk.tag.CRFTagger(feature_func = Feature_getter(prev_tok = False, next_tok = False, morphology = True, length = True, prefix = True,\n",
    "                lemma = True, POS = True, shape = True))\n",
    "model.train(train_sents, 'models/model.crf.tagger')\n",
    "\n",
    "pred = model.tag_sents(X_val)\n",
    "results, results_agg_ent = compute_metrics(val_sents, pred)\n",
    "save_results(\"Baseline_wAll\", results, results_agg_ent, results_df)"
   ]
  },
  {
   "cell_type": "markdown",
   "metadata": {},
   "source": [
    "#### <span style=\"font-family:Courier New; color:#994C00\">**Combined with Previous Token**</span>"
   ]
  },
  {
   "cell_type": "code",
   "execution_count": 11,
   "metadata": {},
   "outputs": [
    {
     "data": {
      "text/html": [
       "<div>\n",
       "<style scoped>\n",
       "    .dataframe tbody tr th:only-of-type {\n",
       "        vertical-align: middle;\n",
       "    }\n",
       "\n",
       "    .dataframe tbody tr th {\n",
       "        vertical-align: top;\n",
       "    }\n",
       "\n",
       "    .dataframe thead th {\n",
       "        text-align: right;\n",
       "    }\n",
       "</style>\n",
       "<table border=\"1\" class=\"dataframe\">\n",
       "  <thead>\n",
       "    <tr style=\"text-align: right;\">\n",
       "      <th></th>\n",
       "      <th>total acc</th>\n",
       "      <th>total recall</th>\n",
       "      <th>total F1</th>\n",
       "      <th>PER F1</th>\n",
       "      <th>ORG F1</th>\n",
       "      <th>LOC F1</th>\n",
       "      <th>MISC F1</th>\n",
       "    </tr>\n",
       "  </thead>\n",
       "  <tbody>\n",
       "    <tr>\n",
       "      <th>Baseline</th>\n",
       "      <td>0.707</td>\n",
       "      <td>0.666</td>\n",
       "      <td>0.686</td>\n",
       "      <td>0.769</td>\n",
       "      <td>0.728</td>\n",
       "      <td>0.588</td>\n",
       "      <td>0.573</td>\n",
       "    </tr>\n",
       "    <tr>\n",
       "      <th>Prev_tok</th>\n",
       "      <td>0.746</td>\n",
       "      <td>0.716</td>\n",
       "      <td>0.731</td>\n",
       "      <td>0.809</td>\n",
       "      <td>0.774</td>\n",
       "      <td>0.653</td>\n",
       "      <td>0.558</td>\n",
       "    </tr>\n",
       "    <tr>\n",
       "      <th>Prev_tok_Next</th>\n",
       "      <td>0.756</td>\n",
       "      <td>0.733</td>\n",
       "      <td>0.745</td>\n",
       "      <td>0.837</td>\n",
       "      <td>0.804</td>\n",
       "      <td>0.642</td>\n",
       "      <td>0.544</td>\n",
       "    </tr>\n",
       "    <tr>\n",
       "      <th>Baseline_wMorpho</th>\n",
       "      <td>0.706</td>\n",
       "      <td>0.668</td>\n",
       "      <td>0.686</td>\n",
       "      <td>0.772</td>\n",
       "      <td>0.726</td>\n",
       "      <td>0.588</td>\n",
       "      <td>0.570</td>\n",
       "    </tr>\n",
       "    <tr>\n",
       "      <th>Prev_tok_wMorpho</th>\n",
       "      <td>0.747</td>\n",
       "      <td>0.722</td>\n",
       "      <td>0.734</td>\n",
       "      <td>0.821</td>\n",
       "      <td>0.781</td>\n",
       "      <td>0.647</td>\n",
       "      <td>0.555</td>\n",
       "    </tr>\n",
       "    <tr>\n",
       "      <th>Prev_tok_Next_wMorpho</th>\n",
       "      <td>0.750</td>\n",
       "      <td>0.728</td>\n",
       "      <td>0.739</td>\n",
       "      <td>0.841</td>\n",
       "      <td>0.797</td>\n",
       "      <td>0.631</td>\n",
       "      <td>0.535</td>\n",
       "    </tr>\n",
       "    <tr>\n",
       "      <th>Baseline_wAll</th>\n",
       "      <td>0.719</td>\n",
       "      <td>0.691</td>\n",
       "      <td>0.705</td>\n",
       "      <td>0.805</td>\n",
       "      <td>0.756</td>\n",
       "      <td>0.591</td>\n",
       "      <td>0.577</td>\n",
       "    </tr>\n",
       "    <tr>\n",
       "      <th>Prev_tok_wAll</th>\n",
       "      <td>0.748</td>\n",
       "      <td>0.733</td>\n",
       "      <td>0.740</td>\n",
       "      <td>0.850</td>\n",
       "      <td>0.790</td>\n",
       "      <td>0.641</td>\n",
       "      <td>0.551</td>\n",
       "    </tr>\n",
       "  </tbody>\n",
       "</table>\n",
       "</div>"
      ],
      "text/plain": [
       "                       total acc  total recall  total F1  PER F1  ORG F1  \\\n",
       "Baseline                   0.707         0.666     0.686   0.769   0.728   \n",
       "Prev_tok                   0.746         0.716     0.731   0.809   0.774   \n",
       "Prev_tok_Next              0.756         0.733     0.745   0.837   0.804   \n",
       "Baseline_wMorpho           0.706         0.668     0.686   0.772   0.726   \n",
       "Prev_tok_wMorpho           0.747         0.722     0.734   0.821   0.781   \n",
       "Prev_tok_Next_wMorpho      0.750         0.728     0.739   0.841   0.797   \n",
       "Baseline_wAll              0.719         0.691     0.705   0.805   0.756   \n",
       "Prev_tok_wAll              0.748         0.733     0.740   0.850   0.790   \n",
       "\n",
       "                       LOC F1  MISC F1  \n",
       "Baseline                0.588    0.573  \n",
       "Prev_tok                0.653    0.558  \n",
       "Prev_tok_Next           0.642    0.544  \n",
       "Baseline_wMorpho        0.588    0.570  \n",
       "Prev_tok_wMorpho        0.647    0.555  \n",
       "Prev_tok_Next_wMorpho   0.631    0.535  \n",
       "Baseline_wAll           0.591    0.577  \n",
       "Prev_tok_wAll           0.641    0.551  "
      ]
     },
     "execution_count": 11,
     "metadata": {},
     "output_type": "execute_result"
    }
   ],
   "source": [
    "model = nltk.tag.CRFTagger(feature_func = Feature_getter(prev_tok = True, next_tok = False, morphology = True, length = True, prefix = True,\n",
    "                lemma = True, POS = True, shape = True))\n",
    "model.train(train_sents, 'models/model.crf.tagger')\n",
    "\n",
    "pred = model.tag_sents(X_val)\n",
    "results, results_agg_ent = compute_metrics(val_sents, pred)\n",
    "save_results(\"Prev_tok_wAll\", results, results_agg_ent, results_df)"
   ]
  },
  {
   "cell_type": "markdown",
   "metadata": {},
   "source": [
    "#### <span style=\"font-family:Courier New; color:#994C00\">**Combined with Previous and Next Tokens**</span>"
   ]
  },
  {
   "cell_type": "code",
   "execution_count": 12,
   "metadata": {},
   "outputs": [
    {
     "data": {
      "text/html": [
       "<div>\n",
       "<style scoped>\n",
       "    .dataframe tbody tr th:only-of-type {\n",
       "        vertical-align: middle;\n",
       "    }\n",
       "\n",
       "    .dataframe tbody tr th {\n",
       "        vertical-align: top;\n",
       "    }\n",
       "\n",
       "    .dataframe thead th {\n",
       "        text-align: right;\n",
       "    }\n",
       "</style>\n",
       "<table border=\"1\" class=\"dataframe\">\n",
       "  <thead>\n",
       "    <tr style=\"text-align: right;\">\n",
       "      <th></th>\n",
       "      <th>total acc</th>\n",
       "      <th>total recall</th>\n",
       "      <th>total F1</th>\n",
       "      <th>PER F1</th>\n",
       "      <th>ORG F1</th>\n",
       "      <th>LOC F1</th>\n",
       "      <th>MISC F1</th>\n",
       "    </tr>\n",
       "  </thead>\n",
       "  <tbody>\n",
       "    <tr>\n",
       "      <th>Baseline</th>\n",
       "      <td>0.707</td>\n",
       "      <td>0.666</td>\n",
       "      <td>0.686</td>\n",
       "      <td>0.769</td>\n",
       "      <td>0.728</td>\n",
       "      <td>0.588</td>\n",
       "      <td>0.573</td>\n",
       "    </tr>\n",
       "    <tr>\n",
       "      <th>Prev_tok</th>\n",
       "      <td>0.746</td>\n",
       "      <td>0.716</td>\n",
       "      <td>0.731</td>\n",
       "      <td>0.809</td>\n",
       "      <td>0.774</td>\n",
       "      <td>0.653</td>\n",
       "      <td>0.558</td>\n",
       "    </tr>\n",
       "    <tr>\n",
       "      <th>Prev_tok_Next</th>\n",
       "      <td>0.756</td>\n",
       "      <td>0.733</td>\n",
       "      <td>0.745</td>\n",
       "      <td>0.837</td>\n",
       "      <td>0.804</td>\n",
       "      <td>0.642</td>\n",
       "      <td>0.544</td>\n",
       "    </tr>\n",
       "    <tr>\n",
       "      <th>Baseline_wMorpho</th>\n",
       "      <td>0.706</td>\n",
       "      <td>0.668</td>\n",
       "      <td>0.686</td>\n",
       "      <td>0.772</td>\n",
       "      <td>0.726</td>\n",
       "      <td>0.588</td>\n",
       "      <td>0.570</td>\n",
       "    </tr>\n",
       "    <tr>\n",
       "      <th>Prev_tok_wMorpho</th>\n",
       "      <td>0.747</td>\n",
       "      <td>0.722</td>\n",
       "      <td>0.734</td>\n",
       "      <td>0.821</td>\n",
       "      <td>0.781</td>\n",
       "      <td>0.647</td>\n",
       "      <td>0.555</td>\n",
       "    </tr>\n",
       "    <tr>\n",
       "      <th>Prev_tok_Next_wMorpho</th>\n",
       "      <td>0.750</td>\n",
       "      <td>0.728</td>\n",
       "      <td>0.739</td>\n",
       "      <td>0.841</td>\n",
       "      <td>0.797</td>\n",
       "      <td>0.631</td>\n",
       "      <td>0.535</td>\n",
       "    </tr>\n",
       "    <tr>\n",
       "      <th>Baseline_wAll</th>\n",
       "      <td>0.719</td>\n",
       "      <td>0.691</td>\n",
       "      <td>0.705</td>\n",
       "      <td>0.805</td>\n",
       "      <td>0.756</td>\n",
       "      <td>0.591</td>\n",
       "      <td>0.577</td>\n",
       "    </tr>\n",
       "    <tr>\n",
       "      <th>Prev_tok_wAll</th>\n",
       "      <td>0.748</td>\n",
       "      <td>0.733</td>\n",
       "      <td>0.740</td>\n",
       "      <td>0.850</td>\n",
       "      <td>0.790</td>\n",
       "      <td>0.641</td>\n",
       "      <td>0.551</td>\n",
       "    </tr>\n",
       "    <tr>\n",
       "      <th>Prev_tok_Next_wAll</th>\n",
       "      <td>0.753</td>\n",
       "      <td>0.739</td>\n",
       "      <td>0.746</td>\n",
       "      <td>0.858</td>\n",
       "      <td>0.799</td>\n",
       "      <td>0.636</td>\n",
       "      <td>0.567</td>\n",
       "    </tr>\n",
       "  </tbody>\n",
       "</table>\n",
       "</div>"
      ],
      "text/plain": [
       "                       total acc  total recall  total F1  PER F1  ORG F1  \\\n",
       "Baseline                   0.707         0.666     0.686   0.769   0.728   \n",
       "Prev_tok                   0.746         0.716     0.731   0.809   0.774   \n",
       "Prev_tok_Next              0.756         0.733     0.745   0.837   0.804   \n",
       "Baseline_wMorpho           0.706         0.668     0.686   0.772   0.726   \n",
       "Prev_tok_wMorpho           0.747         0.722     0.734   0.821   0.781   \n",
       "Prev_tok_Next_wMorpho      0.750         0.728     0.739   0.841   0.797   \n",
       "Baseline_wAll              0.719         0.691     0.705   0.805   0.756   \n",
       "Prev_tok_wAll              0.748         0.733     0.740   0.850   0.790   \n",
       "Prev_tok_Next_wAll         0.753         0.739     0.746   0.858   0.799   \n",
       "\n",
       "                       LOC F1  MISC F1  \n",
       "Baseline                0.588    0.573  \n",
       "Prev_tok                0.653    0.558  \n",
       "Prev_tok_Next           0.642    0.544  \n",
       "Baseline_wMorpho        0.588    0.570  \n",
       "Prev_tok_wMorpho        0.647    0.555  \n",
       "Prev_tok_Next_wMorpho   0.631    0.535  \n",
       "Baseline_wAll           0.591    0.577  \n",
       "Prev_tok_wAll           0.641    0.551  \n",
       "Prev_tok_Next_wAll      0.636    0.567  "
      ]
     },
     "execution_count": 12,
     "metadata": {},
     "output_type": "execute_result"
    }
   ],
   "source": [
    "model = nltk.tag.CRFTagger(feature_func = Feature_getter(prev_tok = True, next_tok = True, morphology = True, length = True, prefix = True,\n",
    "                lemma = True, POS = True, shape = True))\n",
    "model.train(train_sents, 'models/model.crf.tagger')\n",
    "\n",
    "pred = model.tag_sents(X_val)\n",
    "results, results_agg_ent = compute_metrics(val_sents, pred)\n",
    "save_results(\"Prev_tok_Next_wAll\", results, results_agg_ent, results_df)"
   ]
  },
  {
   "cell_type": "markdown",
   "metadata": {},
   "source": [
    "<span style=\"font-family:Courier New\">At this point, we can see how every change that we made has increased the F1. We will then mantain all features to make the model performance increase severely. </span>"
   ]
  },
  {
   "cell_type": "markdown",
   "metadata": {},
   "source": [
    "## <span style=\"font-family:Courier New; color:#336666\">**Hiperparameters selection**</span>"
   ]
  },
  {
   "cell_type": "markdown",
   "metadata": {},
   "source": [
    "### <span style=\"font-family:Courier New; color:#336633\">**Best model for Base Features**</span>"
   ]
  },
  {
   "cell_type": "markdown",
   "metadata": {},
   "source": [
    "<span style=\"font-family:Courier New\">First, we will perform the search with base features, since the runtime of training with all features is considerably bigger. Thus, we base this simplificaton on the assumption that the hiperparameters doesn't have distinct interactions among the different features. </span>"
   ]
  },
  {
   "cell_type": "code",
   "execution_count": 8,
   "metadata": {},
   "outputs": [],
   "source": [
    "hyperparameters = {\n",
    "    'c1': [0.01, 0.1, 1.0],\n",
    "    'c2': [0.01, 0.1, 1.0],\n",
    "    'max_iterations': [50, 100, 200]\n",
    "}"
   ]
  },
  {
   "cell_type": "code",
   "execution_count": null,
   "metadata": {},
   "outputs": [],
   "source": [
    "def gridsearch_cv(hyperparameters, train_sents, val_sents, X_val):\n",
    "\n",
    "    results_df = pd.DataFrame(columns = ['c1', 'c2', 'max_iterations', 'F1-score'])\n",
    "    best_f1, best_params = 0, dict()\n",
    "    num_combinations = len(hyperparameters['c1']) * len(hyperparameters['c2']) * len(hyperparameters['max_iterations'])\n",
    "    current_combination = 0\n",
    "    for c1 in hyperparameters['c1']:\n",
    "        for c2 in hyperparameters['c2']:\n",
    "            for max_iter in hyperparameters['max_iterations']:\n",
    "                current_combination += 1\n",
    "                print(f'Fitting model {current_combination} of {num_combinations}', end = '\\r')\n",
    "                model = nltk.tag.CRFTagger(training_opt = {'c1': c1, 'c2': c2, 'max_iterations': max_iter})\n",
    "                model.train(train_sents, 'models/model.crf.tagger')\n",
    "\n",
    "                pred = model.tag_sents(X_val)\n",
    "                results, _ = compute_metrics(val_sents, pred)\n",
    "                results_df.loc[len(results_df)] = [c1, c2, max_iter, results['F1-score']]\n",
    "                if results['F1-score'] > best_f1:\n",
    "                    best_f1 = results['F1-score']\n",
    "                    best_params = {'c1': c1, 'c2': c2, 'max_iterations': max_iter}\n",
    "\n",
    "    return best_f1, best_params, results_df\n",
    "\n",
    "best, best_params, results_df = gridsearch_cv(hyperparameters, train_sents, val_sents, X_val)"
   ]
  },
  {
   "cell_type": "code",
   "execution_count": 21,
   "metadata": {},
   "outputs": [
    {
     "data": {
      "text/html": [
       "<div>\n",
       "<style scoped>\n",
       "    .dataframe tbody tr th:only-of-type {\n",
       "        vertical-align: middle;\n",
       "    }\n",
       "\n",
       "    .dataframe tbody tr th {\n",
       "        vertical-align: top;\n",
       "    }\n",
       "\n",
       "    .dataframe thead th {\n",
       "        text-align: right;\n",
       "    }\n",
       "</style>\n",
       "<table border=\"1\" class=\"dataframe\">\n",
       "  <thead>\n",
       "    <tr style=\"text-align: right;\">\n",
       "      <th></th>\n",
       "      <th>c1</th>\n",
       "      <th>c2</th>\n",
       "      <th>max_iterations</th>\n",
       "      <th>F1-score</th>\n",
       "    </tr>\n",
       "  </thead>\n",
       "  <tbody>\n",
       "    <tr>\n",
       "      <th>5</th>\n",
       "      <td>0.01</td>\n",
       "      <td>0.10</td>\n",
       "      <td>200.0</td>\n",
       "      <td>0.716</td>\n",
       "    </tr>\n",
       "    <tr>\n",
       "      <th>4</th>\n",
       "      <td>0.01</td>\n",
       "      <td>0.10</td>\n",
       "      <td>100.0</td>\n",
       "      <td>0.714</td>\n",
       "    </tr>\n",
       "    <tr>\n",
       "      <th>11</th>\n",
       "      <td>0.10</td>\n",
       "      <td>0.01</td>\n",
       "      <td>200.0</td>\n",
       "      <td>0.713</td>\n",
       "    </tr>\n",
       "    <tr>\n",
       "      <th>13</th>\n",
       "      <td>0.10</td>\n",
       "      <td>0.10</td>\n",
       "      <td>100.0</td>\n",
       "      <td>0.712</td>\n",
       "    </tr>\n",
       "    <tr>\n",
       "      <th>14</th>\n",
       "      <td>0.10</td>\n",
       "      <td>0.10</td>\n",
       "      <td>200.0</td>\n",
       "      <td>0.710</td>\n",
       "    </tr>\n",
       "  </tbody>\n",
       "</table>\n",
       "</div>"
      ],
      "text/plain": [
       "      c1    c2  max_iterations  F1-score\n",
       "5   0.01  0.10           200.0     0.716\n",
       "4   0.01  0.10           100.0     0.714\n",
       "11  0.10  0.01           200.0     0.713\n",
       "13  0.10  0.10           100.0     0.712\n",
       "14  0.10  0.10           200.0     0.710"
      ]
     },
     "execution_count": 21,
     "metadata": {},
     "output_type": "execute_result"
    }
   ],
   "source": [
    "results_df.sort_values(by = 'F1-score', ascending = False).head(5)"
   ]
  },
  {
   "cell_type": "code",
   "execution_count": 25,
   "metadata": {},
   "outputs": [
    {
     "data": {
      "text/plain": [
       "{'c1': 0.01, 'c2': 0.1, 'max_iterations': 200}"
      ]
     },
     "execution_count": 25,
     "metadata": {},
     "output_type": "execute_result"
    }
   ],
   "source": [
    "best_params"
   ]
  },
  {
   "cell_type": "markdown",
   "metadata": {},
   "source": [
    "<span style=\"font-family:Courier New\">To finish, lets complete the best combination of training hyperparameters:\n",
    "- **feature.minfreq** -> Minimum frequency of features.\n",
    "- **feature.possible_states** -> Force to generate possible state features.\n",
    "-  **feature.possible_transitions** -> Force to generate possible transition features. </span>"
   ]
  },
  {
   "cell_type": "code",
   "execution_count": 1,
   "metadata": {},
   "outputs": [],
   "source": [
    "hyperparameters = {\n",
    "    'feature.possible_transitions': [True, False],\n",
    "    'feature.possible_states': [True, False],\n",
    "    'feature.minfreq': [0, 5, 10, 15]\n",
    "}"
   ]
  },
  {
   "cell_type": "code",
   "execution_count": 5,
   "metadata": {},
   "outputs": [
    {
     "name": "stdout",
     "output_type": "stream",
     "text": [
      "Fitting model 16 of 16\r"
     ]
    }
   ],
   "source": [
    "def last_gridsearch_cv(hyperparameters, train_sents, val_sents, X_val):\n",
    "\n",
    "    results_df = pd.DataFrame(columns = ['poss_transitions', 'poss_states', 'min_freq', 'F1-score'])\n",
    "    best_f1, best_params = 0, dict()\n",
    "    num_combinations = len(hyperparameters['feature.possible_transitions']) * len(hyperparameters['feature.possible_states']) * len(hyperparameters['feature.minfreq'])\n",
    "    current_combination = 0\n",
    "    for trans in hyperparameters['feature.possible_transitions']:\n",
    "        for states in hyperparameters['feature.possible_states']:\n",
    "            for min_freq in hyperparameters['feature.minfreq']:\n",
    "                current_combination += 1\n",
    "                print(f'Fitting model {current_combination} of {num_combinations}', end = '\\r')\n",
    "                model = nltk.tag.CRFTagger(training_opt = {'c1': 0.01, 'c2': 0.1, 'max_iterations': 200, 'feature.possible_transitions': trans,\n",
    "                                                            'feature.possible_states': states, 'feature.minfreq': min_freq})\n",
    "                model.train(train_sents, 'models/model.crf.tagger')\n",
    "\n",
    "                pred = model.tag_sents(X_val)\n",
    "                results, _ = compute_metrics(val_sents, pred)\n",
    "                results_df.loc[len(results_df)] = [trans, states, min_freq, results['F1-score']]\n",
    "                if results['F1-score'] > best_f1:\n",
    "                    best_f1 = results['F1-score']\n",
    "                    best_params = {'feature.possible_transitions': trans, 'feature.possible_states': states, 'feature.minfreq': min_freq}\n",
    "\n",
    "    return best_f1, best_params, results_df\n",
    "\n",
    "best_complete, best_params_complete, results_df_complete = last_gridsearch_cv(hyperparameters, train_sents, val_sents, X_val)"
   ]
  },
  {
   "cell_type": "code",
   "execution_count": 6,
   "metadata": {},
   "outputs": [
    {
     "data": {
      "text/html": [
       "<div>\n",
       "<style scoped>\n",
       "    .dataframe tbody tr th:only-of-type {\n",
       "        vertical-align: middle;\n",
       "    }\n",
       "\n",
       "    .dataframe tbody tr th {\n",
       "        vertical-align: top;\n",
       "    }\n",
       "\n",
       "    .dataframe thead th {\n",
       "        text-align: right;\n",
       "    }\n",
       "</style>\n",
       "<table border=\"1\" class=\"dataframe\">\n",
       "  <thead>\n",
       "    <tr style=\"text-align: right;\">\n",
       "      <th></th>\n",
       "      <th>poss_transitions</th>\n",
       "      <th>poss_states</th>\n",
       "      <th>min_freq</th>\n",
       "      <th>F1-score</th>\n",
       "    </tr>\n",
       "  </thead>\n",
       "  <tbody>\n",
       "    <tr>\n",
       "      <th>0</th>\n",
       "      <td>True</td>\n",
       "      <td>True</td>\n",
       "      <td>0</td>\n",
       "      <td>0.717</td>\n",
       "    </tr>\n",
       "    <tr>\n",
       "      <th>12</th>\n",
       "      <td>False</td>\n",
       "      <td>False</td>\n",
       "      <td>0</td>\n",
       "      <td>0.716</td>\n",
       "    </tr>\n",
       "    <tr>\n",
       "      <th>4</th>\n",
       "      <td>True</td>\n",
       "      <td>False</td>\n",
       "      <td>0</td>\n",
       "      <td>0.713</td>\n",
       "    </tr>\n",
       "    <tr>\n",
       "      <th>8</th>\n",
       "      <td>False</td>\n",
       "      <td>True</td>\n",
       "      <td>0</td>\n",
       "      <td>0.712</td>\n",
       "    </tr>\n",
       "    <tr>\n",
       "      <th>1</th>\n",
       "      <td>True</td>\n",
       "      <td>True</td>\n",
       "      <td>5</td>\n",
       "      <td>0.664</td>\n",
       "    </tr>\n",
       "  </tbody>\n",
       "</table>\n",
       "</div>"
      ],
      "text/plain": [
       "    poss_transitions  poss_states  min_freq  F1-score\n",
       "0               True         True         0     0.717\n",
       "12             False        False         0     0.716\n",
       "4               True        False         0     0.713\n",
       "8              False         True         0     0.712\n",
       "1               True         True         5     0.664"
      ]
     },
     "execution_count": 6,
     "metadata": {},
     "output_type": "execute_result"
    }
   ],
   "source": [
    "results_df_complete.sort_values(by = 'F1-score', ascending = False).head(5)"
   ]
  },
  {
   "cell_type": "markdown",
   "metadata": {},
   "source": [
    "<span style=\"font-family:Courier New\">The search suggests that best hyperparamaters for CRF.Tagger default feature getter are: {'c1': 0.01, 'c2': 0.1, 'max_iterations': 200, 'possible_transitions': True, 'possible_states': True, 'min_freq' = 0}. </span>"
   ]
  },
  {
   "cell_type": "markdown",
   "metadata": {},
   "source": [
    "### <span style=\"font-family:Courier New; color:#336633\">**Best Model for Feature Selection**</span>"
   ]
  },
  {
   "cell_type": "markdown",
   "metadata": {},
   "source": [
    "<span style=\"font-family:Courier New\">Now, let's try with the model that combines previous token, next token and the rest of Features. </span>"
   ]
  },
  {
   "cell_type": "code",
   "execution_count": 9,
   "metadata": {},
   "outputs": [
    {
     "name": "stdout",
     "output_type": "stream",
     "text": [
      "Fitting model 9 of 9\r"
     ]
    }
   ],
   "source": [
    "def gridsearch_cv_wFeatures(hyperparameters, train_sents, val_sents, X_val):\n",
    "\n",
    "    results_df = pd.DataFrame(columns = ['c1', 'c2', 'max_iterations', 'F1-score'])\n",
    "    best_f1, best_params = 0, dict()\n",
    "    num_combinations = len(hyperparameters['c1']) * len(hyperparameters['c2']) * len(hyperparameters['max_iterations'])\n",
    "    current_combination = 0\n",
    "    for c1 in hyperparameters['c1']:\n",
    "        for c2 in hyperparameters['c2']:\n",
    "            for max_iter in hyperparameters['max_iterations']:\n",
    "                current_combination += 1\n",
    "                print(f'Fitting model {current_combination} of {num_combinations}', end = '\\r')\n",
    "                model = nltk.tag.CRFTagger(feature_func= Feature_getter(), training_opt = {'c1': c1, 'c2': c2, 'max_iterations': max_iter})\n",
    "                model.train(train_sents, 'models/model.crf.tagger')\n",
    "\n",
    "                pred = model.tag_sents(X_val)\n",
    "                results, _ = compute_metrics(val_sents, pred)\n",
    "                results_df.loc[len(results_df)] = [c1, c2, max_iter, results['F1-score']]\n",
    "                if results['F1-score'] > best_f1:\n",
    "                    best_f1 = results['F1-score']\n",
    "                    best_params = {'c1': c1, 'c2': c2, 'max_iterations': max_iter}\n",
    "\n",
    "    return best_f1, best_params, results_df\n",
    "\n",
    "best_wFeatures, best_params_w_Features, results_df_wFeatures = gridsearch_cv_wFeatures(hyperparameters, train_sents, val_sents, X_val)"
   ]
  },
  {
   "cell_type": "code",
   "execution_count": 10,
   "metadata": {},
   "outputs": [
    {
     "data": {
      "text/html": [
       "<div>\n",
       "<style scoped>\n",
       "    .dataframe tbody tr th:only-of-type {\n",
       "        vertical-align: middle;\n",
       "    }\n",
       "\n",
       "    .dataframe tbody tr th {\n",
       "        vertical-align: top;\n",
       "    }\n",
       "\n",
       "    .dataframe thead th {\n",
       "        text-align: right;\n",
       "    }\n",
       "</style>\n",
       "<table border=\"1\" class=\"dataframe\">\n",
       "  <thead>\n",
       "    <tr style=\"text-align: right;\">\n",
       "      <th></th>\n",
       "      <th>c1</th>\n",
       "      <th>c2</th>\n",
       "      <th>max_iterations</th>\n",
       "      <th>F1-score</th>\n",
       "    </tr>\n",
       "  </thead>\n",
       "  <tbody>\n",
       "    <tr>\n",
       "      <th>2</th>\n",
       "      <td>0.01</td>\n",
       "      <td>1.00</td>\n",
       "      <td>200.0</td>\n",
       "      <td>0.749</td>\n",
       "    </tr>\n",
       "    <tr>\n",
       "      <th>4</th>\n",
       "      <td>0.10</td>\n",
       "      <td>0.10</td>\n",
       "      <td>200.0</td>\n",
       "      <td>0.748</td>\n",
       "    </tr>\n",
       "    <tr>\n",
       "      <th>1</th>\n",
       "      <td>0.01</td>\n",
       "      <td>0.10</td>\n",
       "      <td>200.0</td>\n",
       "      <td>0.746</td>\n",
       "    </tr>\n",
       "    <tr>\n",
       "      <th>3</th>\n",
       "      <td>0.10</td>\n",
       "      <td>0.01</td>\n",
       "      <td>200.0</td>\n",
       "      <td>0.745</td>\n",
       "    </tr>\n",
       "    <tr>\n",
       "      <th>5</th>\n",
       "      <td>0.10</td>\n",
       "      <td>1.00</td>\n",
       "      <td>200.0</td>\n",
       "      <td>0.744</td>\n",
       "    </tr>\n",
       "  </tbody>\n",
       "</table>\n",
       "</div>"
      ],
      "text/plain": [
       "     c1    c2  max_iterations  F1-score\n",
       "2  0.01  1.00           200.0     0.749\n",
       "4  0.10  0.10           200.0     0.748\n",
       "1  0.01  0.10           200.0     0.746\n",
       "3  0.10  0.01           200.0     0.745\n",
       "5  0.10  1.00           200.0     0.744"
      ]
     },
     "execution_count": 10,
     "metadata": {},
     "output_type": "execute_result"
    }
   ],
   "source": [
    "results_df_wFeatures.sort_values(by = 'F1-score', ascending = False).head(5)"
   ]
  },
  {
   "cell_type": "code",
   "execution_count": 4,
   "metadata": {},
   "outputs": [],
   "source": [
    "hyperparameters_custom = {'c1':0.01, 'c2': 1, 'max_iterations': 200}"
   ]
  },
  {
   "cell_type": "code",
   "execution_count": 5,
   "metadata": {},
   "outputs": [
    {
     "name": "stdout",
     "output_type": "stream",
     "text": [
      "Fitting model 4 of 4\r"
     ]
    }
   ],
   "source": [
    "def last_gridsearch_cv(hyperparameters, train_sents, val_sents, X_val):\n",
    "\n",
    "    results_df = pd.DataFrame(columns = ['poss_transitions', 'poss_states', 'min_freq', 'F1-score'])\n",
    "    best_f1, best_params = 0, dict()\n",
    "    num_combinations = len(hyperparameters['feature.possible_transitions']) * len(hyperparameters['feature.possible_states']) * len(hyperparameters['feature.minfreq'])\n",
    "    current_combination = 0\n",
    "    for trans in hyperparameters['feature.possible_transitions']:\n",
    "        for states in hyperparameters['feature.possible_states']:\n",
    "            for min_freq in hyperparameters['feature.minfreq']:\n",
    "                current_combination += 1\n",
    "                print(f'Fitting model {current_combination} of {num_combinations}', end = '\\r')\n",
    "                model = nltk.tag.CRFTagger(feature_func= Feature_getter(), training_opt = {'c1': 0.01, 'c2': 1, 'max_iterations': 200, 'feature.possible_transitions': trans,\n",
    "                                                                        'feature.possible_states': states, 'feature.minfreq': min_freq})\n",
    "                model.train(train_sents, 'models/model.crf.tagger')\n",
    "\n",
    "                pred = model.tag_sents(X_val)\n",
    "                results, _ = compute_metrics(val_sents, pred)\n",
    "                results_df.loc[len(results_df)] = [trans, states, min_freq, results['F1-score']]\n",
    "                if results['F1-score'] > best_f1:\n",
    "                    best_f1 = results['F1-score']\n",
    "                    best_params = {'feature.possible_transitions': trans, 'feature.possible_states': states, 'feature.minfreq': min_freq}\n",
    "\n",
    "    return best_f1, best_params, results_df\n",
    "\n",
    "best_complete, best_params_complete, results_df_complete = last_gridsearch_cv(hyperparameters, train_sents, val_sents, X_val)"
   ]
  },
  {
   "cell_type": "code",
   "execution_count": 6,
   "metadata": {},
   "outputs": [
    {
     "data": {
      "text/html": [
       "<div>\n",
       "<style scoped>\n",
       "    .dataframe tbody tr th:only-of-type {\n",
       "        vertical-align: middle;\n",
       "    }\n",
       "\n",
       "    .dataframe tbody tr th {\n",
       "        vertical-align: top;\n",
       "    }\n",
       "\n",
       "    .dataframe thead th {\n",
       "        text-align: right;\n",
       "    }\n",
       "</style>\n",
       "<table border=\"1\" class=\"dataframe\">\n",
       "  <thead>\n",
       "    <tr style=\"text-align: right;\">\n",
       "      <th></th>\n",
       "      <th>poss_transitions</th>\n",
       "      <th>poss_states</th>\n",
       "      <th>min_freq</th>\n",
       "      <th>F1-score</th>\n",
       "    </tr>\n",
       "  </thead>\n",
       "  <tbody>\n",
       "    <tr>\n",
       "      <th>2</th>\n",
       "      <td>False</td>\n",
       "      <td>True</td>\n",
       "      <td>0</td>\n",
       "      <td>0.756</td>\n",
       "    </tr>\n",
       "    <tr>\n",
       "      <th>0</th>\n",
       "      <td>True</td>\n",
       "      <td>True</td>\n",
       "      <td>0</td>\n",
       "      <td>0.753</td>\n",
       "    </tr>\n",
       "    <tr>\n",
       "      <th>3</th>\n",
       "      <td>False</td>\n",
       "      <td>False</td>\n",
       "      <td>0</td>\n",
       "      <td>0.749</td>\n",
       "    </tr>\n",
       "    <tr>\n",
       "      <th>1</th>\n",
       "      <td>True</td>\n",
       "      <td>False</td>\n",
       "      <td>0</td>\n",
       "      <td>0.747</td>\n",
       "    </tr>\n",
       "  </tbody>\n",
       "</table>\n",
       "</div>"
      ],
      "text/plain": [
       "   poss_transitions  poss_states  min_freq  F1-score\n",
       "2             False         True         0     0.756\n",
       "0              True         True         0     0.753\n",
       "3             False        False         0     0.749\n",
       "1              True        False         0     0.747"
      ]
     },
     "execution_count": 6,
     "metadata": {},
     "output_type": "execute_result"
    }
   ],
   "source": [
    "results_df_complete.sort_values(by = 'F1-score', ascending = False).head(5)"
   ]
  },
  {
   "cell_type": "markdown",
   "metadata": {},
   "source": [
    "<span style=\"font-family:Courier New\">The search suggests that best hyperparamaters for CRF.Tagger with customed and optimized feature getter are: {'c1': 0.01, 'c2': 1, 'max_iterations': 200, 'possible_transitions': False, 'possible_states': True, 'min_freq' = 0}. </span>"
   ]
  },
  {
   "cell_type": "markdown",
   "metadata": {},
   "source": [
    "<div class=\"alert alert-block alert-success\"> \n",
    "<b>Conclusion:</b>  We can see that we improved greatly the F1 achieved by the default with the addition of our custom features. That said, <b>we will see how it works on the test split on notebook test<b>.\n",
    "</div>"
   ]
  }
 ],
 "metadata": {
  "kernelspec": {
   "display_name": "Python 3",
   "language": "python",
   "name": "python3"
  },
  "language_info": {
   "codemirror_mode": {
    "name": "ipython",
    "version": 3
   },
   "file_extension": ".py",
   "mimetype": "text/x-python",
   "name": "python",
   "nbconvert_exporter": "python",
   "pygments_lexer": "ipython3",
   "version": "3.11.9"
  }
 },
 "nbformat": 4,
 "nbformat_minor": 2
}
